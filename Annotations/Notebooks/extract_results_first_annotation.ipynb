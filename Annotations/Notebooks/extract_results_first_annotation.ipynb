{
 "cells": [
  {
   "cell_type": "code",
   "execution_count": 9,
   "id": "acting-developer",
   "metadata": {},
   "outputs": [],
   "source": [
    "#import\n",
    "import glob\n",
    "import spacy\n",
    "import jsonlines\n",
    "import json\n",
    "import pandas as pd\n",
    "nlp = spacy.load(\"en_core_web_lg\")"
   ]
  },
  {
   "cell_type": "code",
   "execution_count": 4,
   "id": "greek-interview",
   "metadata": {},
   "outputs": [],
   "source": [
    "#Hente ut tekst, frase, klasse, dokumentnavn\n",
    "#Text, phrase/word, class, legislation\n",
    "for filepath in glob.iglob(r'.\\*.jsonl'):\n",
    "    doc_name = filepath.strip('.\\\\')\n",
    "    text_file = open(doc_name, 'r', encoding='utf-8')\n",
    "    text = text_file.read()\n",
    "    df = pd.read_json(text, encoding='utf-8', lines=True)\n",
    "    "
   ]
  },
  {
   "cell_type": "code",
   "execution_count": 10,
   "id": "excellent-japan",
   "metadata": {},
   "outputs": [],
   "source": [
    "def get_token(text, start, end):\n",
    "    doc = nlp(text)\n",
    "    span = doc.char_span(start, end)\n",
    "    return(span.text)"
   ]
  },
  {
   "cell_type": "code",
   "execution_count": 38,
   "id": "simplified-protocol",
   "metadata": {},
   "outputs": [],
   "source": [
    "list_for_v = []\n",
    "jsonl_file = 'results_first_annotation.jsonl'\n",
    "with jsonlines.open(jsonl_file, mode='w') as writer:\n",
    "    for index, row in df.iterrows():\n",
    "        if row['answer'] == 'accept':\n",
    "            text = row['text']\n",
    "            spans = row['spans']\n",
    "            for this_line in spans:\n",
    "                start = this_line['start']\n",
    "                end = this_line['end']\n",
    "                token = get_token(text, start, end)\n",
    "                label = this_line['label'].lstrip()\n",
    "                to_list = json.dumps({'text' : text, 'word/phrase' : token, 'class' : label})\n",
    "                to_list = json.loads(to_list)\n",
    "                writer.write(to_list)\n",
    "\n",
    "df_v = pd.read_json(jsonl_file, encoding='utf-8', lines=True)\n"
   ]
  },
  {
   "cell_type": "code",
   "execution_count": 41,
   "id": "elect-saturn",
   "metadata": {},
   "outputs": [],
   "source": [
    "df_v.to_csv('results_first_annotation.csv', index=False)  "
   ]
  },
  {
   "cell_type": "code",
   "execution_count": null,
   "id": "supported-competition",
   "metadata": {},
   "outputs": [],
   "source": []
  }
 ],
 "metadata": {
  "kernelspec": {
   "display_name": "Python 3",
   "language": "python",
   "name": "python3"
  },
  "language_info": {
   "codemirror_mode": {
    "name": "ipython",
    "version": 3
   },
   "file_extension": ".py",
   "mimetype": "text/x-python",
   "name": "python",
   "nbconvert_exporter": "python",
   "pygments_lexer": "ipython3",
   "version": "3.8.7"
  }
 },
 "nbformat": 4,
 "nbformat_minor": 5
}
