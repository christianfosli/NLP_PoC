{
 "metadata": {
  "language_info": {
   "codemirror_mode": {
    "name": "ipython",
    "version": 3
   },
   "file_extension": ".py",
   "mimetype": "text/x-python",
   "name": "python",
   "nbconvert_exporter": "python",
   "pygments_lexer": "ipython3",
   "version": "3.9.1-final"
  },
  "orig_nbformat": 2,
  "kernelspec": {
   "name": "python3",
   "display_name": "Python 3.9.1 64-bit",
   "metadata": {
    "interpreter": {
     "hash": "bc7b4049655db007e138d1fbf3ac1680a217a67446542a40573b08e37e7f2b2f"
    }
   }
  }
 },
 "nbformat": 4,
 "nbformat_minor": 2,
 "cells": [
  {
   "source": [
    "# Initialize"
   ],
   "cell_type": "markdown",
   "metadata": {}
  },
  {
   "cell_type": "code",
   "execution_count": 1,
   "metadata": {},
   "outputs": [
    {
     "output_type": "stream",
     "name": "stdout",
     "text": [
      "Requirement already satisfied: spacy in c:\\users\\lhustvei\\appdata\\local\\programs\\python\\python39\\lib\\site-packages (2.3.5)WARNING: You are using pip version 20.3.3; however, version 21.0 is available.\n",
      "You should consider upgrading via the 'c:\\users\\lhustvei\\appdata\\local\\programs\\python\\python39\\python.exe -m pip install --upgrade pip' command.\n",
      "\n",
      "Requirement already satisfied: tqdm<5.0.0,>=4.38.0 in c:\\users\\lhustvei\\appdata\\local\\programs\\python\\python39\\lib\\site-packages (from spacy) (4.54.1)\n",
      "Requirement already satisfied: cymem<2.1.0,>=2.0.2 in c:\\users\\lhustvei\\appdata\\local\\programs\\python\\python39\\lib\\site-packages (from spacy) (2.0.5)\n",
      "Requirement already satisfied: wasabi<1.1.0,>=0.4.0 in c:\\users\\lhustvei\\appdata\\local\\programs\\python\\python39\\lib\\site-packages (from spacy) (0.8.0)\n",
      "Requirement already satisfied: catalogue<1.1.0,>=0.0.7 in c:\\users\\lhustvei\\appdata\\local\\programs\\python\\python39\\lib\\site-packages (from spacy) (1.0.0)\n",
      "Requirement already satisfied: thinc<7.5.0,>=7.4.1 in c:\\users\\lhustvei\\appdata\\local\\programs\\python\\python39\\lib\\site-packages (from spacy) (7.4.5)\n",
      "Requirement already satisfied: plac<1.2.0,>=0.9.6 in c:\\users\\lhustvei\\appdata\\local\\programs\\python\\python39\\lib\\site-packages (from spacy) (1.1.3)\n",
      "Requirement already satisfied: blis<0.8.0,>=0.4.0 in c:\\users\\lhustvei\\appdata\\local\\programs\\python\\python39\\lib\\site-packages (from spacy) (0.7.4)\n",
      "Requirement already satisfied: preshed<3.1.0,>=3.0.2 in c:\\users\\lhustvei\\appdata\\local\\programs\\python\\python39\\lib\\site-packages (from spacy) (3.0.5)\n",
      "Requirement already satisfied: numpy>=1.15.0 in c:\\users\\lhustvei\\appdata\\local\\programs\\python\\python39\\lib\\site-packages (from spacy) (1.19.3)\n",
      "Requirement already satisfied: murmurhash<1.1.0,>=0.28.0 in c:\\users\\lhustvei\\appdata\\local\\programs\\python\\python39\\lib\\site-packages (from spacy) (1.0.5)\n",
      "Requirement already satisfied: srsly<1.1.0,>=1.0.2 in c:\\users\\lhustvei\\appdata\\local\\programs\\python\\python39\\lib\\site-packages (from spacy) (1.0.5)\n",
      "Requirement already satisfied: requests<3.0.0,>=2.13.0 in c:\\users\\lhustvei\\appdata\\local\\programs\\python\\python39\\lib\\site-packages (from spacy) (2.25.1)\n",
      "Requirement already satisfied: setuptools in c:\\users\\lhustvei\\appdata\\local\\programs\\python\\python39\\lib\\site-packages (from spacy) (49.2.1)\n",
      "Requirement already satisfied: certifi>=2017.4.17 in c:\\users\\lhustvei\\appdata\\local\\programs\\python\\python39\\lib\\site-packages (from requests<3.0.0,>=2.13.0->spacy) (2020.12.5)\n",
      "Requirement already satisfied: urllib3<1.27,>=1.21.1 in c:\\users\\lhustvei\\appdata\\local\\programs\\python\\python39\\lib\\site-packages (from requests<3.0.0,>=2.13.0->spacy) (1.26.2)\n",
      "Requirement already satisfied: chardet<5,>=3.0.2 in c:\\users\\lhustvei\\appdata\\local\\programs\\python\\python39\\lib\\site-packages (from requests<3.0.0,>=2.13.0->spacy) (4.0.0)\n",
      "Requirement already satisfied: idna<3,>=2.5 in c:\\users\\lhustvei\\appdata\\local\\programs\\python\\python39\\lib\\site-packages (from requests<3.0.0,>=2.13.0->spacy) (2.10)\n"
     ]
    }
   ],
   "source": [
    "!pip install -U spacy"
   ]
  },
  {
   "cell_type": "code",
   "execution_count": 2,
   "metadata": {},
   "outputs": [
    {
     "output_type": "stream",
     "name": "stdout",
     "text": [
      "2.3.5\n"
     ]
    }
   ],
   "source": [
    "import spacy\n",
    "print(spacy.__version__)"
   ]
  },
  {
   "cell_type": "code",
   "execution_count": 3,
   "metadata": {},
   "outputs": [
    {
     "output_type": "stream",
     "name": "stdout",
     "text": [
      "Requirement already satisfied: numpy==1.19.3 in c:\\users\\lhustvei\\appdata\\local\\programs\\python\\python39\\lib\\site-packages (1.19.3)\n",
      "WARNING: You are using pip version 20.3.3; however, version 21.0 is available.\n",
      "You should consider upgrading via the 'c:\\users\\lhustvei\\appdata\\local\\programs\\python\\python39\\python.exe -m pip install --upgrade pip' command.\n"
     ]
    }
   ],
   "source": [
    "# Had to run this to make something below work.\n",
    "# This is a donwgrade of numpy to a version without a bug.\n",
    "# This is a temp solution until a new version of numpy has solved the bug.\n",
    "!pip install numpy==1.19.3 --user"
   ]
  },
  {
   "source": [
    "# Code"
   ],
   "cell_type": "markdown",
   "metadata": {}
  },
  {
   "cell_type": "code",
   "execution_count": 4,
   "metadata": {},
   "outputs": [
    {
     "output_type": "stream",
     "name": "stdout",
     "text": [
      "False\nTrue\nTrue\nTrue\n"
     ]
    }
   ],
   "source": [
    "def is_float(n):\n",
    "    try:\n",
    "        support_float_with_norwegian_format = n.replace(',','.')\n",
    "        float_n = float(support_float_with_norwegian_format)\n",
    "    except ValueError:\n",
    "        return False\n",
    "    else:\n",
    "        return True\n",
    "    \n",
    "# test\n",
    "print(is_float('test'))\n",
    "print(is_float('4'))\n",
    "print(is_float('4.5'))\n",
    "print(is_float('4,5'))"
   ]
  },
  {
   "cell_type": "code",
   "execution_count": 13,
   "metadata": {},
   "outputs": [
    {
     "output_type": "display_data",
     "data": {
      "text/plain": "<IPython.core.display.HTML object>",
      "text/html": "<span class=\"tex2jax_ignore\"><div class=\"entities\" style=\"line-height: 2.5; direction: ltr\">(4) \n<mark class=\"entity\" style=\"background: aquamarine; padding: 0.45em 0.6em; margin: 0 0.25em; line-height: 1; border-radius: 0.35em;\">\n    Fartøy\n    <span style=\"font-size: 0.8em; font-weight: bold; line-height: 1; border-radius: 0.35em; text-transform: uppercase; vertical-align: middle; margin-left: 0.5rem\">WATER_VESSEL</span>\n</mark>\n med største lengde \n<mark class=\"entity\" style=\"background: orange; padding: 0.45em 0.6em; margin: 0 0.25em; line-height: 1; border-radius: 0.35em;\">\n    mindre enn\n    <span style=\"font-size: 0.8em; font-weight: bold; line-height: 1; border-radius: 0.35em; text-transform: uppercase; vertical-align: middle; margin-left: 0.5rem\">LENGTH_PREFIX</span>\n</mark>\n \n<mark class=\"entity\" style=\"background: yellow; padding: 0.45em 0.6em; margin: 0 0.25em; line-height: 1; border-radius: 0.35em;\">\n    10,67 meter\n    <span style=\"font-size: 0.8em; font-weight: bold; line-height: 1; border-radius: 0.35em; text-transform: uppercase; vertical-align: middle; margin-left: 0.5rem\">LENGTH</span>\n</mark>\n bygget etter 1. januar 1992 kan alternativt være utstyrt med brannslokningsanlegg i samsvar med retningslinjer fastsatt i kapittel Y14 i Nordisk Båt Standard (1990).</div></span>"
     },
     "metadata": {}
    }
   ],
   "source": [
    "import spacy\n",
    "#from spacy.lang.en import English\n",
    "from spacy.lang.nb import Norwegian\n",
    "from spacy.matcher import Matcher\n",
    "\n",
    "# Blank model Norwegian().\n",
    "# Does not have a POS tagger.\n",
    "nlp = Norwegian()\n",
    "\n",
    "#text = \"(1) Fartøy med største lengde mellom 10,67 og 15 meter skal ha brannslokningsanlegg.\"\n",
    "text = \"(4) Fartøy med største lengde mindre enn 10,67 meter bygget etter 1. januar 1992 kan alternativt være utstyrt med brannslokningsanlegg i samsvar med retningslinjer fastsatt i kapittel Y14 i Nordisk Båt Standard (1990).\"\n",
    "\n",
    "doc = nlp(text)\n",
    "\n",
    "matcher = Matcher(nlp.vocab)\n",
    "\n",
    "#\n",
    "# START - spaCy patterns\n",
    "#\n",
    "\n",
    "# LENGTH\n",
    "\n",
    "length_pattern = [\n",
    "    {\"TEXT\": {\"REGEX\": \"[0-9]+[,]+[0-9]|[0-9]\"}},\n",
    "    {\"LOWER\": {\"IN\": [\"meter\"]}}]\n",
    "\n",
    "matcher.add(\"LENGTH\", None, length_pattern)\n",
    "\n",
    "# LENGTH_PREFIX\n",
    "\n",
    "length_prefix_pattern_1 = [\n",
    "    {\"LOWER\": {\"IN\": [\"mindre\"]}},\n",
    "    {\"LOWER\": {\"IN\": [\"enn\"]}}]\n",
    "\n",
    "length_prefix_pattern_2 = [\n",
    "    {\"LOWER\": {\"IN\": [\"under\"]}}]\n",
    "\n",
    "matcher.add(\"LENGTH_PREFIX\", None, length_prefix_pattern_1, length_prefix_pattern_2)\n",
    "\n",
    "# WATER_VESSEL\n",
    "\n",
    "water_vessel_pattern = [\n",
    "    {\"LOWER\": {\"IN\": [\"fartøy\"]}}]\n",
    "\n",
    "matcher.add(\"WATER_VESSEL\", None, water_vessel_pattern)\n",
    "\n",
    "#\n",
    "# END - spaCy patterns\n",
    "#\n",
    "\n",
    "result = []\n",
    "\n",
    "for match_id, token_start, token_end in matcher(doc):\n",
    "\n",
    "    match_id_as_string = nlp.vocab.strings[match_id]\n",
    "\n",
    "    final_token_start = token_start\n",
    "    final_token_end = token_end\n",
    "\n",
    "    #\n",
    "    # Expand result if extra length detected in the words before in the line\n",
    "    #\n",
    "    if match_id_as_string == \"LENGTH\" and token_start > 0:\n",
    "        prev_token_1 = doc[token_start-1].text\n",
    "        if prev_token_1 in (\"og\", \"til\"):\n",
    "            prev_token_2 = doc[token_start-2].text\n",
    "            if is_float(prev_token_2):\n",
    "                final_token_start = token_start-2\n",
    "\n",
    "    #\n",
    "    # convert token_span to char_span.\n",
    "    # char_span is needed to display correctly withdisplacy.render().\n",
    "    #\n",
    "    span = doc[final_token_start:final_token_end]\n",
    "    span_char_start = span[0].idx\n",
    "    span_char_end = span[-1].idx + len(span[-1].text)\n",
    "\n",
    "    # return result\n",
    "    identified_entity = {'start': span_char_start, 'end': span_char_end, 'label': match_id_as_string}\n",
    "    result.append(identified_entity)\n",
    "\n",
    "# display result with spacy styling\n",
    "display_this_result = {'text': text, 'ents': sorted(result, key=lambda x: x['start']), 'title': 0}\n",
    "options = {\"colors\": {\"LENGTH\": \"yellow\", \"LENGTH_PREFIX\": \"orange\", \"WATER_VESSEL\": \"aquamarine\"}}\n",
    "from spacy import displacy\n",
    "displacy.render(display_this_result, style='ent', manual=True, options=options)"
   ]
  },
  {
   "source": [
    "# Functions run from .py file"
   ],
   "cell_type": "markdown",
   "metadata": {}
  },
  {
   "cell_type": "code",
   "execution_count": 6,
   "metadata": {},
   "outputs": [
    {
     "output_type": "execute_result",
     "data": {
      "text/plain": [
       "[{'start': 4, 'end': 10, 'label': 'WATER_VESSEL'},\n",
       " {'start': 37, 'end': 54, 'label': 'LENGTH'}]"
      ]
     },
     "metadata": {},
     "execution_count": 6
    }
   ],
   "source": [
    "#\n",
    "# Something that must be done \n",
    "# to make the notebook reload a function\n",
    "# from a costum .py file.\n",
    "#\n",
    "\n",
    "%reload_ext autoreload\n",
    "%autoreload 2\n",
    "\n",
    "import importlib\n",
    "\n",
    "import spacy_matching_rule_identify_vessel_length_overall_no\n",
    "\n",
    "from spacy_matching_rule_identify_vessel_length_overall_no import identify_length_overall_in_text\n",
    "\n",
    "importlib.reload(spacy_matching_rule_identify_vessel_length_overall_no)\n",
    "\n",
    "################\n",
    "################\n",
    "\n",
    "identify_length_overall_in_text(\"(1) Fartøy med største lengde mellom 10,67 og 15 meter skal ha brannslokningsanlegg.\")"
   ]
  },
  {
   "cell_type": "code",
   "execution_count": 7,
   "metadata": {},
   "outputs": [],
   "source": [
    "forward_lines_as_spacy_ner_format = [\n",
    "  {'text': \"(1) Fartøy med største lengde mellom 10,67 og 15 meter skal ha brannslokningsanlegg.\", 'ents': [], 'title': 0},\n",
    "  {'text': '\\n', 'ents': [], 'title': 1},\n",
    "  {'text': 'På fartøy med største lengde 8 til 15 meter skal ovnen kontrolleres hos godkjent foretak innen seks måneder etter at den er installert.', 'ents': [], 'title': 2}]"
   ]
  },
  {
   "cell_type": "code",
   "execution_count": 8,
   "metadata": {},
   "outputs": [
    {
     "output_type": "stream",
     "name": "stdout",
     "text": [
      "[{'start': 4, 'end': 10, 'label': 'WATER_VESSEL'}, {'start': 37, 'end': 54, 'label': 'LENGTH'}]\n[{'start': 3, 'end': 9, 'label': 'WATER_VESSEL'}, {'start': 29, 'end': 43, 'label': 'LENGTH'}]\n"
     ]
    }
   ],
   "source": [
    "#\n",
    "# Something that must be done \n",
    "# to make the notebook reload a function\n",
    "# from a costum .py file.\n",
    "#\n",
    "\n",
    "%reload_ext autoreload\n",
    "%autoreload 2\n",
    "\n",
    "import importlib\n",
    "\n",
    "import spacy_matching_rule_identify_vessel_length_overall_no\n",
    "\n",
    "from spacy_matching_rule_identify_vessel_length_overall_no import identify_length_overall_in_text\n",
    "\n",
    "importlib.reload(spacy_matching_rule_identify_vessel_length_overall_no)\n",
    "\n",
    "################\n",
    "################\n",
    "\n",
    "for line in forward_lines_as_spacy_ner_format:\n",
    "\n",
    "    text = line['text']\n",
    "\n",
    "    if text != \"\\n\":\n",
    "        result_in_a_list = identify_length_overall_in_text(text)\n",
    "\n",
    "        if result_in_a_list:\n",
    "            print(result_in_a_list)"
   ]
  },
  {
   "source": [
    "# Merge spacy result with spacy ner formated list of text"
   ],
   "cell_type": "markdown",
   "metadata": {}
  },
  {
   "cell_type": "code",
   "execution_count": 9,
   "metadata": {},
   "outputs": [
    {
     "output_type": "stream",
     "name": "stdout",
     "text": [
      "{'text': '(2) Saucer formed rockwool sheets of at least 6 cm thickness shall be provided between smoke uptake and combustible material. Insulation in the form of non-combustible material shall be provided between metal cover plates and combustible material. Alternatively, a pipe with a diameter at least 6 cm larger than the smoke uptake pipe may be fitted outside this pipe, in order to provide vertical air circulation between the pipes. Insulation by saucer formed rockwool or mineral wool twine of at least 3 cm thickness shall be provided between the outer pipe and combustible material. The pipe shall be carried to at least 1 m above the deck, and the outlet shall be protected with a collar.\\n', 'ents': [{'start': 6, 'end': 9, 'label': 'DATE'}, {'start': 16, 'end': 19, 'label': 'DATE'}], 'title': 53}\n\n{'text': '(2) Saucer formed rockwool sheets of at least 6 cm thickness shall be provided between smoke uptake and combustible material. Insulation in the form of non-combustible material shall be provided between metal cover plates and combustible material. Alternatively, a pipe with a diameter at least 6 cm larger than the smoke uptake pipe may be fitted outside this pipe, in order to provide vertical air circulation between the pipes. Insulation by saucer formed rockwool or mineral wool twine of at least 3 cm thickness shall be provided between the outer pipe and combustible material. The pipe shall be carried to at least 1 m above the deck, and the outlet shall be protected with a collar.\\n', 'ents': [{'start': 6, 'end': 9, 'label': 'DATE'}, {'start': 6, 'end': 9, 'label': 'DATE'}, {'start': 16, 'end': 19, 'label': 'DATE'}, {'start': 16, 'end': 19, 'label': 'DATE'}], 'title': 53}\n"
     ]
    }
   ],
   "source": [
    "#\n",
    "# Something that must be done \n",
    "# to make the notebook reload a function\n",
    "# from a costum .py file.\n",
    "#\n",
    "\n",
    "%reload_ext autoreload\n",
    "%autoreload 2\n",
    "\n",
    "import importlib\n",
    "\n",
    "import spacy_matching_rule_identify_vessel_length_overall_no\n",
    "\n",
    "from spacy_matching_rule_identify_vessel_length_overall_no import merge_spacy_entity_results_to_spacy_ner_format\n",
    "\n",
    "importlib.reload(spacy_matching_rule_identify_vessel_length_overall_no)\n",
    "\n",
    "################\n",
    "################\n",
    "\n",
    "spacy_ner_formated_text_line = {'text': '(2) Saucer formed rockwool sheets of at least 6 cm thickness shall be provided between smoke uptake and combustible material. Insulation in the form of non-combustible material shall be provided between metal cover plates and combustible material. Alternatively, a pipe with a diameter at least 6 cm larger than the smoke uptake pipe may be fitted outside this pipe, in order to provide vertical air circulation between the pipes. Insulation by saucer formed rockwool or mineral wool twine of at least 3 cm thickness shall be provided between the outer pipe and combustible material. The pipe shall be carried to at least 1 m above the deck, and the outlet shall be protected with a collar.\\n',\n",
    "  'ents': [],\n",
    "  'title': 53}\n",
    "\n",
    "spacy_ner_entities_to_be_merged_in_as_a_list = [{'start': 16, 'end': 19, 'label': 'DATE'}, {'start': 6, 'end': 9, 'label': 'DATE'}]\n",
    "\n",
    "print(merge_spacy_entity_results_to_spacy_ner_format(spacy_ner_formated_text_line,spacy_ner_entities_to_be_merged_in_as_a_list))\n",
    "\n",
    "spacy_ner_formated_text_line = {'text': '(2) Saucer formed rockwool sheets of at least 6 cm thickness shall be provided between smoke uptake and combustible material. Insulation in the form of non-combustible material shall be provided between metal cover plates and combustible material. Alternatively, a pipe with a diameter at least 6 cm larger than the smoke uptake pipe may be fitted outside this pipe, in order to provide vertical air circulation between the pipes. Insulation by saucer formed rockwool or mineral wool twine of at least 3 cm thickness shall be provided between the outer pipe and combustible material. The pipe shall be carried to at least 1 m above the deck, and the outlet shall be protected with a collar.\\n',\n",
    "  'ents': [{'start': 16, 'end': 19, 'label': 'DATE'}, {'start': 6, 'end': 9, 'label': 'DATE'}],\n",
    "  'title': 53}\n",
    "\n",
    "print(\"\")\n",
    "\n",
    "print(merge_spacy_entity_results_to_spacy_ner_format(spacy_ner_formated_text_line,spacy_ner_entities_to_be_merged_in_as_a_list))"
   ]
  },
  {
   "source": [
    "# identify_length_overall_in_text"
   ],
   "cell_type": "markdown",
   "metadata": {}
  },
  {
   "cell_type": "code",
   "execution_count": 12,
   "metadata": {},
   "outputs": [
    {
     "output_type": "display_data",
     "data": {
      "text/plain": "<IPython.core.display.HTML object>",
      "text/html": "<span class=\"tex2jax_ignore\"><div class=\"entities\" style=\"line-height: 2.5; direction: ltr\">(1) \n<mark class=\"entity\" style=\"background: aquamarine; padding: 0.45em 0.6em; margin: 0 0.25em; line-height: 1; border-radius: 0.35em;\">\n    Fartøy\n    <span style=\"font-size: 0.8em; font-weight: bold; line-height: 1; border-radius: 0.35em; text-transform: uppercase; vertical-align: middle; margin-left: 0.5rem\">WATER_VESSEL</span>\n</mark>\n med største lengde mellom \n<mark class=\"entity\" style=\"background: yellow; padding: 0.45em 0.6em; margin: 0 0.25em; line-height: 1; border-radius: 0.35em;\">\n    10,67 og 15 meter\n    <span style=\"font-size: 0.8em; font-weight: bold; line-height: 1; border-radius: 0.35em; text-transform: uppercase; vertical-align: middle; margin-left: 0.5rem\">LENGTH</span>\n</mark>\n skal ha brannslokningsanlegg.</div>\n\n<h2 style=\"margin: 0\">1</h2>\n\n<div class=\"entities\" style=\"line-height: 2.5; direction: ltr\"></br></div>\n\n<h2 style=\"margin: 0\">2</h2>\n\n<div class=\"entities\" style=\"line-height: 2.5; direction: ltr\">På \n<mark class=\"entity\" style=\"background: aquamarine; padding: 0.45em 0.6em; margin: 0 0.25em; line-height: 1; border-radius: 0.35em;\">\n    fartøy\n    <span style=\"font-size: 0.8em; font-weight: bold; line-height: 1; border-radius: 0.35em; text-transform: uppercase; vertical-align: middle; margin-left: 0.5rem\">WATER_VESSEL</span>\n</mark>\n med største lengde \n<mark class=\"entity\" style=\"background: yellow; padding: 0.45em 0.6em; margin: 0 0.25em; line-height: 1; border-radius: 0.35em;\">\n    8 til 15 meter\n    <span style=\"font-size: 0.8em; font-weight: bold; line-height: 1; border-radius: 0.35em; text-transform: uppercase; vertical-align: middle; margin-left: 0.5rem\">LENGTH</span>\n</mark>\n skal ovnen kontrolleres hos godkjent foretak innen seks måneder etter at den er installert.</div></span>"
     },
     "metadata": {}
    }
   ],
   "source": [
    "#\n",
    "# Something that must be done \n",
    "# to make the notebook reload a function\n",
    "# from a costum .py file.\n",
    "#\n",
    "\n",
    "%reload_ext autoreload\n",
    "%autoreload 2\n",
    "\n",
    "import importlib\n",
    "\n",
    "import spacy_matching_rule_identify_vessel_length_overall_no\n",
    "\n",
    "from spacy_matching_rule_identify_vessel_length_overall_no import identify_length_overall_in_spacy_lines\n",
    "\n",
    "importlib.reload(spacy_matching_rule_identify_vessel_length_overall_no)\n",
    "\n",
    "################\n",
    "################\n",
    "\n",
    "result = identify_length_overall_in_spacy_lines(forward_lines_as_spacy_ner_format)\n",
    "#print(result)\n",
    "\n",
    "options = {\"colors\": {\"LENGTH\": \"yellow\", \"LENGTH_PREFIX\": \"orange\", \"WATER_VESSEL\": \"aquamarine\"}}\n",
    "\n",
    "# display result with spacy styling\n",
    "from spacy import displacy\n",
    "displacy.render(result, style='ent', manual=True, options=options)"
   ]
  }
 ]
}