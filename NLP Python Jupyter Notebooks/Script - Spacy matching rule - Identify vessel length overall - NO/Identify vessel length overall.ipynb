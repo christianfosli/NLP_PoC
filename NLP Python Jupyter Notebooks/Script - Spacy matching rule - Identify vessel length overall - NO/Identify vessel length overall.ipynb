{
 "metadata": {
  "language_info": {
   "codemirror_mode": {
    "name": "ipython",
    "version": 3
   },
   "file_extension": ".py",
   "mimetype": "text/x-python",
   "name": "python",
   "nbconvert_exporter": "python",
   "pygments_lexer": "ipython3",
   "version": "3.9.1-final"
  },
  "orig_nbformat": 2,
  "kernelspec": {
   "name": "python3",
   "display_name": "Python 3.9.1 64-bit",
   "metadata": {
    "interpreter": {
     "hash": "bc7b4049655db007e138d1fbf3ac1680a217a67446542a40573b08e37e7f2b2f"
    }
   }
  }
 },
 "nbformat": 4,
 "nbformat_minor": 2,
 "cells": [
  {
   "cell_type": "code",
   "execution_count": 1,
   "metadata": {},
   "outputs": [
    {
     "output_type": "stream",
     "name": "stdout",
     "text": [
      "Requirement already satisfied: spacy in c:\\users\\lhustvei\\appdata\\local\\programs\\python\\python39\\lib\\site-packages (2.3.5)\nRequirement already satisfied: blis<0.8.0,>=0.4.0 in c:\\users\\lhustvei\\appdata\\local\\programs\\python\\python39\\lib\\site-packages (from spacy) (0.7.4)\nRequirement already satisfied: cymem<2.1.0,>=2.0.2 in c:\\users\\lhustvei\\appdata\\local\\programs\\python\\python39\\lib\\site-packages (from spacy) (2.0.5)\nRequirement already satisfied: wasabi<1.1.0,>=0.4.0 in c:\\users\\lhustvei\\appdata\\local\\programs\\python\\python39\\lib\\site-packages (from spacy) (0.8.0)\nRequirement already satisfied: plac<1.2.0,>=0.9.6 in c:\\users\\lhustvei\\appdata\\local\\programs\\python\\python39\\lib\\site-packages (from spacy) (1.1.3)\nRequirement already satisfied: catalogue<1.1.0,>=0.0.7 in c:\\users\\lhustvei\\appdata\\local\\programs\\python\\python39\\lib\\site-packages (from spacy) (1.0.0)\nRequirement already satisfied: preshed<3.1.0,>=3.0.2 in c:\\users\\lhustvei\\appdata\\local\\programs\\python\\python39\\lib\\site-packages (from spacy) (3.0.5)\nRequirement already satisfied: setuptools in c:\\users\\lhustvei\\appdata\\local\\programs\\python\\python39\\lib\\site-packages (from spacy) (49.2.1)\nRequirement already satisfied: requests<3.0.0,>=2.13.0 in c:\\users\\lhustvei\\appdata\\local\\programs\\python\\python39\\lib\\site-packages (from spacy) (2.25.1)\nRequirement already satisfied: tqdm<5.0.0,>=4.38.0 in c:\\users\\lhustvei\\appdata\\local\\programs\\python\\python39\\lib\\site-packages (from spacy) (4.54.1)\nRequirement already satisfied: thinc<7.5.0,>=7.4.1 in c:\\users\\lhustvei\\appdata\\local\\programs\\python\\python39\\lib\\site-packages (from spacy) (7.4.5)\nRequirement already satisfied: numpy>=1.15.0 in c:\\users\\lhustvei\\appdata\\local\\programs\\python\\python39\\lib\\site-packages (from spacy) (1.19.3)\nRequirement already satisfied: srsly<1.1.0,>=1.0.2 in c:\\users\\lhustvei\\appdata\\local\\programs\\python\\python39\\lib\\site-packages (from spacy) (1.0.5)\nRequirement already satisfied: murmurhash<1.1.0,>=0.28.0 in c:\\users\\lhustvei\\appdata\\local\\programs\\python\\python39\\lib\\site-packages (from spacy) (1.0.5)\nRequirement already satisfied: urllib3<1.27,>=1.21.1 in c:\\users\\lhustvei\\appdata\\local\\programs\\python\\python39\\lib\\site-packages (from requests<3.0.0,>=2.13.0->spacy) (1.26.2)\nRequirement already satisfied: chardet<5,>=3.0.2 in c:\\users\\lhustvei\\appdata\\local\\programs\\python\\python39\\lib\\site-packages (from requests<3.0.0,>=2.13.0->spacy) (4.0.0)\nRequirement already satisfied: certifi>=2017.4.17 in c:\\users\\lhustvei\\appdata\\local\\programs\\python\\python39\\lib\\site-packages (from requests<3.0.0,>=2.13.0->spacy) (2020.12.5)\nRequirement already satisfied: idna<3,>=2.5 in c:\\users\\lhustvei\\appdata\\local\\programs\\python\\python39\\lib\\site-packages (from requests<3.0.0,>=2.13.0->spacy) (2.10)\n"
     ]
    }
   ],
   "source": [
    "!pip install -U spacy"
   ]
  },
  {
   "cell_type": "code",
   "execution_count": 2,
   "metadata": {},
   "outputs": [
    {
     "output_type": "stream",
     "name": "stdout",
     "text": [
      "2.3.5\n"
     ]
    }
   ],
   "source": [
    "import spacy\n",
    "print(spacy.__version__)"
   ]
  },
  {
   "cell_type": "code",
   "execution_count": 3,
   "metadata": {},
   "outputs": [
    {
     "output_type": "stream",
     "name": "stdout",
     "text": [
      "Requirement already satisfied: numpy==1.19.3 in c:\\users\\lhustvei\\appdata\\local\\programs\\python\\python39\\lib\\site-packages (1.19.3)\n"
     ]
    }
   ],
   "source": [
    "# Had to run this to make something below work.\n",
    "# This is a donwgrade of numpy to a version without a bug.\n",
    "# This is a temp solution until a new version of numpy has solved the bug.\n",
    "!pip install numpy==1.19.3 --user"
   ]
  },
  {
   "source": [
    "# Initialize"
   ],
   "cell_type": "markdown",
   "metadata": {}
  },
  {
   "cell_type": "code",
   "execution_count": 18,
   "metadata": {},
   "outputs": [],
   "source": [
    "# have added norwegian date format in this english text\n",
    "forward_lines_as_spacy_ner_format = [{'text': '3. Fire, machinery and electric installations\\n',\n",
    "  'ents': [],\n",
    "  'title': 0},\n",
    " {'text': '\\n', 'ents': [], 'title': 1},\n",
    " {'text': 'Section 7. Scope of application of this chapter\\n',\n",
    "  'ents': [],\n",
    "  'title': 2},\n",
    " {'text': '(1) This chapter applies to vessels constructed after 1. januar 1992.\\n',\n",
    "  'ents': [],\n",
    "  'title': 3},\n",
    " {'text': '(2) Vessels constructed before 1. januar 1992 shall be constructed and equipped in accordance with the rules applicable at the time of construction of the vessel, unless otherwise provided by the individual provisions of this chapter.\\n',\n",
    "  'ents': [],\n",
    "  'title': 4},\n",
    " {'text': '(3) When a vessel is substantially altered or modified, the vessel shall comply with the requirements for a new vessel.\\n',\n",
    "  'ents': [],\n",
    "  'title': 5},\n",
    " {'text': '\\n', 'ents': [], 'title': 6},\n",
    " {'text': '0\\tAmended by Regulation of 1. januar 1992 No.. 445 (in force on 1. januar 1992).\\n',\n",
    "  'ents': [],\n",
    "  'title': 7},\n",
    " {'text': '\\n', 'ents': [], 'title': 8},\n",
    " {'text': '\\n', 'ents': [], 'title': 9},\n",
    " {'text': '\\n', 'ents': [], 'title': 10},\n",
    " {'text': 'Section 8. Fire safety\\n', 'ents': [], 'title': 11},\n",
    " {'text': '(1) Vessels constructed after 1. januar 1992 shall have structural fire protection in accordance with chapter C14 of Nordic Boat Standard (1990), unless otherwise provided by the individual provisions of this chapter.\\n',\n",
    "  'ents': [],\n",
    "  'title': 12},\n",
    " {'text': '(2) Vessels constructed before 1. januar 1992 shall have structural fire protection in accordance with the rules applicable at the time of construction of the vessel.\\n',\n",
    "  'ents': [],\n",
    "  'title': 13},\n",
    " {'text': '(3) Irrespective of the year of construction of the vessel, gasfired installations shall satisfy the requirements of Regulations of 1. januar 1992 No. 1580 on safety precautions for gasfired installations, etc. operating on propane or other liquefied hydrocarbon gases used on board vessels.\\n',\n",
    "  'ents': [],\n",
    "  'title': 14},\n",
    " {'text': '\\n', 'ents': [], 'title': 15},\n",
    " {'text': 'Section 9. Oil-fired stoves\\n', 'ents': [], 'title': 16},\n",
    " {'text': '(1) Stoves with electric power supply shall have an oil supply which shuts off automatically if:\\n',\n",
    "  'ents': [],\n",
    "  'title': 17}]"
   ]
  },
  {
   "source": [
    "# Code"
   ],
   "cell_type": "markdown",
   "metadata": {}
  },
  {
   "cell_type": "code",
   "execution_count": 22,
   "metadata": {},
   "outputs": [
    {
     "output_type": "display_data",
     "data": {
      "text/plain": "<IPython.core.display.HTML object>",
      "text/html": "<span class=\"tex2jax_ignore\"><div class=\"entities\" style=\"line-height: 2.5; direction: ltr\">(1) Fartøy med største lengde mellom \n<mark class=\"entity\" style=\"background: yellow; padding: 0.45em 0.6em; margin: 0 0.25em; line-height: 1; border-radius: 0.35em;\">\n    10,67 og 15 meter\n    <span style=\"font-size: 0.8em; font-weight: bold; line-height: 1; border-radius: 0.35em; text-transform: uppercase; vertical-align: middle; margin-left: 0.5rem\">LENGTH-OVERALL</span>\n</mark>\n skal ha brannslokningsanlegg.</div></span>"
     },
     "metadata": {}
    }
   ],
   "source": [
    "import spacy\n",
    "#from spacy.lang.en import English\n",
    "from spacy.lang.nb import Norwegian\n",
    "from spacy.matcher import Matcher\n",
    "\n",
    "# Blank model Norwegian().\n",
    "# Does not have a POS tagger.\n",
    "nlp = Norwegian() \n",
    "\n",
    "text = \"(1) Fartøy med største lengde mellom 10,67 og 15 meter skal ha brannslokningsanlegg.\"\n",
    "\n",
    "doc = nlp(text)\n",
    "\n",
    "matcher = Matcher(nlp.vocab)\n",
    "\n",
    "date_pattern = [{\"TEXT\": {\"REGEX\": \"[0-9]+[,]+[0-9]|[0-9]\"}},\n",
    "{\"LOWER\": {\"IN\": [\"og\"]}},\n",
    "{\"TEXT\": {\"REGEX\": \"[0-9]+[,]+[0-9]|[0-9]\"}},\n",
    "{\"LOWER\": {\"IN\": [\"meter\"]}}]\n",
    "\n",
    "matcher.add(\"LENGTH-OVERALL\", None, date_pattern)\n",
    "\n",
    "result = []\n",
    "\n",
    "for match_id, token_start, token_end in matcher(doc):\n",
    "\n",
    "    # convert token_span to char_span.\n",
    "    # char_span is needed to display correctly withdisplacy.render().\n",
    "    span = doc[token_start:token_end]\n",
    "    span_char_start = span[0].idx\n",
    "    span_char_end = span[-1].idx + len(span[-1].text)\n",
    "\n",
    "    match_id_as_string = nlp.vocab.strings[match_id]\n",
    "\n",
    "    identified_entity = {'start': span_char_start, 'end': span_char_end, 'label': match_id_as_string}\n",
    "    result.append(identified_entity)\n",
    "\n",
    "#result\n",
    "\n",
    "# display result with spacy styling\n",
    "display_this_result = {'text': text, 'ents': sorted(result, key=lambda x: x['start']), 'title': 0}\n",
    "options = {\"colors\": {\"LENGTH-OVERALL\": \"yellow\"}}\n",
    "from spacy import displacy\n",
    "displacy.render(display_this_result, style='ent', manual=True, options=options)"
   ]
  },
  {
   "source": [
    "# Functions run from .py file"
   ],
   "cell_type": "markdown",
   "metadata": {}
  },
  {
   "cell_type": "code",
   "execution_count": 17,
   "metadata": {},
   "outputs": [
    {
     "output_type": "execute_result",
     "data": {
      "text/plain": [
       "[{'start': 58, 'end': 72, 'label': 'DATE'},\n",
       " {'start': 166, 'end': 182, 'label': 'DATE'}]"
      ]
     },
     "metadata": {},
     "execution_count": 17
    }
   ],
   "source": [
    "#\n",
    "# Something that must be done \n",
    "# to make the notebook reload a function\n",
    "# from a costum .py file.\n",
    "#\n",
    "\n",
    "%reload_ext autoreload\n",
    "%autoreload 2\n",
    "\n",
    "import importlib\n",
    "\n",
    "import spacy_matching_rule_identify_date_no\n",
    "\n",
    "from spacy_matching_rule_identify_date_no import identify_date_in_text\n",
    "\n",
    "importlib.reload(spacy_matching_rule_identify_date_no)\n",
    "\n",
    "################\n",
    "################\n",
    "\n",
    "identify_date_in_text(\"(4) Fartøy med største lengde 6 til 15 meter bygget etter 1. januar 2002 med elektrisk anlegg med spenning over 50 V skal tilfredsstille kravene fastsatt i forskrift 4. desember 2001 nr. 1450 om maritime elektriske anlegg utgitt av Direktoratet for samfunnssikkerhet og beredskap.\")"
   ]
  },
  {
   "cell_type": "code",
   "execution_count": 19,
   "metadata": {},
   "outputs": [
    {
     "output_type": "stream",
     "name": "stdout",
     "text": [
      "[{'start': 54, 'end': 68, 'label': 'DATE'}]\n",
      "[{'start': 31, 'end': 45, 'label': 'DATE'}]\n",
      "[{'start': 27, 'end': 41, 'label': 'DATE'}, {'start': 64, 'end': 78, 'label': 'DATE'}]\n",
      "[{'start': 30, 'end': 44, 'label': 'DATE'}]\n",
      "[{'start': 31, 'end': 45, 'label': 'DATE'}]\n",
      "[{'start': 132, 'end': 146, 'label': 'DATE'}]\n"
     ]
    }
   ],
   "source": [
    "#\n",
    "# Something that must be done \n",
    "# to make the notebook reload a function\n",
    "# from a costum .py file.\n",
    "#\n",
    "\n",
    "%reload_ext autoreload\n",
    "%autoreload 2\n",
    "\n",
    "import importlib\n",
    "\n",
    "import spacy_matching_rule_identify_date_no\n",
    "\n",
    "from spacy_matching_rule_identify_date_no import identify_date_in_text\n",
    "\n",
    "importlib.reload(spacy_matching_rule_identify_date_no)\n",
    "\n",
    "################\n",
    "################\n",
    "\n",
    "for line in forward_lines_as_spacy_ner_format:\n",
    "\n",
    "    text = line['text']\n",
    "\n",
    "    if text != \"\\n\":\n",
    "        result_in_a_list = identify_date_in_text(text)\n",
    "\n",
    "        if result_in_a_list:\n",
    "            print(result_in_a_list)"
   ]
  },
  {
   "source": [
    "# Merge spacy result with spacy ner formated list of text"
   ],
   "cell_type": "markdown",
   "metadata": {}
  },
  {
   "cell_type": "code",
   "execution_count": 20,
   "metadata": {},
   "outputs": [
    {
     "output_type": "stream",
     "name": "stdout",
     "text": [
      "{'text': '(2) Saucer formed rockwool sheets of at least 6 cm thickness shall be provided between smoke uptake and combustible material. Insulation in the form of non-combustible material shall be provided between metal cover plates and combustible material. Alternatively, a pipe with a diameter at least 6 cm larger than the smoke uptake pipe may be fitted outside this pipe, in order to provide vertical air circulation between the pipes. Insulation by saucer formed rockwool or mineral wool twine of at least 3 cm thickness shall be provided between the outer pipe and combustible material. The pipe shall be carried to at least 1 m above the deck, and the outlet shall be protected with a collar.\\n', 'ents': [{'start': 6, 'end': 9, 'label': 'DATE'}, {'start': 16, 'end': 19, 'label': 'DATE'}], 'title': 53}\n\n{'text': '(2) Saucer formed rockwool sheets of at least 6 cm thickness shall be provided between smoke uptake and combustible material. Insulation in the form of non-combustible material shall be provided between metal cover plates and combustible material. Alternatively, a pipe with a diameter at least 6 cm larger than the smoke uptake pipe may be fitted outside this pipe, in order to provide vertical air circulation between the pipes. Insulation by saucer formed rockwool or mineral wool twine of at least 3 cm thickness shall be provided between the outer pipe and combustible material. The pipe shall be carried to at least 1 m above the deck, and the outlet shall be protected with a collar.\\n', 'ents': [{'start': 6, 'end': 9, 'label': 'DATE'}, {'start': 6, 'end': 9, 'label': 'DATE'}, {'start': 16, 'end': 19, 'label': 'DATE'}, {'start': 16, 'end': 19, 'label': 'DATE'}], 'title': 53}\n"
     ]
    }
   ],
   "source": [
    "#\n",
    "# Something that must be done \n",
    "# to make the notebook reload a function\n",
    "# from a costum .py file.\n",
    "#\n",
    "\n",
    "%reload_ext autoreload\n",
    "%autoreload 2\n",
    "\n",
    "import importlib\n",
    "\n",
    "import spacy_matching_rule_identify_date_no\n",
    "\n",
    "from spacy_matching_rule_identify_date_no import merge_spacy_entity_results_to_spacy_ner_format\n",
    "\n",
    "importlib.reload(spacy_matching_rule_identify_date_no)\n",
    "\n",
    "################\n",
    "################\n",
    "\n",
    "spacy_ner_formated_text_line = {'text': '(2) Saucer formed rockwool sheets of at least 6 cm thickness shall be provided between smoke uptake and combustible material. Insulation in the form of non-combustible material shall be provided between metal cover plates and combustible material. Alternatively, a pipe with a diameter at least 6 cm larger than the smoke uptake pipe may be fitted outside this pipe, in order to provide vertical air circulation between the pipes. Insulation by saucer formed rockwool or mineral wool twine of at least 3 cm thickness shall be provided between the outer pipe and combustible material. The pipe shall be carried to at least 1 m above the deck, and the outlet shall be protected with a collar.\\n',\n",
    "  'ents': [],\n",
    "  'title': 53}\n",
    "\n",
    "spacy_ner_entities_to_be_merged_in_as_a_list = [{'start': 16, 'end': 19, 'label': 'DATE'}, {'start': 6, 'end': 9, 'label': 'DATE'}]\n",
    "\n",
    "print(merge_spacy_entity_results_to_spacy_ner_format(spacy_ner_formated_text_line,spacy_ner_entities_to_be_merged_in_as_a_list))\n",
    "\n",
    "spacy_ner_formated_text_line = {'text': '(2) Saucer formed rockwool sheets of at least 6 cm thickness shall be provided between smoke uptake and combustible material. Insulation in the form of non-combustible material shall be provided between metal cover plates and combustible material. Alternatively, a pipe with a diameter at least 6 cm larger than the smoke uptake pipe may be fitted outside this pipe, in order to provide vertical air circulation between the pipes. Insulation by saucer formed rockwool or mineral wool twine of at least 3 cm thickness shall be provided between the outer pipe and combustible material. The pipe shall be carried to at least 1 m above the deck, and the outlet shall be protected with a collar.\\n',\n",
    "  'ents': [{'start': 16, 'end': 19, 'label': 'DATE'}, {'start': 6, 'end': 9, 'label': 'DATE'}],\n",
    "  'title': 53}\n",
    "\n",
    "print(\"\")\n",
    "\n",
    "print(merge_spacy_entity_results_to_spacy_ner_format(spacy_ner_formated_text_line,spacy_ner_entities_to_be_merged_in_as_a_list))"
   ]
  },
  {
   "source": [
    "# Test the merger function on the data abowe"
   ],
   "cell_type": "markdown",
   "metadata": {}
  },
  {
   "cell_type": "code",
   "execution_count": 21,
   "metadata": {},
   "outputs": [
    {
     "output_type": "stream",
     "name": "stdout",
     "text": [
      "0\n",
      "0 ok else\n",
      "1\n",
      "1 ok else\n",
      "2\n",
      "2 ok else\n",
      "3\n",
      "3 ok if\n",
      "4\n",
      "4 ok if\n",
      "5\n",
      "5 ok else\n",
      "6\n",
      "6 ok else\n",
      "7\n",
      "7 ok if\n",
      "8\n",
      "8 ok else\n",
      "9\n",
      "9 ok else\n",
      "10\n",
      "10 ok else\n",
      "11\n",
      "11 ok else\n",
      "12\n",
      "12 ok if\n",
      "13\n",
      "13 ok if\n",
      "14\n",
      "14 ok if\n",
      "15\n",
      "15 ok else\n",
      "16\n",
      "16 ok else\n",
      "17\n",
      "17 ok else\n"
     ]
    },
    {
     "output_type": "execute_result",
     "data": {
      "text/plain": [
       "[{'text': '3. Fire, machinery and electric installations\\n',\n",
       "  'ents': [],\n",
       "  'title': 0},\n",
       " {'text': '\\n', 'ents': [], 'title': 1},\n",
       " {'text': 'Section 7. Scope of application of this chapter\\n',\n",
       "  'ents': [],\n",
       "  'title': 2},\n",
       " {'text': '(1) This chapter applies to vessels constructed after 1. januar 1992.\\n',\n",
       "  'ents': [{'start': 54, 'end': 68, 'label': 'DATE'}],\n",
       "  'title': 3},\n",
       " {'text': '(2) Vessels constructed before 1. januar 1992 shall be constructed and equipped in accordance with the rules applicable at the time of construction of the vessel, unless otherwise provided by the individual provisions of this chapter.\\n',\n",
       "  'ents': [{'start': 31, 'end': 45, 'label': 'DATE'}],\n",
       "  'title': 4},\n",
       " {'text': '(3) When a vessel is substantially altered or modified, the vessel shall comply with the requirements for a new vessel.\\n',\n",
       "  'ents': [],\n",
       "  'title': 5},\n",
       " {'text': '\\n', 'ents': [], 'title': 6},\n",
       " {'text': '0\\tAmended by Regulation of 1. januar 1992 No.. 445 (in force on 1. januar 1992).\\n',\n",
       "  'ents': [{'start': 27, 'end': 41, 'label': 'DATE'},\n",
       "   {'start': 64, 'end': 78, 'label': 'DATE'}],\n",
       "  'title': 7},\n",
       " {'text': '\\n', 'ents': [], 'title': 8},\n",
       " {'text': '\\n', 'ents': [], 'title': 9},\n",
       " {'text': '\\n', 'ents': [], 'title': 10},\n",
       " {'text': 'Section 8. Fire safety\\n', 'ents': [], 'title': 11},\n",
       " {'text': '(1) Vessels constructed after 1. januar 1992 shall have structural fire protection in accordance with chapter C14 of Nordic Boat Standard (1990), unless otherwise provided by the individual provisions of this chapter.\\n',\n",
       "  'ents': [{'start': 30, 'end': 44, 'label': 'DATE'}],\n",
       "  'title': 12},\n",
       " {'text': '(2) Vessels constructed before 1. januar 1992 shall have structural fire protection in accordance with the rules applicable at the time of construction of the vessel.\\n',\n",
       "  'ents': [{'start': 31, 'end': 45, 'label': 'DATE'}],\n",
       "  'title': 13},\n",
       " {'text': '(3) Irrespective of the year of construction of the vessel, gasfired installations shall satisfy the requirements of Regulations of 1. januar 1992 No. 1580 on safety precautions for gasfired installations, etc. operating on propane or other liquefied hydrocarbon gases used on board vessels.\\n',\n",
       "  'ents': [{'start': 132, 'end': 146, 'label': 'DATE'}],\n",
       "  'title': 14},\n",
       " {'text': '\\n', 'ents': [], 'title': 15},\n",
       " {'text': 'Section 9. Oil-fired stoves\\n', 'ents': [], 'title': 16},\n",
       " {'text': '(1) Stoves with electric power supply shall have an oil supply which shuts off automatically if:\\n',\n",
       "  'ents': [],\n",
       "  'title': 17}]"
      ]
     },
     "metadata": {},
     "execution_count": 21
    }
   ],
   "source": [
    "result = []\n",
    "\n",
    "for spacy_line in forward_lines_as_spacy_ner_format:\n",
    "\n",
    "    print(str(spacy_line['title']))\n",
    "\n",
    "    if spacy_line['text'] != \"\\n\" and len(spacy_line['text']) > 0:\n",
    "\n",
    "        identify_date_in_text_result_in_a_list = identify_date_in_text(spacy_line['text'])\n",
    "\n",
    "        # this result might be empty.\n",
    "\n",
    "        if identify_date_in_text_result_in_a_list:\n",
    "\n",
    "            # we have results to merge in.\n",
    "            # merge in the result using this function.\n",
    "            new_spacy_line = merge_spacy_entity_results_to_spacy_ner_format(spacy_line,identify_date_in_text_result_in_a_list)\n",
    "\n",
    "            print(str(spacy_line['title']) + \" ok if\")\n",
    "            result.append(new_spacy_line)\n",
    "\n",
    "        else:\n",
    "            print(str(spacy_line['title']) + \" ok else\")\n",
    "            result.append(spacy_line)\n",
    "    else:\n",
    "        print(str(spacy_line['title']) + \" ok else\")\n",
    "        result.append(spacy_line)\n",
    "\n",
    "result"
   ]
  },
  {
   "source": [
    "# identify_date_in_spacy_lines"
   ],
   "cell_type": "markdown",
   "metadata": {}
  },
  {
   "cell_type": "code",
   "execution_count": 22,
   "metadata": {},
   "outputs": [
    {
     "output_type": "display_data",
     "data": {
      "text/plain": "<IPython.core.display.HTML object>",
      "text/html": "<span class=\"tex2jax_ignore\"><div class=\"entities\" style=\"line-height: 2.5; direction: ltr\">3. Fire, machinery and electric installations</br></div>\n\n<h2 style=\"margin: 0\">1</h2>\n\n<div class=\"entities\" style=\"line-height: 2.5; direction: ltr\"></br></div>\n\n<h2 style=\"margin: 0\">2</h2>\n\n<div class=\"entities\" style=\"line-height: 2.5; direction: ltr\">Section 7. Scope of application of this chapter</br></div>\n\n<h2 style=\"margin: 0\">3</h2>\n\n<div class=\"entities\" style=\"line-height: 2.5; direction: ltr\">(1) This chapter applies to vessels constructed after \n<mark class=\"entity\" style=\"background: yellow; padding: 0.45em 0.6em; margin: 0 0.25em; line-height: 1; border-radius: 0.35em;\">\n    1. januar 1992\n    <span style=\"font-size: 0.8em; font-weight: bold; line-height: 1; border-radius: 0.35em; text-transform: uppercase; vertical-align: middle; margin-left: 0.5rem\">DATE</span>\n</mark>\n.</br></div>\n\n<h2 style=\"margin: 0\">4</h2>\n\n<div class=\"entities\" style=\"line-height: 2.5; direction: ltr\">(2) Vessels constructed before \n<mark class=\"entity\" style=\"background: yellow; padding: 0.45em 0.6em; margin: 0 0.25em; line-height: 1; border-radius: 0.35em;\">\n    1. januar 1992\n    <span style=\"font-size: 0.8em; font-weight: bold; line-height: 1; border-radius: 0.35em; text-transform: uppercase; vertical-align: middle; margin-left: 0.5rem\">DATE</span>\n</mark>\n shall be constructed and equipped in accordance with the rules applicable at the time of construction of the vessel, unless otherwise provided by the individual provisions of this chapter.</br></div>\n\n<h2 style=\"margin: 0\">5</h2>\n\n<div class=\"entities\" style=\"line-height: 2.5; direction: ltr\">(3) When a vessel is substantially altered or modified, the vessel shall comply with the requirements for a new vessel.</br></div>\n\n<h2 style=\"margin: 0\">6</h2>\n\n<div class=\"entities\" style=\"line-height: 2.5; direction: ltr\"></br></div>\n\n<h2 style=\"margin: 0\">7</h2>\n\n<div class=\"entities\" style=\"line-height: 2.5; direction: ltr\">0\tAmended by Regulation of \n<mark class=\"entity\" style=\"background: yellow; padding: 0.45em 0.6em; margin: 0 0.25em; line-height: 1; border-radius: 0.35em;\">\n    1. januar 1992\n    <span style=\"font-size: 0.8em; font-weight: bold; line-height: 1; border-radius: 0.35em; text-transform: uppercase; vertical-align: middle; margin-left: 0.5rem\">DATE</span>\n</mark>\n No.. 445 (in force on \n<mark class=\"entity\" style=\"background: yellow; padding: 0.45em 0.6em; margin: 0 0.25em; line-height: 1; border-radius: 0.35em;\">\n    1. januar 1992\n    <span style=\"font-size: 0.8em; font-weight: bold; line-height: 1; border-radius: 0.35em; text-transform: uppercase; vertical-align: middle; margin-left: 0.5rem\">DATE</span>\n</mark>\n).</br></div>\n\n<h2 style=\"margin: 0\">8</h2>\n\n<div class=\"entities\" style=\"line-height: 2.5; direction: ltr\"></br></div>\n\n<h2 style=\"margin: 0\">9</h2>\n\n<div class=\"entities\" style=\"line-height: 2.5; direction: ltr\"></br></div>\n\n<h2 style=\"margin: 0\">10</h2>\n\n<div class=\"entities\" style=\"line-height: 2.5; direction: ltr\"></br></div>\n\n<h2 style=\"margin: 0\">11</h2>\n\n<div class=\"entities\" style=\"line-height: 2.5; direction: ltr\">Section 8. Fire safety</br></div>\n\n<h2 style=\"margin: 0\">12</h2>\n\n<div class=\"entities\" style=\"line-height: 2.5; direction: ltr\">(1) Vessels constructed after \n<mark class=\"entity\" style=\"background: yellow; padding: 0.45em 0.6em; margin: 0 0.25em; line-height: 1; border-radius: 0.35em;\">\n    1. januar 1992\n    <span style=\"font-size: 0.8em; font-weight: bold; line-height: 1; border-radius: 0.35em; text-transform: uppercase; vertical-align: middle; margin-left: 0.5rem\">DATE</span>\n</mark>\n shall have structural fire protection in accordance with chapter C14 of Nordic Boat Standard (1990), unless otherwise provided by the individual provisions of this chapter.</br></div>\n\n<h2 style=\"margin: 0\">13</h2>\n\n<div class=\"entities\" style=\"line-height: 2.5; direction: ltr\">(2) Vessels constructed before \n<mark class=\"entity\" style=\"background: yellow; padding: 0.45em 0.6em; margin: 0 0.25em; line-height: 1; border-radius: 0.35em;\">\n    1. januar 1992\n    <span style=\"font-size: 0.8em; font-weight: bold; line-height: 1; border-radius: 0.35em; text-transform: uppercase; vertical-align: middle; margin-left: 0.5rem\">DATE</span>\n</mark>\n shall have structural fire protection in accordance with the rules applicable at the time of construction of the vessel.</br></div>\n\n<h2 style=\"margin: 0\">14</h2>\n\n<div class=\"entities\" style=\"line-height: 2.5; direction: ltr\">(3) Irrespective of the year of construction of the vessel, gasfired installations shall satisfy the requirements of Regulations of \n<mark class=\"entity\" style=\"background: yellow; padding: 0.45em 0.6em; margin: 0 0.25em; line-height: 1; border-radius: 0.35em;\">\n    1. januar 1992\n    <span style=\"font-size: 0.8em; font-weight: bold; line-height: 1; border-radius: 0.35em; text-transform: uppercase; vertical-align: middle; margin-left: 0.5rem\">DATE</span>\n</mark>\n No. 1580 on safety precautions for gasfired installations, etc. operating on propane or other liquefied hydrocarbon gases used on board vessels.</br></div>\n\n<h2 style=\"margin: 0\">15</h2>\n\n<div class=\"entities\" style=\"line-height: 2.5; direction: ltr\"></br></div>\n\n<h2 style=\"margin: 0\">16</h2>\n\n<div class=\"entities\" style=\"line-height: 2.5; direction: ltr\">Section 9. Oil-fired stoves</br></div>\n\n<h2 style=\"margin: 0\">17</h2>\n\n<div class=\"entities\" style=\"line-height: 2.5; direction: ltr\">(1) Stoves with electric power supply shall have an oil supply which shuts off automatically if:</br></div></span>"
     },
     "metadata": {}
    }
   ],
   "source": [
    "#\n",
    "# Something that must be done \n",
    "# to make the notebook reload a function\n",
    "# from a costum .py file.\n",
    "#\n",
    "\n",
    "%reload_ext autoreload\n",
    "%autoreload 2\n",
    "\n",
    "import importlib\n",
    "\n",
    "import spacy_matching_rule_identify_date_no\n",
    "\n",
    "from spacy_matching_rule_identify_date_no import identify_date_in_spacy_lines\n",
    "\n",
    "importlib.reload(spacy_matching_rule_identify_date_no)\n",
    "\n",
    "################\n",
    "################\n",
    "\n",
    "result = identify_date_in_spacy_lines(forward_lines_as_spacy_ner_format)\n",
    "#print(result)\n",
    "\n",
    "options = {\"colors\": {\"DATE\": \"yellow\"}}\n",
    "\n",
    "# display result with spacy styling\n",
    "from spacy import displacy\n",
    "displacy.render(result, style='ent', manual=True, options=options)"
   ]
  }
 ]
}