{
 "metadata": {
  "language_info": {
   "codemirror_mode": {
    "name": "ipython",
    "version": 3
   },
   "file_extension": ".py",
   "mimetype": "text/x-python",
   "name": "python",
   "nbconvert_exporter": "python",
   "pygments_lexer": "ipython3",
   "version": "3.9.1-final"
  },
  "orig_nbformat": 2,
  "kernelspec": {
   "name": "python3",
   "display_name": "Python 3.9.1 64-bit",
   "metadata": {
    "interpreter": {
     "hash": "bc7b4049655db007e138d1fbf3ac1680a217a67446542a40573b08e37e7f2b2f"
    }
   }
  }
 },
 "nbformat": 4,
 "nbformat_minor": 2,
 "cells": [
  {
   "cell_type": "code",
   "execution_count": null,
   "metadata": {},
   "outputs": [],
   "source": [
    "!pip install -U spacy==2.3.5"
   ]
  },
  {
   "cell_type": "code",
   "execution_count": null,
   "metadata": {},
   "outputs": [],
   "source": [
    "import spacy\n",
    "print(spacy.__version__)"
   ]
  },
  {
   "cell_type": "code",
   "execution_count": null,
   "metadata": {},
   "outputs": [],
   "source": [
    "# Had to run this to make something below work.\n",
    "# This is a donwgrade of numpy to a version without a bug.\n",
    "# This is a temp solution until a new version of numpy has solved the bug.\n",
    "!pip install numpy==1.19.3 --user"
   ]
  },
  {
   "cell_type": "code",
   "execution_count": null,
   "metadata": {},
   "outputs": [],
   "source": [
    "def is_float(n):\n",
    "    try:\n",
    "        support_float_with_norwegian_format = n.replace(',','.')\n",
    "        float_n = float(support_float_with_norwegian_format)\n",
    "    except ValueError:\n",
    "        return False\n",
    "    else:\n",
    "        return True\n",
    "    \n",
    "# test\n",
    "print(is_float('test'))\n",
    "print(is_float('4'))\n",
    "print(is_float('4.5'))\n",
    "print(is_float('4,5'))"
   ]
  },
  {
   "cell_type": "code",
   "execution_count": null,
   "metadata": {},
   "outputs": [],
   "source": [
    "def is_int(n):\n",
    "    try:\n",
    "        float_n = float(n)\n",
    "        int_n = int(float_n)\n",
    "    except ValueError:\n",
    "        return False\n",
    "    else:\n",
    "        return float_n == int_n\n",
    "\n",
    "# test\n",
    "print(is_int('test'))\n",
    "print(is_int('4'))\n",
    "print(is_int('4.5'))"
   ]
  },
  {
   "cell_type": "code",
   "execution_count": null,
   "metadata": {},
   "outputs": [],
   "source": [
    "text = \"som 1. januar 2017 eller senere bygges om til å bruke drivstoff med flammepunkt under 60 °C. drevet med brensel med flammepunkt på 43 °C (110 °F) eller mer.\"\n",
    "options = {\"colors\": {\"FLASHPOINT\": \"darksalmon\", \"TEMPERATURE\": \"darkorchid\", \"TEMPERATURE_PREFIX\": \"aquamarine\", \"TEMPERATURE_SUFFIX\": \"chocolate\"}}"
   ]
  },
  {
   "cell_type": "code",
   "execution_count": null,
   "metadata": {},
   "outputs": [],
   "source": [
    "import spacy\n",
    "from spacy.lang.en import English\n",
    "from spacy.matcher import Matcher\n",
    "\n",
    "# Blank model.\n",
    "# Does not have a POS tagger.\n",
    "nlp = English()\n",
    "\n",
    "doc = nlp(text)\n",
    "\n",
    "matcher = Matcher(nlp.vocab)\n",
    "\n",
    "#\n",
    "# START - spaCy patterns\n",
    "#\n",
    "\n",
    "matcher.add(\n",
    "    \"FLASHPOINT\",\n",
    "    [\n",
    "        [\n",
    "            {\"LOWER\": {\"IN\": [\"flammepunkt\"]}}\n",
    "        ]\n",
    "    ])\n",
    "\n",
    "matcher.add(\n",
    "    \"TEMPERATURE\",\n",
    "    [\n",
    "        [\n",
    "            {'IS_DIGIT': True},\n",
    "            {\"LOWER\": {\"IN\": [\"°\"]}},\n",
    "            {\"LOWER\": {\"IN\": [\"c\"]}}\n",
    "        ]\n",
    "    ])\n",
    "\n",
    "matcher.add(\n",
    "    \"TEMPERATURE_PREFIX\",\n",
    "    [\n",
    "        [\n",
    "            {\"LOWER\": {\"IN\": [\"under\", \"over\"]}}\n",
    "        ]\n",
    "    ])\n",
    "\n",
    "matcher.add(\n",
    "    \"TEMPERATURE_SUFFIX\",\n",
    "    [\n",
    "        \n",
    "        [\n",
    "            {\"LOWER\": {\"IN\": [\"eller\"]}},\n",
    "            {\"LOWER\": {\"IN\": [\"mer\", \"mindre\"]}}\n",
    "        ]\n",
    "    ])\n",
    "\n",
    "#\n",
    "# END - spaCy patterns\n",
    "#\n",
    "\n",
    "result = []\n",
    "\n",
    "for match_id, token_start, token_end in matcher(doc):\n",
    "\n",
    "    match_id_as_string = nlp.vocab.strings[match_id]\n",
    "    final_token_start = token_start\n",
    "    final_token_end = token_end\n",
    "\n",
    "    spacy_pattern_detection = doc[token_start:token_end]\n",
    "    spacy_pattern_detection_as_lower_text = spacy_pattern_detection.text.lower()\n",
    "    \n",
    "    #\n",
    "    # convert token_span to char_span.\n",
    "    # char_span is needed to display correctly withdisplacy.render().\n",
    "    #\n",
    "    span = doc[final_token_start:final_token_end]\n",
    "    span_char_start = span[0].idx\n",
    "    span_char_end = span[-1].idx + len(span[-1].text)\n",
    "\n",
    "    # return result\n",
    "    identified_entity = {'start': span_char_start, 'end': span_char_end, 'label': match_id_as_string}\n",
    "    result.append(identified_entity)\n",
    "\n",
    "# display result with spacy styling\n",
    "display_this_result = {'text': text, 'ents': sorted(result, key=lambda x: x['start']), 'title': 0}\n",
    "from spacy import displacy\n",
    "displacy.render(display_this_result, style='ent', manual=True, options=options)"
   ]
  },
  {
   "source": [
    "# Functions run from .py file"
   ],
   "cell_type": "markdown",
   "metadata": {}
  },
  {
   "cell_type": "code",
   "execution_count": null,
   "metadata": {},
   "outputs": [],
   "source": [
    "#\n",
    "# Something that must be done \n",
    "# to make the notebook reload a function\n",
    "# from a costum .py file.\n",
    "#\n",
    "\n",
    "%reload_ext autoreload\n",
    "%autoreload 2\n",
    "\n",
    "import importlib\n",
    "\n",
    "import spacy_matching_rule_identify_FLASHPOINT_no\n",
    "\n",
    "from spacy_matching_rule_identify_FLASHPOINT_no import identify_FLASHPOINT_in_text\n",
    "\n",
    "importlib.reload(spacy_matching_rule_identify_FLASHPOINT_no)\n",
    "\n",
    "################\n",
    "################\n",
    "\n",
    "identify_FLASHPOINT_in_text(text)"
   ]
  }
 ]
}