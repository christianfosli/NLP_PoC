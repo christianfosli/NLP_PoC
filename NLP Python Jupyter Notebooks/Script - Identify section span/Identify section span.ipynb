{
 "metadata": {
  "language_info": {
   "codemirror_mode": {
    "name": "ipython",
    "version": 3
   },
   "file_extension": ".py",
   "mimetype": "text/x-python",
   "name": "python",
   "nbconvert_exporter": "python",
   "pygments_lexer": "ipython3",
   "version": "3.9.1-final"
  },
  "orig_nbformat": 2,
  "kernelspec": {
   "name": "python3",
   "display_name": "Python 3.9.1 64-bit",
   "metadata": {
    "interpreter": {
     "hash": "bc7b4049655db007e138d1fbf3ac1680a217a67446542a40573b08e37e7f2b2f"
    }
   }
  }
 },
 "nbformat": 4,
 "nbformat_minor": 2,
 "cells": [
  {
   "cell_type": "code",
   "execution_count": 1,
   "metadata": {},
   "outputs": [
    {
     "output_type": "stream",
     "name": "stdout",
     "text": [
      "Requirement already satisfied: nltk in c:\\users\\lhustvei\\appdata\\local\\programs\\python\\python39\\lib\\site-packages (3.5)\nRequirement already satisfied: click in c:\\users\\lhustvei\\appdata\\local\\programs\\python\\python39\\lib\\site-packages (from nltk) (7.1.2)\nRequirement already satisfied: joblib in c:\\users\\lhustvei\\appdata\\local\\programs\\python\\python39\\lib\\site-packages (from nltk) (1.0.0)\nRequirement already satisfied: regex in c:\\users\\lhustvei\\appdata\\local\\programs\\python\\python39\\lib\\site-packages (from nltk) (2020.11.13)\nRequirement already satisfied: tqdm in c:\\users\\lhustvei\\appdata\\local\\programs\\python\\python39\\lib\\site-packages (from nltk) (4.54.1)\n"
     ]
    }
   ],
   "source": [
    "!pip install nltk"
   ]
  },
  {
   "source": [
    "# The code as notebook"
   ],
   "cell_type": "markdown",
   "metadata": {}
  },
  {
   "cell_type": "code",
   "execution_count": 2,
   "metadata": {},
   "outputs": [
    {
     "output_type": "stream",
     "name": "stdout",
     "text": [
      "['3. Fire, machinery and electric installations\\n', '\\n', 'Section 7. Scope of application of this chapter\\n', '(1) This chapter applies to vessels constructed after 2 January 1988.\\n', '(2) Vessels constructed before 2 January 1988 shall be constructed and equipped in accordance with the rules applicable at the time of construction of the vessel, unless otherwise provided by the individual provisions of this chapter.\\n', '(3) When a vessel is substantially altered or modified, the vessel shall comply with the requirements for a new vessel.\\n', '\\n', '0\\tAmended by Regulation of 4 May 2015 No.. 445 (in force on 6 May 2015).\\n', '\\n', '\\n', '\\n', 'Section 8. Fire safety\\n', '(1) Vessels constructed after 1 January 1992 shall have structural fire protection in accordance with chapter C14 of Nordic Boat Standard (1990), unless otherwise provided by the individual provisions of this chapter.\\n', '(2) Vessels constructed before 1 January 1992 shall have structural fire protection in accordance with the rules applicable at the time of construction of the vessel.\\n', '(3) Irrespective of the year of construction of the vessel, gasfired installations shall satisfy the requirements of Regulations of 20 October 1983 No. 1580 on safety precautions for gasfired installations, etc. operating on propane or other liquefied hydrocarbon gases used on board vessels.\\n', '\\n', 'Section 9. Oil-fired stoves\\n', '(1) Stoves with electric power supply shall have an oil supply which shuts off automatically if:\\n', 'a)\\tthe stove is over-heated (maximum 400°C in smoke gas);\\n', '\\n', 'b)\\tthe flame goes out;\\n', '\\n', 'c)\\ta failure occurs in the supply of air or power.\\n', '\\n', '(2) Stoves without electric power supply shall have an oil supply which shuts off automatically if\\n', 'a)\\tthe stove is over-heated (maximum 400°C in smoke gas);\\n', '\\n', 'b)\\tthe flame goes out.\\n', '\\n', '(3) Drip regulation stoves (regulation valve with observation hole) need not have automatic shutoff of the oil supply if the flame will go out due to the oil consumption being limited by an oil regulation valve. The installation instructions shall indicate the maximum permitted difference in height between the oil tank and the regulation valve. An oil pressure reduction valve shall be fitted if satisfactory regulation of the oil supply cannot be achieved through pressure variations. The overflow system shall be capable of receiving the full volume of the tank.\\n', '(4) The resetting of the safety function shall be manual.\\n', '(5) The installation instructions shall be kept on board. The instructions for use shall be posted near the stove.\\n', '(6) Stoves with accessories shall be installed in accordance with the installation instructions from the manufacturer.\\n', '(7) Stoves shall have smoke outlet to uptake.\\n', '\\n', 'Section 10. Installation, etc. of oilfired stove\\n', '(1) Stoves shall be securely fixed to the floor or to a fixed bench, if possible near the centre line of the vessel.\\n', '(2) Stoves without automatic shutoff of oil supply in the event of the flame going out, shall be provided with a separate oil tank of maximum 40 litres. The oil tank shall not be filled automatically, and shall be placed on the height indicated in the installation instructions.\\n', '(3) The oil tank shall have a water separator and a plug for draining off possible collection of water and shall be placed outside the space where the stove is installed.\\n', '(4) The oil pipe to the regulator shall have a filter for the separation of mud and water. The filter shall not be fitted above the stove.\\n', '(5) Pipes made of copper or equivalent material shall be used between the tank and the stove. The pipes shall be fixed and placed so as to prevent the formation of air pockets.\\n', '(6) Stoves shall have overflow openings with drain pipes and collection tank. Both the stove and the float valve, if used, shall be connected to the collection tank.\\n', '(7) Smoke uptake pipes shall have a diameter which is not less than the smoke outlet of the stove, and the piping shall be made as straight as possible.\\n', '(8) Drainage of condensed water/mud, cleaning of filters, inspection of burners and other components shall be carried out in the time intervals stipulated in the operating instructions.\\n', '(9) Spaces with a stove shall be well ventilated.\\n', '(10) On vessels of 8 to 15 metres in overall length the stove shall be inspected by an approved company within six months of being installed.\\n', '\\n', 'Section 11. Insulation of fireplaces, etc.\\n', '(1) Bulkheads shall be insulated with non-combustible material in accordance with Appendix 4.\\n', '(2) Below stoves, wooden floor or combustible floor covering shall be protected by steel or aluminium sheets covering the whole floor area under the fireplace and in front of the stove at least 15 cm from the fire door. Where the stove is placed on a bench or similar, the bench shall be protected by non-combustible material.\\n', '\\n', 'Section 12. Smoke uptake and exhaust pipes\\n', '(1) Smoke uptakes and exhaust pipes shall consist of at least 3 mm thick steel plates and shall be securely fixed. Smoke uptakes shall be carried at least 1.3 m above deck.\\n', '(2) Saucer formed rockwool sheets of at least 6 cm thickness shall be provided between smoke uptake and combustible material. Insulation in the form of non-combustible material shall be provided between metal cover plates and combustible material. Alternatively, a pipe with a diameter at least 6 cm larger than the smoke uptake pipe may be fitted outside this pipe, in order to provide vertical air circulation between the pipes. Insulation by saucer formed rockwool or mineral wool twine of at least 3 cm thickness shall be provided between the outer pipe and combustible material. The pipe shall be carried to at least 1 m above the deck, and the outlet shall be protected with a collar.\\n', '(3) When smoke uptake is carried along a bulkhead, the bulkhead shall be insulated with non-combustible material. Smoke uptakes shall not be placed closer than 10 cm to insulated bulkheads. Where the smoke uptake (pipe) is insulated with saucer formed rockwool or mineral wool twine of at least 2 cm thickness, the distance to the insulated bulkhead may be reduced to 5 cm.\\n', '(4) Any exhaust manifold which is not watercooled, and parts of exhaust pipes which may cause ignition, shall be insulated so that oil cannot penetrate. Where gases are watercooled, other arrangements may be accepted. Exhaust pipes shall not be closer than 2 cm to combustible material.\\n', '(5) Oil pipes shall be placed as far as possible away from exhaust pipes and hot engine parts.\\n', '\\n', 'Section 13. Insulation with non-combustible material\\n', 'Non-combustible material means a material which, when tested and evaluated in accordance with MSC.61(67) (the FTP Code), satisfies the requirements for qualifying materials as non-combustible. The insulation shall, if necessary in order to preserve the fire-insulating effect, be mounted with a sheet of galvanized steel or aluminium.\\n', '\\n', 'Section 14. Insulation of machinery spaces in wooden vessels\\n', '(1) Machinery spaces in wooden vessels shall have floors of steel or aluminium plates. Machinery spaces shall be insulated with non-combustible material or have an approved fire-extinguishing system.\\n', '(2) In machinery spaces without inside planking, wooden casings, beams and surfaces under deck as well as bulkheads forwards and aft in the machinery space shall be insulated with non-combustible material.\\n', '(3) In machinery spaces with inside planking, all woodwork shall be insulated with non-combustible material down to the lower edge of the floor. No insulation is required behind fuel oil tanks if the other insulation is fitted tightly around the tank.\\n', '(4) In vessels where the engine is not placed in a separate compartment, all combustible material which is exposed to heat from exhaust manifolds, exhaust pipes, etc. shall be insulated with non-combustible material. When an engine cover is used, this shall be insulated on the inside and be mounted with a galvanized steel or aluminium sheet.\\n', '\\n', 'Section 15. Fire-extinguishing systems in machinery spaces\\n', '(1) Vessels of 10.67 to 15 metres in overall length shall have a fire-extinguishing system. When there are persons on board, the fire-extinguishing system shall only be capable of manual release.\\n', '(2) Extinguishing medium shall be of an approved type. The amount of extinguishing medium is determined in each individual case depending on the size of the machinery space.\\n', '(3) The fire-extinguishing system shall only be capable of being released from a position outside the machinery space. The release equipment shall be clearly marked, provided with instructions for use and protected against unintentional release.\\n', '(4) Vessels of less than 10.67 metres in overall length constructed after 1 January 1992 may as an alternative be equipped with a fire-extinguishing system in accordance with guidelines laid down in chapter C14 of Nordic Boat Standard (1990).\\n', '(5) CO2 containers and other containers for extinguishing gas which could may be hazardous in the event of a leak, with appurtenant release device, shall be placed in a separate space/locker outside the machinery space. Gastight bulkheads shall be provided to adjacent spaces and entrance from open deck. An alarm signal shall be activated automatically when the CO2 space/locker is opened. It should be ensured that no persons are present in the machinery space before the CO2 gas is released. The space/locker for release of CO2 shall have ventilation to the open air.\\n', '\\n', 'Section 16. Fire detection and alarm system\\n', '(1) Vessels of 10.67 to 15 metres in overall length, irrespective of year of construction, shall have fire detection system and fire alarm system for machinery spaces and smoke alarm system for the cabins in accordance with Appendix 5.\\n', '(2) Vessels of less than 10.67 meters in overall length shall be fitted with at least one smoke detector and one heat detector in machinery spaces, at least one smoke detector in recreational spaces, and at least one smoke detector in the wheelhouse.\\n', '\\n', 'Section 17. Fire extinguishers\\n', '(1) All vessels, irrespective of year of construction, shall have at least two approved fire extinguishers of at least 6 kg. At least one approved fire extinguisher shall be placed at a suitable place outside the machinery space and at least one approved fire extinguisher shall be placed in the accommodation spaces. For vessels without wheelhouse or accommodation spaces one fire extinguisher is sufficient.\\n', '(1) Fire extinguishers with pressurised extinguishing medium shall not be placed in accommodation spaces. Fire extinguishers which may be exposed to frost shall be of a frost-proof type.\\n', '(3) At least one spare charge shall be provided for each extinguisher. If the extinguisher is of a type that cannot be charged on board, the number of extinguishers shall be increased by 50 per cent.\\n', '(4) Fire extinguishers shall be inspected annually in accordance with NS3910. The date of the inspection shall be marked on the extinguisher.\\n', '\\n', '0\\tAmended by Regulation of 4 May 2015 No.. 445 (in force on 6 May 2015).\\n', '\\n', '\\n', '\\n', 'Section 18. Ventilation systems\\n', \"The vessel's machinery space shall have at least two ventilators capable of being closed from deck. Cabins shall have at least two ventilators with a diameter of at least 8 cm.\\n\", '\\n', 'Section 19. Materials, etc.\\n', 'Materials, varnishes, paints, etc. produced on a nitrocellulose basis or any other basis which will readily ignite are not permitted to be used anywhere on board.\\n', '\\n', 'Section 20. Storage of oil fuel and other flammable liquids\\n', '(1) Oil fuel shall be stored in tanks of steel or equivalent material.\\n', '(2) Outlets from oil fuel tanks shall be fitted with a closing valve or cock on the tank itself, which is capable of being closed from the deck. Test cocks and cocks for oil gauge glass shall be of a self-closing type. The tank shall be fitted with drip trays. In decked vessels with machinery space, filling pipes and airing pipes shall be carried through the deck and into open air.\\n', '(3) If extra fuel or other flammable liquids cannot be placed on open deck, they shall be stored in suitable containers in a well-ventilated room/locker with a door communicating only with open deck and without electrical or other sources of ignition.\\n', '\\n', 'Section 21. Materials in pipelines, etc.\\n', '(1) Seawater pipes, bilge pipes, pipes conveying oil and other pipelines required for the safety of the ship shall be made of non-combustible material. Short, flexible pipe connections made of a material which is not easily rendered ineffective by heat, may be accepted on:\\n', 'a)\\tseawater pipes;\\n', '\\n', 'b)\\tshort, flexible pipe connections on pipes conveying oil, when necessitated by vibrations.\\n', '\\n', '(2) Where failure of the material due to fire may lead to flooding, scuppers, sanitary discharges or other outlets which are close to the waterline shall be made of oil-resistant and reinforced materials which are not easily damaged by heat.\\n', '\\n', 'Section 22.  Machinery and piping systems\\n', '(1) Vessels constructed after 1 January 1992 shall satisfy the requirements of Nordic Boat Standard (1990)\\n', 'a)\\tC6 on bilge systems;\\n', '\\n', 'b)\\tC9 on oil fuel systems;\\n', '\\n', 'c)\\tC8 on engine installations; and\\n', '\\n', 'd)\\tC7 and C10 on rudder and propeller arrangements.\\n', '\\n', '(2) Vessels constructed before 1 January 1992 shall as far as possible satisfy the requirements of Nordic Boat Standard (1990 chapter C6 on bilge systems.\\n', '\\n', 'Section 23. Electrical installations\\n', '(1) Vessels of 6 to 15 metres in overall length constructed after 1 January 1992 with electrical installations with voltages of up to 50 V shall satisfy the requirements of Nordic Boat Standard (1990) C11 on electrical installations.\\n', '(2) Vessels of 6 to 15 metres in overall length constructed before 1 January 1992 with electrical installations with voltages of up to 50 V shall be in compliance with the rules in force at the time of construction.\\n', '(3) Vessels of 6 to 15 metres in overall length constructed between 1 January 1992 and 2002 with electrical installations with voltages of more than 50 V shall satisfy the requirements laid down in the now repealed Regulations of 1 March 1990 No. 125 for electrical installations - Maritime installations.\\n', '(4) Vessels of 6 to 15 metres in overall length constructed after 1 January 2002 with electrical installations with voltages of more than 50 V shall satisfy the requirements laid down in Regulations of 4 December 2001 No. 1450 concerning maritime electrical installations, laid down by the Norwegian Directorate for Civil Protection.\\n', '\\n', 'Section 24. Emergency source of power and emergency lighting, etc.\\n', '(1) Vessels of 10.67 to 15 metres in overall length constructed after 1 January 1992 shall have an emergency source of power providing satisfactory lighting for at least 2 hours to:\\n', 'a)\\tlighting in areas with life-saving appliances and launching arrangements;\\n', '\\n', 'b)\\tlighting in alleyways, stairways and exits to the life-saving appliances and of the sea where the life-saving appliances are launched;\\n', '\\n', 'c)\\tnecessary navigation lights; and\\n', '\\n', 'd)\\trequired alarm system.\\n', '\\n', '(2) The emergency power shall be provided by one of the following two sources:\\n', 'a)\\tan accumulator battery capable of carrying the load pursuant to the first paragraph without recharging or suffering an excessive voltage drop, and which is automatically connected to the emergency switchboard when the main power fails; or\\n', '\\n', 'b)\\ta generator driven by a suitable type of power machinery with an independent supply of fuel, appropriate starting arrangements and driven by fuel having a flashpoint of not less than 43°C (110°F).\\n', '\\n', '(3) The entire installation shall be capable of operating even when the vessel is listed to 22.5 degrees or when the trim of the vessel is 10 degrees.\\n', '(4) Switchboards for main power and emergency power shall be clearly marked and be placed, as far as practicable, so that they cannot be exposed to water or fire. The emergency source of power shall if possible be placed above deck. If the emergency source of power is placed in the machinery space, it shall be placed above the floor and in a well-ventilated place.\\n', '(5) The emergency source of power and the emergency lighting on vessels constructed before 1 January 1992 shall be in accordance with the rules in force at the time of construction.\\n', '\\n', 'Section 25. Equivalents\\n', 'Vessels constructed pursuant to Nordic Boat Standard (1990) are considered to satisfy the requirements of sections 18, 19 and 20.\\n']\n"
     ]
    }
   ],
   "source": [
    "with open('./input - Chapter 3 - Text from word document with correct formating.txt', 'r', encoding='utf-8') as f:\n",
    "\n",
    "    forward_file_lines = f.readlines() \n",
    "    \n",
    "print(forward_file_lines)"
   ]
  },
  {
   "cell_type": "code",
   "execution_count": 3,
   "metadata": {},
   "outputs": [],
   "source": [
    "# Does the input string contain a digit?\n",
    "def hasNumbers(inputString):\n",
    "    return any(char.isdigit() for char in inputString)"
   ]
  },
  {
   "cell_type": "code",
   "execution_count": 5,
   "metadata": {},
   "outputs": [
    {
     "output_type": "stream",
     "name": "stdout",
     "text": [
      "[['3', '.', 'Fire', ',', 'machinery', 'and', 'electric', 'installations'], [], ['Section', '7', '.', 'Scope', 'of', 'application', 'of', 'this', 'chapter'], ['(', '1', ')', 'This', 'chapter', 'applies', 'to', 'vessels', 'constructed', 'after', '2', 'January', '1988', '.'], ['(', '2', ')', 'Vessels', 'constructed', 'before', '2', 'January', '1988', 'shall', 'be', 'constructed', 'and', 'equipped', 'in', 'accordance', 'with', 'the', 'rules', 'applicable', 'at', 'the', 'time', 'of', 'construction', 'of', 'the', 'vessel', ',', 'unless', 'otherwise', 'provided', 'by', 'the', 'individual', 'provisions', 'of', 'this', 'chapter', '.'], ['(', '3', ')', 'When', 'a', 'vessel', 'is', 'substantially', 'altered', 'or', 'modified', ',', 'the', 'vessel', 'shall', 'comply', 'with', 'the', 'requirements', 'for', 'a', 'new', 'vessel', '.'], [], ['0', 'Amended', 'by', 'Regulation', 'of', '4', 'May', '2015', 'No', '..', '445', '(', 'in', 'force', 'on', '6', 'May', '2015', ')', '.'], [], [], [], ['Section', '8', '.', 'Fire', 'safety'], ['(', '1', ')', 'Vessels', 'constructed', 'after', '1', 'January', '1992', 'shall', 'have', 'structural', 'fire', 'protection', 'in', 'accordance', 'with', 'chapter', 'C14', 'of', 'Nordic', 'Boat', 'Standard', '(', '1990', ')', ',', 'unless', 'otherwise', 'provided', 'by', 'the', 'individual', 'provisions', 'of', 'this', 'chapter', '.'], ['(', '2', ')', 'Vessels', 'constructed', 'before', '1', 'January', '1992', 'shall', 'have', 'structural', 'fire', 'protection', 'in', 'accordance', 'with', 'the', 'rules', 'applicable', 'at', 'the', 'time', 'of', 'construction', 'of', 'the', 'vessel', '.'], ['(', '3', ')', 'Irrespective', 'of', 'the', 'year', 'of', 'construction', 'of', 'the', 'vessel', ',', 'gasfired', 'installations', 'shall', 'satisfy', 'the', 'requirements', 'of', 'Regulations', 'of', '20', 'October', '1983', 'No', '.', '1580', 'on', 'safety', 'precautions', 'for', 'gasfired', 'installations', ',', 'etc', '.', 'operating', 'on', 'propane', 'or', 'other', 'liquefied', 'hydrocarbon', 'gases', 'used', 'on', 'board', 'vessels', '.'], [], ['Section', '9', '.', 'Oil-fired', 'stoves'], ['(', '1', ')', 'Stoves', 'with', 'electric', 'power', 'supply', 'shall', 'have', 'an', 'oil', 'supply', 'which', 'shuts', 'off', 'automatically', 'if', ':'], ['a', ')', 'the', 'stove', 'is', 'over-heated', '(', 'maximum', '400°C', 'in', 'smoke', 'gas', ')', ';'], [], ['b', ')', 'the', 'flame', 'goes', 'out', ';'], [], ['c', ')', 'a', 'failure', 'occurs', 'in', 'the', 'supply', 'of', 'air', 'or', 'power', '.'], [], ['(', '2', ')', 'Stoves', 'without', 'electric', 'power', 'supply', 'shall', 'have', 'an', 'oil', 'supply', 'which', 'shuts', 'off', 'automatically', 'if'], ['a', ')', 'the', 'stove', 'is', 'over-heated', '(', 'maximum', '400°C', 'in', 'smoke', 'gas', ')', ';'], [], ['b', ')', 'the', 'flame', 'goes', 'out', '.'], [], ['(', '3', ')', 'Drip', 'regulation', 'stoves', '(', 'regulation', 'valve', 'with', 'observation', 'hole', ')', 'need', 'not', 'have', 'automatic', 'shutoff', 'of', 'the', 'oil', 'supply', 'if', 'the', 'flame', 'will', 'go', 'out', 'due', 'to', 'the', 'oil', 'consumption', 'being', 'limited', 'by', 'an', 'oil', 'regulation', 'valve', '.', 'The', 'installation', 'instructions', 'shall', 'indicate', 'the', 'maximum', 'permitted', 'difference', 'in', 'height', 'between', 'the', 'oil', 'tank', 'and', 'the', 'regulation', 'valve', '.', 'An', 'oil', 'pressure', 'reduction', 'valve', 'shall', 'be', 'fitted', 'if', 'satisfactory', 'regulation', 'of', 'the', 'oil', 'supply', 'can', 'not', 'be', 'achieved', 'through', 'pressure', 'variations', '.', 'The', 'overflow', 'system', 'shall', 'be', 'capable', 'of', 'receiving', 'the', 'full', 'volume', 'of', 'the', 'tank', '.'], ['(', '4', ')', 'The', 'resetting', 'of', 'the', 'safety', 'function', 'shall', 'be', 'manual', '.'], ['(', '5', ')', 'The', 'installation', 'instructions', 'shall', 'be', 'kept', 'on', 'board', '.', 'The', 'instructions', 'for', 'use', 'shall', 'be', 'posted', 'near', 'the', 'stove', '.'], ['(', '6', ')', 'Stoves', 'with', 'accessories', 'shall', 'be', 'installed', 'in', 'accordance', 'with', 'the', 'installation', 'instructions', 'from', 'the', 'manufacturer', '.'], ['(', '7', ')', 'Stoves', 'shall', 'have', 'smoke', 'outlet', 'to', 'uptake', '.'], [], ['Section', '10', '.', 'Installation', ',', 'etc', '.', 'of', 'oilfired', 'stove'], ['(', '1', ')', 'Stoves', 'shall', 'be', 'securely', 'fixed', 'to', 'the', 'floor', 'or', 'to', 'a', 'fixed', 'bench', ',', 'if', 'possible', 'near', 'the', 'centre', 'line', 'of', 'the', 'vessel', '.'], ['(', '2', ')', 'Stoves', 'without', 'automatic', 'shutoff', 'of', 'oil', 'supply', 'in', 'the', 'event', 'of', 'the', 'flame', 'going', 'out', ',', 'shall', 'be', 'provided', 'with', 'a', 'separate', 'oil', 'tank', 'of', 'maximum', '40', 'litres', '.', 'The', 'oil', 'tank', 'shall', 'not', 'be', 'filled', 'automatically', ',', 'and', 'shall', 'be', 'placed', 'on', 'the', 'height', 'indicated', 'in', 'the', 'installation', 'instructions', '.'], ['(', '3', ')', 'The', 'oil', 'tank', 'shall', 'have', 'a', 'water', 'separator', 'and', 'a', 'plug', 'for', 'draining', 'off', 'possible', 'collection', 'of', 'water', 'and', 'shall', 'be', 'placed', 'outside', 'the', 'space', 'where', 'the', 'stove', 'is', 'installed', '.'], ['(', '4', ')', 'The', 'oil', 'pipe', 'to', 'the', 'regulator', 'shall', 'have', 'a', 'filter', 'for', 'the', 'separation', 'of', 'mud', 'and', 'water', '.', 'The', 'filter', 'shall', 'not', 'be', 'fitted', 'above', 'the', 'stove', '.'], ['(', '5', ')', 'Pipes', 'made', 'of', 'copper', 'or', 'equivalent', 'material', 'shall', 'be', 'used', 'between', 'the', 'tank', 'and', 'the', 'stove', '.', 'The', 'pipes', 'shall', 'be', 'fixed', 'and', 'placed', 'so', 'as', 'to', 'prevent', 'the', 'formation', 'of', 'air', 'pockets', '.'], ['(', '6', ')', 'Stoves', 'shall', 'have', 'overflow', 'openings', 'with', 'drain', 'pipes', 'and', 'collection', 'tank', '.', 'Both', 'the', 'stove', 'and', 'the', 'float', 'valve', ',', 'if', 'used', ',', 'shall', 'be', 'connected', 'to', 'the', 'collection', 'tank', '.'], ['(', '7', ')', 'Smoke', 'uptake', 'pipes', 'shall', 'have', 'a', 'diameter', 'which', 'is', 'not', 'less', 'than', 'the', 'smoke', 'outlet', 'of', 'the', 'stove', ',', 'and', 'the', 'piping', 'shall', 'be', 'made', 'as', 'straight', 'as', 'possible', '.'], ['(', '8', ')', 'Drainage', 'of', 'condensed', 'water/mud', ',', 'cleaning', 'of', 'filters', ',', 'inspection', 'of', 'burners', 'and', 'other', 'components', 'shall', 'be', 'carried', 'out', 'in', 'the', 'time', 'intervals', 'stipulated', 'in', 'the', 'operating', 'instructions', '.'], ['(', '9', ')', 'Spaces', 'with', 'a', 'stove', 'shall', 'be', 'well', 'ventilated', '.'], ['(', '10', ')', 'On', 'vessels', 'of', '8', 'to', '15', 'metres', 'in', 'overall', 'length', 'the', 'stove', 'shall', 'be', 'inspected', 'by', 'an', 'approved', 'company', 'within', 'six', 'months', 'of', 'being', 'installed', '.'], [], ['Section', '11', '.', 'Insulation', 'of', 'fireplaces', ',', 'etc', '.'], ['(', '1', ')', 'Bulkheads', 'shall', 'be', 'insulated', 'with', 'non-combustible', 'material', 'in', 'accordance', 'with', 'Appendix', '4', '.'], ['(', '2', ')', 'Below', 'stoves', ',', 'wooden', 'floor', 'or', 'combustible', 'floor', 'covering', 'shall', 'be', 'protected', 'by', 'steel', 'or', 'aluminium', 'sheets', 'covering', 'the', 'whole', 'floor', 'area', 'under', 'the', 'fireplace', 'and', 'in', 'front', 'of', 'the', 'stove', 'at', 'least', '15', 'cm', 'from', 'the', 'fire', 'door', '.', 'Where', 'the', 'stove', 'is', 'placed', 'on', 'a', 'bench', 'or', 'similar', ',', 'the', 'bench', 'shall', 'be', 'protected', 'by', 'non-combustible', 'material', '.'], [], ['Section', '12', '.', 'Smoke', 'uptake', 'and', 'exhaust', 'pipes'], ['(', '1', ')', 'Smoke', 'uptakes', 'and', 'exhaust', 'pipes', 'shall', 'consist', 'of', 'at', 'least', '3', 'mm', 'thick', 'steel', 'plates', 'and', 'shall', 'be', 'securely', 'fixed', '.', 'Smoke', 'uptakes', 'shall', 'be', 'carried', 'at', 'least', '1.3', 'm', 'above', 'deck', '.'], ['(', '2', ')', 'Saucer', 'formed', 'rockwool', 'sheets', 'of', 'at', 'least', '6', 'cm', 'thickness', 'shall', 'be', 'provided', 'between', 'smoke', 'uptake', 'and', 'combustible', 'material', '.', 'Insulation', 'in', 'the', 'form', 'of', 'non-combustible', 'material', 'shall', 'be', 'provided', 'between', 'metal', 'cover', 'plates', 'and', 'combustible', 'material', '.', 'Alternatively', ',', 'a', 'pipe', 'with', 'a', 'diameter', 'at', 'least', '6', 'cm', 'larger', 'than', 'the', 'smoke', 'uptake', 'pipe', 'may', 'be', 'fitted', 'outside', 'this', 'pipe', ',', 'in', 'order', 'to', 'provide', 'vertical', 'air', 'circulation', 'between', 'the', 'pipes', '.', 'Insulation', 'by', 'saucer', 'formed', 'rockwool', 'or', 'mineral', 'wool', 'twine', 'of', 'at', 'least', '3', 'cm', 'thickness', 'shall', 'be', 'provided', 'between', 'the', 'outer', 'pipe', 'and', 'combustible', 'material', '.', 'The', 'pipe', 'shall', 'be', 'carried', 'to', 'at', 'least', '1', 'm', 'above', 'the', 'deck', ',', 'and', 'the', 'outlet', 'shall', 'be', 'protected', 'with', 'a', 'collar', '.'], ['(', '3', ')', 'When', 'smoke', 'uptake', 'is', 'carried', 'along', 'a', 'bulkhead', ',', 'the', 'bulkhead', 'shall', 'be', 'insulated', 'with', 'non-combustible', 'material', '.', 'Smoke', 'uptakes', 'shall', 'not', 'be', 'placed', 'closer', 'than', '10', 'cm', 'to', 'insulated', 'bulkheads', '.', 'Where', 'the', 'smoke', 'uptake', '(', 'pipe', ')', 'is', 'insulated', 'with', 'saucer', 'formed', 'rockwool', 'or', 'mineral', 'wool', 'twine', 'of', 'at', 'least', '2', 'cm', 'thickness', ',', 'the', 'distance', 'to', 'the', 'insulated', 'bulkhead', 'may', 'be', 'reduced', 'to', '5', 'cm', '.'], ['(', '4', ')', 'Any', 'exhaust', 'manifold', 'which', 'is', 'not', 'watercooled', ',', 'and', 'parts', 'of', 'exhaust', 'pipes', 'which', 'may', 'cause', 'ignition', ',', 'shall', 'be', 'insulated', 'so', 'that', 'oil', 'can', 'not', 'penetrate', '.', 'Where', 'gases', 'are', 'watercooled', ',', 'other', 'arrangements', 'may', 'be', 'accepted', '.', 'Exhaust', 'pipes', 'shall', 'not', 'be', 'closer', 'than', '2', 'cm', 'to', 'combustible', 'material', '.'], ['(', '5', ')', 'Oil', 'pipes', 'shall', 'be', 'placed', 'as', 'far', 'as', 'possible', 'away', 'from', 'exhaust', 'pipes', 'and', 'hot', 'engine', 'parts', '.'], [], ['Section', '13', '.', 'Insulation', 'with', 'non-combustible', 'material'], ['Non-combustible', 'material', 'means', 'a', 'material', 'which', ',', 'when', 'tested', 'and', 'evaluated', 'in', 'accordance', 'with', 'MSC.61', '(', '67', ')', '(', 'the', 'FTP', 'Code', ')', ',', 'satisfies', 'the', 'requirements', 'for', 'qualifying', 'materials', 'as', 'non-combustible', '.', 'The', 'insulation', 'shall', ',', 'if', 'necessary', 'in', 'order', 'to', 'preserve', 'the', 'fire-insulating', 'effect', ',', 'be', 'mounted', 'with', 'a', 'sheet', 'of', 'galvanized', 'steel', 'or', 'aluminium', '.'], [], ['Section', '14', '.', 'Insulation', 'of', 'machinery', 'spaces', 'in', 'wooden', 'vessels'], ['(', '1', ')', 'Machinery', 'spaces', 'in', 'wooden', 'vessels', 'shall', 'have', 'floors', 'of', 'steel', 'or', 'aluminium', 'plates', '.', 'Machinery', 'spaces', 'shall', 'be', 'insulated', 'with', 'non-combustible', 'material', 'or', 'have', 'an', 'approved', 'fire-extinguishing', 'system', '.'], ['(', '2', ')', 'In', 'machinery', 'spaces', 'without', 'inside', 'planking', ',', 'wooden', 'casings', ',', 'beams', 'and', 'surfaces', 'under', 'deck', 'as', 'well', 'as', 'bulkheads', 'forwards', 'and', 'aft', 'in', 'the', 'machinery', 'space', 'shall', 'be', 'insulated', 'with', 'non-combustible', 'material', '.'], ['(', '3', ')', 'In', 'machinery', 'spaces', 'with', 'inside', 'planking', ',', 'all', 'woodwork', 'shall', 'be', 'insulated', 'with', 'non-combustible', 'material', 'down', 'to', 'the', 'lower', 'edge', 'of', 'the', 'floor', '.', 'No', 'insulation', 'is', 'required', 'behind', 'fuel', 'oil', 'tanks', 'if', 'the', 'other', 'insulation', 'is', 'fitted', 'tightly', 'around', 'the', 'tank', '.'], ['(', '4', ')', 'In', 'vessels', 'where', 'the', 'engine', 'is', 'not', 'placed', 'in', 'a', 'separate', 'compartment', ',', 'all', 'combustible', 'material', 'which', 'is', 'exposed', 'to', 'heat', 'from', 'exhaust', 'manifolds', ',', 'exhaust', 'pipes', ',', 'etc', '.', 'shall', 'be', 'insulated', 'with', 'non-combustible', 'material', '.', 'When', 'an', 'engine', 'cover', 'is', 'used', ',', 'this', 'shall', 'be', 'insulated', 'on', 'the', 'inside', 'and', 'be', 'mounted', 'with', 'a', 'galvanized', 'steel', 'or', 'aluminium', 'sheet', '.'], [], ['Section', '15', '.', 'Fire-extinguishing', 'systems', 'in', 'machinery', 'spaces'], ['(', '1', ')', 'Vessels', 'of', '10.67', 'to', '15', 'metres', 'in', 'overall', 'length', 'shall', 'have', 'a', 'fire-extinguishing', 'system', '.', 'When', 'there', 'are', 'persons', 'on', 'board', ',', 'the', 'fire-extinguishing', 'system', 'shall', 'only', 'be', 'capable', 'of', 'manual', 'release', '.'], ['(', '2', ')', 'Extinguishing', 'medium', 'shall', 'be', 'of', 'an', 'approved', 'type', '.', 'The', 'amount', 'of', 'extinguishing', 'medium', 'is', 'determined', 'in', 'each', 'individual', 'case', 'depending', 'on', 'the', 'size', 'of', 'the', 'machinery', 'space', '.'], ['(', '3', ')', 'The', 'fire-extinguishing', 'system', 'shall', 'only', 'be', 'capable', 'of', 'being', 'released', 'from', 'a', 'position', 'outside', 'the', 'machinery', 'space', '.', 'The', 'release', 'equipment', 'shall', 'be', 'clearly', 'marked', ',', 'provided', 'with', 'instructions', 'for', 'use', 'and', 'protected', 'against', 'unintentional', 'release', '.'], ['(', '4', ')', 'Vessels', 'of', 'less', 'than', '10.67', 'metres', 'in', 'overall', 'length', 'constructed', 'after', '1', 'January', '1992', 'may', 'as', 'an', 'alternative', 'be', 'equipped', 'with', 'a', 'fire-extinguishing', 'system', 'in', 'accordance', 'with', 'guidelines', 'laid', 'down', 'in', 'chapter', 'C14', 'of', 'Nordic', 'Boat', 'Standard', '(', '1990', ')', '.'], ['(', '5', ')', 'CO2', 'containers', 'and', 'other', 'containers', 'for', 'extinguishing', 'gas', 'which', 'could', 'may', 'be', 'hazardous', 'in', 'the', 'event', 'of', 'a', 'leak', ',', 'with', 'appurtenant', 'release', 'device', ',', 'shall', 'be', 'placed', 'in', 'a', 'separate', 'space/locker', 'outside', 'the', 'machinery', 'space', '.', 'Gastight', 'bulkheads', 'shall', 'be', 'provided', 'to', 'adjacent', 'spaces', 'and', 'entrance', 'from', 'open', 'deck', '.', 'An', 'alarm', 'signal', 'shall', 'be', 'activated', 'automatically', 'when', 'the', 'CO2', 'space/locker', 'is', 'opened', '.', 'It', 'should', 'be', 'ensured', 'that', 'no', 'persons', 'are', 'present', 'in', 'the', 'machinery', 'space', 'before', 'the', 'CO2', 'gas', 'is', 'released', '.', 'The', 'space/locker', 'for', 'release', 'of', 'CO2', 'shall', 'have', 'ventilation', 'to', 'the', 'open', 'air', '.'], [], ['Section', '16', '.', 'Fire', 'detection', 'and', 'alarm', 'system'], ['(', '1', ')', 'Vessels', 'of', '10.67', 'to', '15', 'metres', 'in', 'overall', 'length', ',', 'irrespective', 'of', 'year', 'of', 'construction', ',', 'shall', 'have', 'fire', 'detection', 'system', 'and', 'fire', 'alarm', 'system', 'for', 'machinery', 'spaces', 'and', 'smoke', 'alarm', 'system', 'for', 'the', 'cabins', 'in', 'accordance', 'with', 'Appendix', '5', '.'], ['(', '2', ')', 'Vessels', 'of', 'less', 'than', '10.67', 'meters', 'in', 'overall', 'length', 'shall', 'be', 'fitted', 'with', 'at', 'least', 'one', 'smoke', 'detector', 'and', 'one', 'heat', 'detector', 'in', 'machinery', 'spaces', ',', 'at', 'least', 'one', 'smoke', 'detector', 'in', 'recreational', 'spaces', ',', 'and', 'at', 'least', 'one', 'smoke', 'detector', 'in', 'the', 'wheelhouse', '.'], [], ['Section', '17', '.', 'Fire', 'extinguishers'], ['(', '1', ')', 'All', 'vessels', ',', 'irrespective', 'of', 'year', 'of', 'construction', ',', 'shall', 'have', 'at', 'least', 'two', 'approved', 'fire', 'extinguishers', 'of', 'at', 'least', '6', 'kg', '.', 'At', 'least', 'one', 'approved', 'fire', 'extinguisher', 'shall', 'be', 'placed', 'at', 'a', 'suitable', 'place', 'outside', 'the', 'machinery', 'space', 'and', 'at', 'least', 'one', 'approved', 'fire', 'extinguisher', 'shall', 'be', 'placed', 'in', 'the', 'accommodation', 'spaces', '.', 'For', 'vessels', 'without', 'wheelhouse', 'or', 'accommodation', 'spaces', 'one', 'fire', 'extinguisher', 'is', 'sufficient', '.'], ['(', '1', ')', 'Fire', 'extinguishers', 'with', 'pressurised', 'extinguishing', 'medium', 'shall', 'not', 'be', 'placed', 'in', 'accommodation', 'spaces', '.', 'Fire', 'extinguishers', 'which', 'may', 'be', 'exposed', 'to', 'frost', 'shall', 'be', 'of', 'a', 'frost-proof', 'type', '.'], ['(', '3', ')', 'At', 'least', 'one', 'spare', 'charge', 'shall', 'be', 'provided', 'for', 'each', 'extinguisher', '.', 'If', 'the', 'extinguisher', 'is', 'of', 'a', 'type', 'that', 'can', 'not', 'be', 'charged', 'on', 'board', ',', 'the', 'number', 'of', 'extinguishers', 'shall', 'be', 'increased', 'by', '50', 'per', 'cent', '.'], ['(', '4', ')', 'Fire', 'extinguishers', 'shall', 'be', 'inspected', 'annually', 'in', 'accordance', 'with', 'NS3910', '.', 'The', 'date', 'of', 'the', 'inspection', 'shall', 'be', 'marked', 'on', 'the', 'extinguisher', '.'], [], ['0', 'Amended', 'by', 'Regulation', 'of', '4', 'May', '2015', 'No', '..', '445', '(', 'in', 'force', 'on', '6', 'May', '2015', ')', '.'], [], [], [], ['Section', '18', '.', 'Ventilation', 'systems'], ['The', 'vessel', \"'s\", 'machinery', 'space', 'shall', 'have', 'at', 'least', 'two', 'ventilators', 'capable', 'of', 'being', 'closed', 'from', 'deck', '.', 'Cabins', 'shall', 'have', 'at', 'least', 'two', 'ventilators', 'with', 'a', 'diameter', 'of', 'at', 'least', '8', 'cm', '.'], [], ['Section', '19', '.', 'Materials', ',', 'etc', '.'], ['Materials', ',', 'varnishes', ',', 'paints', ',', 'etc', '.', 'produced', 'on', 'a', 'nitrocellulose', 'basis', 'or', 'any', 'other', 'basis', 'which', 'will', 'readily', 'ignite', 'are', 'not', 'permitted', 'to', 'be', 'used', 'anywhere', 'on', 'board', '.'], [], ['Section', '20', '.', 'Storage', 'of', 'oil', 'fuel', 'and', 'other', 'flammable', 'liquids'], ['(', '1', ')', 'Oil', 'fuel', 'shall', 'be', 'stored', 'in', 'tanks', 'of', 'steel', 'or', 'equivalent', 'material', '.'], ['(', '2', ')', 'Outlets', 'from', 'oil', 'fuel', 'tanks', 'shall', 'be', 'fitted', 'with', 'a', 'closing', 'valve', 'or', 'cock', 'on', 'the', 'tank', 'itself', ',', 'which', 'is', 'capable', 'of', 'being', 'closed', 'from', 'the', 'deck', '.', 'Test', 'cocks', 'and', 'cocks', 'for', 'oil', 'gauge', 'glass', 'shall', 'be', 'of', 'a', 'self-closing', 'type', '.', 'The', 'tank', 'shall', 'be', 'fitted', 'with', 'drip', 'trays', '.', 'In', 'decked', 'vessels', 'with', 'machinery', 'space', ',', 'filling', 'pipes', 'and', 'airing', 'pipes', 'shall', 'be', 'carried', 'through', 'the', 'deck', 'and', 'into', 'open', 'air', '.'], ['(', '3', ')', 'If', 'extra', 'fuel', 'or', 'other', 'flammable', 'liquids', 'can', 'not', 'be', 'placed', 'on', 'open', 'deck', ',', 'they', 'shall', 'be', 'stored', 'in', 'suitable', 'containers', 'in', 'a', 'well-ventilated', 'room/locker', 'with', 'a', 'door', 'communicating', 'only', 'with', 'open', 'deck', 'and', 'without', 'electrical', 'or', 'other', 'sources', 'of', 'ignition', '.'], [], ['Section', '21', '.', 'Materials', 'in', 'pipelines', ',', 'etc', '.'], ['(', '1', ')', 'Seawater', 'pipes', ',', 'bilge', 'pipes', ',', 'pipes', 'conveying', 'oil', 'and', 'other', 'pipelines', 'required', 'for', 'the', 'safety', 'of', 'the', 'ship', 'shall', 'be', 'made', 'of', 'non-combustible', 'material', '.', 'Short', ',', 'flexible', 'pipe', 'connections', 'made', 'of', 'a', 'material', 'which', 'is', 'not', 'easily', 'rendered', 'ineffective', 'by', 'heat', ',', 'may', 'be', 'accepted', 'on', ':'], ['a', ')', 'seawater', 'pipes', ';'], [], ['b', ')', 'short', ',', 'flexible', 'pipe', 'connections', 'on', 'pipes', 'conveying', 'oil', ',', 'when', 'necessitated', 'by', 'vibrations', '.'], [], ['(', '2', ')', 'Where', 'failure', 'of', 'the', 'material', 'due', 'to', 'fire', 'may', 'lead', 'to', 'flooding', ',', 'scuppers', ',', 'sanitary', 'discharges', 'or', 'other', 'outlets', 'which', 'are', 'close', 'to', 'the', 'waterline', 'shall', 'be', 'made', 'of', 'oil-resistant', 'and', 'reinforced', 'materials', 'which', 'are', 'not', 'easily', 'damaged', 'by', 'heat', '.'], [], ['Section', '22', '.', 'Machinery', 'and', 'piping', 'systems'], ['(', '1', ')', 'Vessels', 'constructed', 'after', '1', 'January', '1992', 'shall', 'satisfy', 'the', 'requirements', 'of', 'Nordic', 'Boat', 'Standard', '(', '1990', ')'], ['a', ')', 'C6', 'on', 'bilge', 'systems', ';'], [], ['b', ')', 'C9', 'on', 'oil', 'fuel', 'systems', ';'], [], ['c', ')', 'C8', 'on', 'engine', 'installations', ';', 'and'], [], ['d', ')', 'C7', 'and', 'C10', 'on', 'rudder', 'and', 'propeller', 'arrangements', '.'], [], ['(', '2', ')', 'Vessels', 'constructed', 'before', '1', 'January', '1992', 'shall', 'as', 'far', 'as', 'possible', 'satisfy', 'the', 'requirements', 'of', 'Nordic', 'Boat', 'Standard', '(', '1990', 'chapter', 'C6', 'on', 'bilge', 'systems', '.'], [], ['Section', '23', '.', 'Electrical', 'installations'], ['(', '1', ')', 'Vessels', 'of', '6', 'to', '15', 'metres', 'in', 'overall', 'length', 'constructed', 'after', '1', 'January', '1992', 'with', 'electrical', 'installations', 'with', 'voltages', 'of', 'up', 'to', '50', 'V', 'shall', 'satisfy', 'the', 'requirements', 'of', 'Nordic', 'Boat', 'Standard', '(', '1990', ')', 'C11', 'on', 'electrical', 'installations', '.'], ['(', '2', ')', 'Vessels', 'of', '6', 'to', '15', 'metres', 'in', 'overall', 'length', 'constructed', 'before', '1', 'January', '1992', 'with', 'electrical', 'installations', 'with', 'voltages', 'of', 'up', 'to', '50', 'V', 'shall', 'be', 'in', 'compliance', 'with', 'the', 'rules', 'in', 'force', 'at', 'the', 'time', 'of', 'construction', '.'], ['(', '3', ')', 'Vessels', 'of', '6', 'to', '15', 'metres', 'in', 'overall', 'length', 'constructed', 'between', '1', 'January', '1992', 'and', '2002', 'with', 'electrical', 'installations', 'with', 'voltages', 'of', 'more', 'than', '50', 'V', 'shall', 'satisfy', 'the', 'requirements', 'laid', 'down', 'in', 'the', 'now', 'repealed', 'Regulations', 'of', '1', 'March', '1990', 'No', '.', '125', 'for', 'electrical', 'installations', '-', 'Maritime', 'installations', '.'], ['(', '4', ')', 'Vessels', 'of', '6', 'to', '15', 'metres', 'in', 'overall', 'length', 'constructed', 'after', '1', 'January', '2002', 'with', 'electrical', 'installations', 'with', 'voltages', 'of', 'more', 'than', '50', 'V', 'shall', 'satisfy', 'the', 'requirements', 'laid', 'down', 'in', 'Regulations', 'of', '4', 'December', '2001', 'No', '.', '1450', 'concerning', 'maritime', 'electrical', 'installations', ',', 'laid', 'down', 'by', 'the', 'Norwegian', 'Directorate', 'for', 'Civil', 'Protection', '.'], [], ['Section', '24', '.', 'Emergency', 'source', 'of', 'power', 'and', 'emergency', 'lighting', ',', 'etc', '.'], ['(', '1', ')', 'Vessels', 'of', '10.67', 'to', '15', 'metres', 'in', 'overall', 'length', 'constructed', 'after', '1', 'January', '1992', 'shall', 'have', 'an', 'emergency', 'source', 'of', 'power', 'providing', 'satisfactory', 'lighting', 'for', 'at', 'least', '2', 'hours', 'to', ':'], ['a', ')', 'lighting', 'in', 'areas', 'with', 'life-saving', 'appliances', 'and', 'launching', 'arrangements', ';'], [], ['b', ')', 'lighting', 'in', 'alleyways', ',', 'stairways', 'and', 'exits', 'to', 'the', 'life-saving', 'appliances', 'and', 'of', 'the', 'sea', 'where', 'the', 'life-saving', 'appliances', 'are', 'launched', ';'], [], ['c', ')', 'necessary', 'navigation', 'lights', ';', 'and'], [], ['d', ')', 'required', 'alarm', 'system', '.'], [], ['(', '2', ')', 'The', 'emergency', 'power', 'shall', 'be', 'provided', 'by', 'one', 'of', 'the', 'following', 'two', 'sources', ':'], ['a', ')', 'an', 'accumulator', 'battery', 'capable', 'of', 'carrying', 'the', 'load', 'pursuant', 'to', 'the', 'first', 'paragraph', 'without', 'recharging', 'or', 'suffering', 'an', 'excessive', 'voltage', 'drop', ',', 'and', 'which', 'is', 'automatically', 'connected', 'to', 'the', 'emergency', 'switchboard', 'when', 'the', 'main', 'power', 'fails', ';', 'or'], [], ['b', ')', 'a', 'generator', 'driven', 'by', 'a', 'suitable', 'type', 'of', 'power', 'machinery', 'with', 'an', 'independent', 'supply', 'of', 'fuel', ',', 'appropriate', 'starting', 'arrangements', 'and', 'driven', 'by', 'fuel', 'having', 'a', 'flashpoint', 'of', 'not', 'less', 'than', '43°C', '(', '110°F', ')', '.'], [], ['(', '3', ')', 'The', 'entire', 'installation', 'shall', 'be', 'capable', 'of', 'operating', 'even', 'when', 'the', 'vessel', 'is', 'listed', 'to', '22.5', 'degrees', 'or', 'when', 'the', 'trim', 'of', 'the', 'vessel', 'is', '10', 'degrees', '.'], ['(', '4', ')', 'Switchboards', 'for', 'main', 'power', 'and', 'emergency', 'power', 'shall', 'be', 'clearly', 'marked', 'and', 'be', 'placed', ',', 'as', 'far', 'as', 'practicable', ',', 'so', 'that', 'they', 'can', 'not', 'be', 'exposed', 'to', 'water', 'or', 'fire', '.', 'The', 'emergency', 'source', 'of', 'power', 'shall', 'if', 'possible', 'be', 'placed', 'above', 'deck', '.', 'If', 'the', 'emergency', 'source', 'of', 'power', 'is', 'placed', 'in', 'the', 'machinery', 'space', ',', 'it', 'shall', 'be', 'placed', 'above', 'the', 'floor', 'and', 'in', 'a', 'well-ventilated', 'place', '.'], ['(', '5', ')', 'The', 'emergency', 'source', 'of', 'power', 'and', 'the', 'emergency', 'lighting', 'on', 'vessels', 'constructed', 'before', '1', 'January', '1992', 'shall', 'be', 'in', 'accordance', 'with', 'the', 'rules', 'in', 'force', 'at', 'the', 'time', 'of', 'construction', '.'], [], ['Section', '25', '.', 'Equivalents'], ['Vessels', 'constructed', 'pursuant', 'to', 'Nordic', 'Boat', 'Standard', '(', '1990', ')', 'are', 'considered', 'to', 'satisfy', 'the', 'requirements', 'of', 'sections', '18', ',', '19', 'and', '20', '.']]\n"
     ]
    }
   ],
   "source": [
    "#\n",
    "# Sentences as word list\n",
    "#\n",
    "\n",
    "from nltk.tokenize import word_tokenize\n",
    "\n",
    "forward_sentences_as_word_list = []\n",
    "\n",
    "for sentence_index_number,sentence_as_a_string in enumerate(forward_file_lines):\n",
    "    \n",
    "    tokens = word_tokenize(sentence_as_a_string)\n",
    "    \n",
    "    forward_sentences_as_word_list.append(tokens)\n",
    "    \n",
    "print(forward_sentences_as_word_list)"
   ]
  },
  {
   "cell_type": "code",
   "execution_count": 6,
   "metadata": {},
   "outputs": [
    {
     "output_type": "execute_result",
     "data": {
      "text/plain": [
       "[(2, 7),\n",
       " (11, 8),\n",
       " (16, 9),\n",
       " (35, 10),\n",
       " (47, 11),\n",
       " (51, 12),\n",
       " (58, 13),\n",
       " (61, 14),\n",
       " (67, 15),\n",
       " (74, 16),\n",
       " (78, 17),\n",
       " (88, 18),\n",
       " (91, 19),\n",
       " (94, 20),\n",
       " (99, 21),\n",
       " (107, 22),\n",
       " (119, 23),\n",
       " (125, 24),\n",
       " (144, 25)]"
      ]
     },
     "metadata": {},
     "execution_count": 6
    }
   ],
   "source": [
    "# Create list with section detections\n",
    "# value 1 == sentence_index_number\n",
    "# value 2 == section number as int\n",
    "\n",
    "forward_list_with_section_span_by_sentences = []\n",
    "\n",
    "for sentence_index_number,sentence_as_list in enumerate(forward_sentences_as_word_list):\n",
    "\n",
    "    if sentence_as_list != [] and sentence_as_list[0] == \"Section\":\n",
    "\n",
    "        if hasNumbers(sentence_as_list[1]) and sentence_as_list[2] == \".\":\n",
    "            forward_list_with_section_span_by_sentences.append((sentence_index_number,int(sentence_as_list[1])))\n",
    "            \n",
    "forward_list_with_section_span_by_sentences"
   ]
  },
  {
   "cell_type": "code",
   "execution_count": 9,
   "metadata": {},
   "outputs": [
    {
     "output_type": "execute_result",
     "data": {
      "text/plain": [
       "[('7', 2, 10),\n",
       " ('8', 11, 15),\n",
       " ('9', 16, 34),\n",
       " ('10', 35, 46),\n",
       " ('11', 47, 50),\n",
       " ('12', 51, 57),\n",
       " ('13', 58, 60),\n",
       " ('14', 61, 66),\n",
       " ('15', 67, 73),\n",
       " ('16', 74, 77),\n",
       " ('17', 78, 87),\n",
       " ('18', 88, 90),\n",
       " ('19', 91, 93),\n",
       " ('20', 94, 98),\n",
       " ('21', 99, 106),\n",
       " ('22', 107, 118),\n",
       " ('23', 119, 124),\n",
       " ('24', 125, 143),\n",
       " ('25', 144, 145)]"
      ]
     },
     "metadata": {},
     "execution_count": 9
    }
   ],
   "source": [
    "last_list_index_number = len(forward_list_with_section_span_by_sentences) -1\n",
    "forward_result_to_csv = []\n",
    "\n",
    "for list_index_number,(sentence_index_number,section_number) in enumerate(forward_list_with_section_span_by_sentences):\n",
    "    \n",
    "    span_section = str(section_number)\n",
    "    span_start = sentence_index_number\n",
    "    span_end = span_start\n",
    "\n",
    "    # if this is the last element\n",
    "    if list_index_number >= last_list_index_number:\n",
    "        span_end = len(forward_sentences_as_word_list) - 1\n",
    "    else:\n",
    "        next_element_index_number = list_index_number + 1\n",
    "        next_element = forward_list_with_section_span_by_sentences[next_element_index_number]\n",
    "        span_end = next_element[0] - 1\n",
    "        \n",
    "    forward_result_to_csv.append((span_section,span_start,span_end))\n",
    "    \n",
    "forward_result_to_csv"
   ]
  },
  {
   "source": [
    "# The code in a script"
   ],
   "cell_type": "markdown",
   "metadata": {}
  },
  {
   "cell_type": "code",
   "execution_count": 21,
   "metadata": {},
   "outputs": [
    {
     "output_type": "execute_result",
     "data": {
      "text/plain": [
       "[('7', 2, 10),\n",
       " ('8', 11, 15),\n",
       " ('9', 16, 34),\n",
       " ('10', 35, 46),\n",
       " ('11', 47, 50),\n",
       " ('12', 51, 57),\n",
       " ('13', 58, 60),\n",
       " ('14', 61, 66),\n",
       " ('15', 67, 73),\n",
       " ('16', 74, 77),\n",
       " ('17', 78, 87),\n",
       " ('18', 88, 90),\n",
       " ('19', 91, 93),\n",
       " ('20', 94, 98),\n",
       " ('21', 99, 106),\n",
       " ('22', 107, 118),\n",
       " ('23', 119, 124),\n",
       " ('24', 125, 143),\n",
       " ('25', 144, 145)]"
      ]
     },
     "metadata": {},
     "execution_count": 21
    }
   ],
   "source": [
    "#\n",
    "# Something that must be done \n",
    "# to make the notebook reload a function\n",
    "# from a costum .py file.\n",
    "#\n",
    "\n",
    "%reload_ext autoreload\n",
    "%autoreload 2\n",
    "\n",
    "import importlib\n",
    "\n",
    "from identify_section_span import text_file_to_list_of_lines\n",
    "from identify_section_span import list_section_span_from_file_lines\n",
    "\n",
    "importlib.reload(identify_section_span)\n",
    "\n",
    "################\n",
    "################\n",
    "\n",
    "forward_list_of_lines = text_file_to_list_of_lines('./input - Chapter 3 - Text from word document with correct formating.txt')\n",
    "\n",
    "section_span = list_section_span_from_file_lines(forward_list_of_lines)\n",
    "\n",
    "section_span"
   ]
  }
 ]
}