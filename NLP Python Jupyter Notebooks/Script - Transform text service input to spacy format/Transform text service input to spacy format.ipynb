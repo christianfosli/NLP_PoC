{
 "metadata": {
  "language_info": {
   "codemirror_mode": {
    "name": "ipython",
    "version": 3
   },
   "file_extension": ".py",
   "mimetype": "text/x-python",
   "name": "python",
   "nbconvert_exporter": "python",
   "pygments_lexer": "ipython3",
   "version": "3.9.1-final"
  },
  "orig_nbformat": 2,
  "kernelspec": {
   "name": "python3",
   "display_name": "Python 3.9.1 64-bit",
   "metadata": {
    "interpreter": {
     "hash": "bc7b4049655db007e138d1fbf3ac1680a217a67446542a40573b08e37e7f2b2f"
    }
   }
  }
 },
 "nbformat": 4,
 "nbformat_minor": 2,
 "cells": [
  {
   "source": [
    "# Initialize"
   ],
   "cell_type": "markdown",
   "metadata": {}
  },
  {
   "cell_type": "code",
   "execution_count": 1,
   "metadata": {},
   "outputs": [
    {
     "output_type": "stream",
     "name": "stdout",
     "text": [
      "Requirement already satisfied: spacy in c:\\users\\lhustvei\\appdata\\local\\programs\\python\\python39\\lib\\site-packages (2.3.5)\nRequirement already satisfied: plac<1.2.0,>=0.9.6 in c:\\users\\lhustvei\\appdata\\local\\programs\\python\\python39\\lib\\site-packages (from spacy) (1.1.3)\nRequirement already satisfied: srsly<1.1.0,>=1.0.2 in c:\\users\\lhustvei\\appdata\\local\\programs\\python\\python39\\lib\\site-packages (from spacy) (1.0.5)\nRequirement already satisfied: cymem<2.1.0,>=2.0.2 in c:\\users\\lhustvei\\appdata\\local\\programs\\python\\python39\\lib\\site-packages (from spacy) (2.0.5)\nRequirement already satisfied: tqdm<5.0.0,>=4.38.0 in c:\\users\\lhustvei\\appdata\\local\\programs\\python\\python39\\lib\\site-packages (from spacy) (4.54.1)\nRequirement already satisfied: preshed<3.1.0,>=3.0.2 in c:\\users\\lhustvei\\appdata\\local\\programs\\python\\python39\\lib\\site-packages (from spacy) (3.0.5)\nRequirement already satisfied: blis<0.8.0,>=0.4.0 in c:\\users\\lhustvei\\appdata\\local\\programs\\python\\python39\\lib\\site-packages (from spacy) (0.7.4)\nRequirement already satisfied: wasabi<1.1.0,>=0.4.0 in c:\\users\\lhustvei\\appdata\\local\\programs\\python\\python39\\lib\\site-packages (from spacy) (0.8.0)\nRequirement already satisfied: murmurhash<1.1.0,>=0.28.0 in c:\\users\\lhustvei\\appdata\\local\\programs\\python\\python39\\lib\\site-packages (from spacy) (1.0.5)\nRequirement already satisfied: numpy>=1.15.0 in c:\\users\\lhustvei\\appdata\\local\\programs\\python\\python39\\lib\\site-packages (from spacy) (1.19.3)\nRequirement already satisfied: requests<3.0.0,>=2.13.0 in c:\\users\\lhustvei\\appdata\\local\\programs\\python\\python39\\lib\\site-packages (from spacy) (2.25.1)\nRequirement already satisfied: catalogue<1.1.0,>=0.0.7 in c:\\users\\lhustvei\\appdata\\local\\programs\\python\\python39\\lib\\site-packages (from spacy) (1.0.0)\nRequirement already satisfied: setuptools in c:\\users\\lhustvei\\appdata\\local\\programs\\python\\python39\\lib\\site-packages (from spacy) (49.2.1)\nRequirement already satisfied: thinc<7.5.0,>=7.4.1 in c:\\users\\lhustvei\\appdata\\local\\programs\\python\\python39\\lib\\site-packages (from spacy) (7.4.5)\nRequirement already satisfied: idna<3,>=2.5 in c:\\users\\lhustvei\\appdata\\local\\programs\\python\\python39\\lib\\site-packages (from requests<3.0.0,>=2.13.0->spacy) (2.10)\nRequirement already satisfied: chardet<5,>=3.0.2 in c:\\users\\lhustvei\\appdata\\local\\programs\\python\\python39\\lib\\site-packages (from requests<3.0.0,>=2.13.0->spacy) (4.0.0)\nRequirement already satisfied: urllib3<1.27,>=1.21.1 in c:\\users\\lhustvei\\appdata\\local\\programs\\python\\python39\\lib\\site-packages (from requests<3.0.0,>=2.13.0->spacy) (1.26.2)\nRequirement already satisfied: certifi>=2017.4.17 in c:\\users\\lhustvei\\appdata\\local\\programs\\python\\python39\\lib\\site-packages (from requests<3.0.0,>=2.13.0->spacy) (2020.12.5)\n"
     ]
    }
   ],
   "source": [
    "!pip install -U spacy"
   ]
  },
  {
   "cell_type": "code",
   "execution_count": 2,
   "metadata": {},
   "outputs": [
    {
     "output_type": "stream",
     "name": "stdout",
     "text": [
      "2.3.5\n"
     ]
    }
   ],
   "source": [
    "import spacy\n",
    "print(spacy.__version__)"
   ]
  },
  {
   "cell_type": "code",
   "execution_count": 3,
   "metadata": {},
   "outputs": [
    {
     "output_type": "stream",
     "name": "stdout",
     "text": [
      "Requirement already satisfied: numpy==1.19.3 in c:\\users\\lhustvei\\appdata\\local\\programs\\python\\python39\\lib\\site-packages (1.19.3)\n"
     ]
    }
   ],
   "source": [
    "# Had to run this to make something below work.\n",
    "# This is a donwgrade of numpy to a version without a bug.\n",
    "# This is a temp solution until a new version of numpy has solved the bug.\n",
    "!pip install numpy==1.19.3 --user"
   ]
  },
  {
   "source": [
    "# Regulation from text service api"
   ],
   "cell_type": "markdown",
   "metadata": {}
  },
  {
   "cell_type": "code",
   "execution_count": 6,
   "metadata": {},
   "outputs": [],
   "source": [
    "text_service_subsections = [\n",
    "                                {\n",
    "                                    \"content\": \"(1) Fartøy med største lengde mellom 10,67 og 15 meter skal ha brannslokningsanlegg.\",\n",
    "                                    \"uid\": \"115574bc-b56d-4908-406c-08d8c109f9ce\",\n",
    "                                    \"url\": \"http://sdir-d-aks-core.norwayeast.cloudapp.azure.com/v1/regulations/2013/11/22/1404/chapters/3/sections/15/subsections/1/sentences/1\"\n",
    "                                },\n",
    "                                {\n",
    "                                    \"content\": \"Når det er personer om bord skal brannslukkingsanlegget bare kunne utløses manuelt.\",\n",
    "                                    \"uid\": \"52b3b082-0808-4240-406d-08d8c109f9ce\",\n",
    "                                    \"url\": \"http://sdir-d-aks-core.norwayeast.cloudapp.azure.com/v1/regulations/2013/11/22/1404/chapters/3/sections/15/subsections/1/sentences/2\"\n",
    "                                }\n",
    "                            ]"
   ]
  },
  {
   "cell_type": "code",
   "execution_count": 8,
   "metadata": {},
   "outputs": [
    {
     "output_type": "stream",
     "name": "stdout",
     "text": [
      "{'content': '(1) Fartøy med største lengde mellom 10,67 og 15 meter skal ha brannslokningsanlegg.', 'uid': '115574bc-b56d-4908-406c-08d8c109f9ce', 'url': 'http://sdir-d-aks-core.norwayeast.cloudapp.azure.com/v1/regulations/2013/11/22/1404/chapters/3/sections/15/subsections/1/sentences/1'}\n{'content': 'Når det er personer om bord skal brannslukkingsanlegget bare kunne utløses manuelt.', 'uid': '52b3b082-0808-4240-406d-08d8c109f9ce', 'url': 'http://sdir-d-aks-core.norwayeast.cloudapp.azure.com/v1/regulations/2013/11/22/1404/chapters/3/sections/15/subsections/1/sentences/2'}\n"
     ]
    }
   ],
   "source": [
    "for test in text_service_subsections:\n",
    "    print(test)"
   ]
  },
  {
   "cell_type": "code",
   "execution_count": 11,
   "metadata": {},
   "outputs": [
    {
     "output_type": "stream",
     "name": "stdout",
     "text": [
      "0 http:\n1 \n2 sdir-d-aks-core.norwayeast.cloudapp.azure.com\n3 v1\n4 regulations\n5 2013\n6 11\n7 22\n8 1404\n9 chapters\n10 3\n11 sections\n12 15\n13 subsections\n14 1\n15 sentences\n16 2\n"
     ]
    }
   ],
   "source": [
    "url = \"http://sdir-d-aks-core.norwayeast.cloudapp.azure.com/v1/regulations/2013/11/22/1404/chapters/3/sections/15/subsections/1/sentences/2\"\n",
    "\n",
    "url_split_in_list = url.split('/')\n",
    "\n",
    "for number, part in enumerate(url_split_in_list):\n",
    "    print(str(number) + \" \" + part)"
   ]
  },
  {
   "cell_type": "code",
   "execution_count": 12,
   "metadata": {},
   "outputs": [],
   "source": [
    "#\n",
    "# Text service metadata\n",
    "#\n",
    "\n",
    "api_domain = url_split_in_list[2] # sdir-d-aks-core.norwayeast.cloudapp.azure.com\n",
    "api_version = url_split_in_list[3] # v1\n",
    "\n",
    "regularion_variable_name = url_split_in_list[4] # regulations\n",
    "regularion_year = url_split_in_list[5] # 2013\n",
    "regularion_month = url_split_in_list[6] # 11\n",
    "regularion_day = url_split_in_list[7] # 22\n",
    "regularion_id = url_split_in_list[8] # 1404\n",
    "\n",
    "chapter_variable_name = url_split_in_list[9] # chapters\n",
    "chapter_number = url_split_in_list[10] # 3\n",
    "\n",
    "section_variable_name = url_split_in_list[11] # sections\n",
    "section_number = url_split_in_list[12] # 15\n",
    "\n",
    "part_variable_name = url_split_in_list[13] # subsections\n",
    "part_number = url_split_in_list[14] # 1\n",
    "\n",
    "sub_part_variable_name = url_split_in_list[15] # sentences\n",
    "sub_part_number = url_split_in_list[16] # 2"
   ]
  },
  {
   "source": [
    "# Code"
   ],
   "cell_type": "markdown",
   "metadata": {}
  },
  {
   "cell_type": "code",
   "execution_count": 4,
   "metadata": {},
   "outputs": [
    {
     "output_type": "display_data",
     "data": {
      "text/plain": "<IPython.core.display.HTML object>",
      "text/html": "<span class=\"tex2jax_ignore\"><div class=\"entities\" style=\"line-height: 2.5; direction: ltr\">(1) Fartøy med største lengde mellom \n<mark class=\"entity\" style=\"background: yellow; padding: 0.45em 0.6em; margin: 0 0.25em; line-height: 1; border-radius: 0.35em;\">\n    10,67 og 15 meter\n    <span style=\"font-size: 0.8em; font-weight: bold; line-height: 1; border-radius: 0.35em; text-transform: uppercase; vertical-align: middle; margin-left: 0.5rem\">LENGTH_OVERALL</span>\n</mark>\n skal ha brannslokningsanlegg.</div></span>"
     },
     "metadata": {}
    }
   ],
   "source": [
    "import spacy\n",
    "#from spacy.lang.en import English\n",
    "from spacy.lang.nb import Norwegian\n",
    "from spacy.matcher import Matcher\n",
    "\n",
    "# Blank model Norwegian().\n",
    "# Does not have a POS tagger.\n",
    "nlp = Norwegian()\n",
    "\n",
    "text = \"(1) Fartøy med største lengde mellom 10,67 og 15 meter skal ha brannslokningsanlegg.\"\n",
    "\n",
    "doc = nlp(text)\n",
    "\n",
    "matcher = Matcher(nlp.vocab)\n",
    "\n",
    "length_overall_pattern = [{\"TEXT\": {\"REGEX\": \"[0-9]+[,]+[0-9]|[0-9]\"}},\n",
    "{\"LOWER\": {\"IN\": [\"og\"]}},\n",
    "{\"TEXT\": {\"REGEX\": \"[0-9]+[,]+[0-9]|[0-9]\"}},\n",
    "{\"LOWER\": {\"IN\": [\"meter\"]}}]\n",
    "\n",
    "matcher.add(\"LENGTH_OVERALL\", None, length_overall_pattern)\n",
    "\n",
    "result = []\n",
    "\n",
    "for match_id, token_start, token_end in matcher(doc):\n",
    "\n",
    "    # convert token_span to char_span.\n",
    "    # char_span is needed to display correctly withdisplacy.render().\n",
    "    span = doc[token_start:token_end]\n",
    "    span_char_start = span[0].idx\n",
    "    span_char_end = span[-1].idx + len(span[-1].text)\n",
    "\n",
    "    match_id_as_string = nlp.vocab.strings[match_id]\n",
    "\n",
    "    identified_entity = {'start': span_char_start, 'end': span_char_end, 'label': match_id_as_string}\n",
    "    result.append(identified_entity)\n",
    "\n",
    "#result\n",
    "\n",
    "# display result with spacy styling\n",
    "display_this_result = {'text': text, 'ents': sorted(result, key=lambda x: x['start']), 'title': 0}\n",
    "options = {\"colors\": {\"LENGTH_OVERALL\": \"yellow\"}}\n",
    "from spacy import displacy\n",
    "displacy.render(display_this_result, style='ent', manual=True, options=options)"
   ]
  },
  {
   "source": [
    "# Functions run from .py file"
   ],
   "cell_type": "markdown",
   "metadata": {}
  },
  {
   "cell_type": "code",
   "execution_count": 5,
   "metadata": {},
   "outputs": [
    {
     "output_type": "execute_result",
     "data": {
      "text/plain": [
       "[{'start': 37, 'end': 54, 'label': 'LENGTH_OVERALL'}]"
      ]
     },
     "metadata": {},
     "execution_count": 5
    }
   ],
   "source": [
    "#\n",
    "# Something that must be done \n",
    "# to make the notebook reload a function\n",
    "# from a costum .py file.\n",
    "#\n",
    "\n",
    "%reload_ext autoreload\n",
    "%autoreload 2\n",
    "\n",
    "import importlib\n",
    "\n",
    "import spacy_matching_rule_identify_vessel_length_overall_no\n",
    "\n",
    "from spacy_matching_rule_identify_vessel_length_overall_no import identify_length_overall_in_text\n",
    "\n",
    "importlib.reload(spacy_matching_rule_identify_vessel_length_overall_no)\n",
    "\n",
    "################\n",
    "################\n",
    "\n",
    "identify_length_overall_in_text(\"(1) Fartøy med største lengde mellom 10,67 og 15 meter skal ha brannslokningsanlegg.\")"
   ]
  },
  {
   "cell_type": "code",
   "execution_count": 14,
   "metadata": {},
   "outputs": [],
   "source": [
    "forward_lines_as_spacy_ner_format = [\n",
    "  {'text': \"(1) Fartøy med største lengde mellom 10,67 og 15 meter skal ha brannslokningsanlegg.\", 'ents': [], 'title': 0},\n",
    "  {'text': '\\n', 'ents': [], 'title': 1},\n",
    "  {'text': 'På fartøy med største lengde 8 til 15 meter skal ovnen kontrolleres hos godkjent foretak innen seks måneder etter at den er installert.', 'ents': [], 'title': 2}]"
   ]
  },
  {
   "cell_type": "code",
   "execution_count": 16,
   "metadata": {},
   "outputs": [
    {
     "output_type": "stream",
     "name": "stdout",
     "text": [
      "[{'start': 37, 'end': 54, 'label': 'LENGTH_OVERALL'}]\n[{'start': 29, 'end': 43, 'label': 'LENGTH_OVERALL'}]\n"
     ]
    }
   ],
   "source": [
    "#\n",
    "# Something that must be done \n",
    "# to make the notebook reload a function\n",
    "# from a costum .py file.\n",
    "#\n",
    "\n",
    "%reload_ext autoreload\n",
    "%autoreload 2\n",
    "\n",
    "import importlib\n",
    "\n",
    "import spacy_matching_rule_identify_vessel_length_overall_no\n",
    "\n",
    "from spacy_matching_rule_identify_vessel_length_overall_no import identify_length_overall_in_text\n",
    "\n",
    "importlib.reload(spacy_matching_rule_identify_vessel_length_overall_no)\n",
    "\n",
    "################\n",
    "################\n",
    "\n",
    "for line in forward_lines_as_spacy_ner_format:\n",
    "\n",
    "    text = line['text']\n",
    "\n",
    "    if text != \"\\n\":\n",
    "        result_in_a_list = identify_length_overall_in_text(text)\n",
    "\n",
    "        if result_in_a_list:\n",
    "            print(result_in_a_list)"
   ]
  },
  {
   "source": [
    "# Merge spacy result with spacy ner formated list of text"
   ],
   "cell_type": "markdown",
   "metadata": {}
  },
  {
   "cell_type": "code",
   "execution_count": 17,
   "metadata": {},
   "outputs": [
    {
     "output_type": "stream",
     "name": "stdout",
     "text": [
      "{'text': '(2) Saucer formed rockwool sheets of at least 6 cm thickness shall be provided between smoke uptake and combustible material. Insulation in the form of non-combustible material shall be provided between metal cover plates and combustible material. Alternatively, a pipe with a diameter at least 6 cm larger than the smoke uptake pipe may be fitted outside this pipe, in order to provide vertical air circulation between the pipes. Insulation by saucer formed rockwool or mineral wool twine of at least 3 cm thickness shall be provided between the outer pipe and combustible material. The pipe shall be carried to at least 1 m above the deck, and the outlet shall be protected with a collar.\\n', 'ents': [{'start': 6, 'end': 9, 'label': 'DATE'}, {'start': 16, 'end': 19, 'label': 'DATE'}], 'title': 53}\n\n{'text': '(2) Saucer formed rockwool sheets of at least 6 cm thickness shall be provided between smoke uptake and combustible material. Insulation in the form of non-combustible material shall be provided between metal cover plates and combustible material. Alternatively, a pipe with a diameter at least 6 cm larger than the smoke uptake pipe may be fitted outside this pipe, in order to provide vertical air circulation between the pipes. Insulation by saucer formed rockwool or mineral wool twine of at least 3 cm thickness shall be provided between the outer pipe and combustible material. The pipe shall be carried to at least 1 m above the deck, and the outlet shall be protected with a collar.\\n', 'ents': [{'start': 6, 'end': 9, 'label': 'DATE'}, {'start': 6, 'end': 9, 'label': 'DATE'}, {'start': 16, 'end': 19, 'label': 'DATE'}, {'start': 16, 'end': 19, 'label': 'DATE'}], 'title': 53}\n"
     ]
    }
   ],
   "source": [
    "#\n",
    "# Something that must be done \n",
    "# to make the notebook reload a function\n",
    "# from a costum .py file.\n",
    "#\n",
    "\n",
    "%reload_ext autoreload\n",
    "%autoreload 2\n",
    "\n",
    "import importlib\n",
    "\n",
    "import spacy_matching_rule_identify_vessel_length_overall_no\n",
    "\n",
    "from spacy_matching_rule_identify_vessel_length_overall_no import merge_spacy_entity_results_to_spacy_ner_format\n",
    "\n",
    "importlib.reload(spacy_matching_rule_identify_vessel_length_overall_no)\n",
    "\n",
    "################\n",
    "################\n",
    "\n",
    "spacy_ner_formated_text_line = {'text': '(2) Saucer formed rockwool sheets of at least 6 cm thickness shall be provided between smoke uptake and combustible material. Insulation in the form of non-combustible material shall be provided between metal cover plates and combustible material. Alternatively, a pipe with a diameter at least 6 cm larger than the smoke uptake pipe may be fitted outside this pipe, in order to provide vertical air circulation between the pipes. Insulation by saucer formed rockwool or mineral wool twine of at least 3 cm thickness shall be provided between the outer pipe and combustible material. The pipe shall be carried to at least 1 m above the deck, and the outlet shall be protected with a collar.\\n',\n",
    "  'ents': [],\n",
    "  'title': 53}\n",
    "\n",
    "spacy_ner_entities_to_be_merged_in_as_a_list = [{'start': 16, 'end': 19, 'label': 'DATE'}, {'start': 6, 'end': 9, 'label': 'DATE'}]\n",
    "\n",
    "print(merge_spacy_entity_results_to_spacy_ner_format(spacy_ner_formated_text_line,spacy_ner_entities_to_be_merged_in_as_a_list))\n",
    "\n",
    "spacy_ner_formated_text_line = {'text': '(2) Saucer formed rockwool sheets of at least 6 cm thickness shall be provided between smoke uptake and combustible material. Insulation in the form of non-combustible material shall be provided between metal cover plates and combustible material. Alternatively, a pipe with a diameter at least 6 cm larger than the smoke uptake pipe may be fitted outside this pipe, in order to provide vertical air circulation between the pipes. Insulation by saucer formed rockwool or mineral wool twine of at least 3 cm thickness shall be provided between the outer pipe and combustible material. The pipe shall be carried to at least 1 m above the deck, and the outlet shall be protected with a collar.\\n',\n",
    "  'ents': [{'start': 16, 'end': 19, 'label': 'DATE'}, {'start': 6, 'end': 9, 'label': 'DATE'}],\n",
    "  'title': 53}\n",
    "\n",
    "print(\"\")\n",
    "\n",
    "print(merge_spacy_entity_results_to_spacy_ner_format(spacy_ner_formated_text_line,spacy_ner_entities_to_be_merged_in_as_a_list))"
   ]
  },
  {
   "source": [
    "# identify_length_overall_in_text"
   ],
   "cell_type": "markdown",
   "metadata": {}
  },
  {
   "cell_type": "code",
   "execution_count": 18,
   "metadata": {},
   "outputs": [
    {
     "output_type": "display_data",
     "data": {
      "text/plain": "<IPython.core.display.HTML object>",
      "text/html": "<span class=\"tex2jax_ignore\"><div class=\"entities\" style=\"line-height: 2.5; direction: ltr\">(1) Fartøy med største lengde mellom \n<mark class=\"entity\" style=\"background: yellow; padding: 0.45em 0.6em; margin: 0 0.25em; line-height: 1; border-radius: 0.35em;\">\n    10,67 og 15 meter\n    <span style=\"font-size: 0.8em; font-weight: bold; line-height: 1; border-radius: 0.35em; text-transform: uppercase; vertical-align: middle; margin-left: 0.5rem\">LENGTH_OVERALL</span>\n</mark>\n skal ha brannslokningsanlegg.</div>\n\n<h2 style=\"margin: 0\">1</h2>\n\n<div class=\"entities\" style=\"line-height: 2.5; direction: ltr\"></br></div>\n\n<h2 style=\"margin: 0\">2</h2>\n\n<div class=\"entities\" style=\"line-height: 2.5; direction: ltr\">På fartøy med største lengde \n<mark class=\"entity\" style=\"background: yellow; padding: 0.45em 0.6em; margin: 0 0.25em; line-height: 1; border-radius: 0.35em;\">\n    8 til 15 meter\n    <span style=\"font-size: 0.8em; font-weight: bold; line-height: 1; border-radius: 0.35em; text-transform: uppercase; vertical-align: middle; margin-left: 0.5rem\">LENGTH_OVERALL</span>\n</mark>\n skal ovnen kontrolleres hos godkjent foretak innen seks måneder etter at den er installert.</div></span>"
     },
     "metadata": {}
    }
   ],
   "source": [
    "#\n",
    "# Something that must be done \n",
    "# to make the notebook reload a function\n",
    "# from a costum .py file.\n",
    "#\n",
    "\n",
    "%reload_ext autoreload\n",
    "%autoreload 2\n",
    "\n",
    "import importlib\n",
    "\n",
    "import spacy_matching_rule_identify_vessel_length_overall_no\n",
    "\n",
    "from spacy_matching_rule_identify_vessel_length_overall_no import identify_length_overall_in_spacy_lines\n",
    "\n",
    "importlib.reload(spacy_matching_rule_identify_vessel_length_overall_no)\n",
    "\n",
    "################\n",
    "################\n",
    "\n",
    "result = identify_length_overall_in_spacy_lines(forward_lines_as_spacy_ner_format)\n",
    "#print(result)\n",
    "\n",
    "options = {\"colors\": {\"LENGTH_OVERALL\": \"yellow\"}}\n",
    "\n",
    "# display result with spacy styling\n",
    "from spacy import displacy\n",
    "displacy.render(result, style='ent', manual=True, options=options)"
   ]
  }
 ]
}