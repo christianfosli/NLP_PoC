{
 "metadata": {
  "language_info": {
   "codemirror_mode": {
    "name": "ipython",
    "version": 3
   },
   "file_extension": ".py",
   "mimetype": "text/x-python",
   "name": "python",
   "nbconvert_exporter": "python",
   "pygments_lexer": "ipython3",
   "version": "3.9.1-final"
  },
  "orig_nbformat": 2,
  "kernelspec": {
   "name": "python3",
   "display_name": "Python 3.9.1 64-bit",
   "metadata": {
    "interpreter": {
     "hash": "bc7b4049655db007e138d1fbf3ac1680a217a67446542a40573b08e37e7f2b2f"
    }
   }
  }
 },
 "nbformat": 4,
 "nbformat_minor": 2,
 "cells": [
  {
   "source": [
    "# Initialize"
   ],
   "cell_type": "markdown",
   "metadata": {}
  },
  {
   "cell_type": "code",
   "execution_count": 1,
   "metadata": {},
   "outputs": [
    {
     "output_type": "stream",
     "name": "stdout",
     "text": [
      "Requirement already satisfied: nltk in c:\\users\\lhustvei\\appdata\\local\\programs\\python\\python39\\lib\\site-packages (3.5)\n",
      "Requirement already satisfied: click in c:\\users\\lhustvei\\appdata\\local\\programs\\python\\python39\\lib\\site-packages (from nltk) (7.1.2)\n",
      "Requirement already satisfied: joblib in c:\\users\\lhustvei\\appdata\\local\\programs\\python\\python39\\lib\\site-packages (from nltk) (1.0.0)\n",
      "Requirement already satisfied: regex in c:\\users\\lhustvei\\appdata\\local\\programs\\python\\python39\\lib\\site-packages (from nltk) (2020.11.13)\n",
      "Requirement already satisfied: tqdm in c:\\users\\lhustvei\\appdata\\local\\programs\\python\\python39\\lib\\site-packages (from nltk) (4.54.1)\n",
      "WARNING: You are using pip version 20.3.3; however, version 21.0 is available.\n",
      "You should consider upgrading via the 'c:\\users\\lhustvei\\appdata\\local\\programs\\python\\python39\\python.exe -m pip install --upgrade pip' command.\n"
     ]
    }
   ],
   "source": [
    "!pip install nltk"
   ]
  },
  {
   "cell_type": "code",
   "execution_count": 2,
   "metadata": {},
   "outputs": [
    {
     "output_type": "execute_result",
     "data": {
      "text/plain": [
       "True"
      ]
     },
     "metadata": {},
     "execution_count": 2
    }
   ],
   "source": [
    "# Does the input string contain a digit?\n",
    "def hasNumbers(inputString):\n",
    "    return any(char.isdigit() for char in inputString)\n",
    "\n",
    "hasNumbers('4444')"
   ]
  },
  {
   "cell_type": "code",
   "execution_count": 3,
   "metadata": {},
   "outputs": [
    {
     "output_type": "stream",
     "name": "stdout",
     "text": [
      "['3. Fire, machinery and electric installations\\n', '\\n', 'Section 7. Scope of application of this chapter\\n', '(1) This chapter applies to vessels constructed after 2 January 1988.\\n', '(2) Vessels constructed before 2 January 1988 shall be constructed and equipped in accordance with the rules applicable at the time of construction of the vessel, unless otherwise provided by the individual provisions of this chapter.\\n', '(3) When a vessel is substantially altered or modified, the vessel shall comply with the requirements for a new vessel.\\n', '\\n', '0\\tAmended by Regulation of 4 May 2015 No.. 445 (in force on 6 May 2015).\\n', '\\n', '\\n', '\\n', 'Section 8. Fire safety\\n', '(1) Vessels constructed after 1 January 1992 shall have structural fire protection in accordance with chapter C14 of Nordic Boat Standard (1990), unless otherwise provided by the individual provisions of this chapter.\\n', '(2) Vessels constructed before 1 January 1992 shall have structural fire protection in accordance with the rules applicable at the time of construction of the vessel.\\n', '(3) Irrespective of the year of construction of the vessel, gasfired installations shall satisfy the requirements of Regulations of 20 October 1983 No. 1580 on safety precautions for gasfired installations, etc. operating on propane or other liquefied hydrocarbon gases used on board vessels.\\n', '\\n', 'Section 9. Oil-fired stoves\\n', '(1) Stoves with electric power supply shall have an oil supply which shuts off automatically if:\\n', 'a)\\tthe stove is over-heated (maximum 400Â°C in smoke gas);\\n', '\\n', 'b)\\tthe flame goes out;\\n', '\\n', 'c)\\ta failure occurs in the supply of air or power.\\n', '\\n', '(2) Stoves without electric power supply shall have an oil supply which shuts off automatically if\\n', 'a)\\tthe stove is over-heated (maximum 400Â°C in smoke gas);\\n', '\\n', 'b)\\tthe flame goes out.\\n', '\\n', '(3) Drip regulation stoves (regulation valve with observation hole) need not have automatic shutoff of the oil supply if the flame will go out due to the oil consumption being limited by an oil regulation valve. The installation instructions shall indicate the maximum permitted difference in height between the oil tank and the regulation valve. An oil pressure reduction valve shall be fitted if satisfactory regulation of the oil supply cannot be achieved through pressure variations. The overflow system shall be capable of receiving the full volume of the tank.\\n', '(4) The resetting of the safety function shall be manual.\\n', '(5) The installation instructions shall be kept on board. The instructions for use shall be posted near the stove.\\n', '(6) Stoves with accessories shall be installed in accordance with the installation instructions from the manufacturer.\\n', '(7) Stoves shall have smoke outlet to uptake.\\n', '\\n', 'Section 10. Installation, etc. of oilfired stove\\n', '(1) Stoves shall be securely fixed to the floor or to a fixed bench, if possible near the centre line of the vessel.\\n', '(2) Stoves without automatic shutoff of oil supply in the event of the flame going out, shall be provided with a separate oil tank of maximum 40 litres. The oil tank shall not be filled automatically, and shall be placed on the height indicated in the installation instructions.\\n', '(3) The oil tank shall have a water separator and a plug for draining off possible collection of water and shall be placed outside the space where the stove is installed.\\n', '(4) The oil pipe to the regulator shall have a filter for the separation of mud and water. The filter shall not be fitted above the stove.\\n', '(5) Pipes made of copper or equivalent material shall be used between the tank and the stove. The pipes shall be fixed and placed so as to prevent the formation of air pockets.\\n', '(6) Stoves shall have overflow openings with drain pipes and collection tank. Both the stove and the float valve, if used, shall be connected to the collection tank.\\n', '(7) Smoke uptake pipes shall have a diameter which is not less than the smoke outlet of the stove, and the piping shall be made as straight as possible.\\n', '(8) Drainage of condensed water/mud, cleaning of filters, inspection of burners and other components shall be carried out in the time intervals stipulated in the operating instructions.\\n', '(9) Spaces with a stove shall be well ventilated.\\n', '(10) On vessels of 8 to 15 metres in overall length the stove shall be inspected by an approved company within six months of being installed.\\n', '\\n', 'Section 11. Insulation of fireplaces, etc.\\n', '(1) Bulkheads shall be insulated with non-combustible material in accordance with Appendix 4.\\n', '(2) Below stoves, wooden floor or combustible floor covering shall be protected by steel or aluminium sheets covering the whole floor area under the fireplace and in front of the stove at least 15 cm from the fire door. Where the stove is placed on a bench or similar, the bench shall be protected by non-combustible material.\\n', '\\n', 'Section 12. Smoke uptake and exhaust pipes\\n', '(1) Smoke uptakes and exhaust pipes shall consist of at least 3 mm thick steel plates and shall be securely fixed. Smoke uptakes shall be carried at least 1.3 m above deck.\\n', '(2) Saucer formed rockwool sheets of at least 6 cm thickness shall be provided between smoke uptake and combustible material. Insulation in the form of non-combustible material shall be provided between metal cover plates and combustible material. Alternatively, a pipe with a diameter at least 6 cm larger than the smoke uptake pipe may be fitted outside this pipe, in order to provide vertical air circulation between the pipes. Insulation by saucer formed rockwool or mineral wool twine of at least 3 cm thickness shall be provided between the outer pipe and combustible material. The pipe shall be carried to at least 1 m above the deck, and the outlet shall be protected with a collar.\\n', '(3) When smoke uptake is carried along a bulkhead, the bulkhead shall be insulated with non-combustible material. Smoke uptakes shall not be placed closer than 10 cm to insulated bulkheads. Where the smoke uptake (pipe) is insulated with saucer formed rockwool or mineral wool twine of at least 2 cm thickness, the distance to the insulated bulkhead may be reduced to 5 cm.\\n', '(4) Any exhaust manifold which is not watercooled, and parts of exhaust pipes which may cause ignition, shall be insulated so that oil cannot penetrate. Where gases are watercooled, other arrangements may be accepted. Exhaust pipes shall not be closer than 2 cm to combustible material.\\n', '(5) Oil pipes shall be placed as far as possible away from exhaust pipes and hot engine parts.\\n', '\\n', 'Section 13. Insulation with non-combustible material\\n', 'Non-combustible material means a material which, when tested and evaluated in accordance with MSC.61(67) (the FTP Code), satisfies the requirements for qualifying materials as non-combustible. The insulation shall, if necessary in order to preserve the fire-insulating effect, be mounted with a sheet of galvanized steel or aluminium.\\n', '\\n', 'Section 14. Insulation of machinery spaces in wooden vessels\\n', '(1) Machinery spaces in wooden vessels shall have floors of steel or aluminium plates. Machinery spaces shall be insulated with non-combustible material or have an approved fire-extinguishing system.\\n', '(2) In machinery spaces without inside planking, wooden casings, beams and surfaces under deck as well as bulkheads forwards and aft in the machinery space shall be insulated with non-combustible material.\\n', '(3) In machinery spaces with inside planking, all woodwork shall be insulated with non-combustible material down to the lower edge of the floor. No insulation is required behind fuel oil tanks if the other insulation is fitted tightly around the tank.\\n', '(4) In vessels where the engine is not placed in a separate compartment, all combustible material which is exposed to heat from exhaust manifolds, exhaust pipes, etc. shall be insulated with non-combustible material. When an engine cover is used, this shall be insulated on the inside and be mounted with a galvanized steel or aluminium sheet.\\n', '\\n', 'Section 15. Fire-extinguishing systems in machinery spaces\\n', '(1) Vessels of 10.67 to 15 metres in overall length shall have a fire-extinguishing system. When there are persons on board, the fire-extinguishing system shall only be capable of manual release.\\n', '(2) Extinguishing medium shall be of an approved type. The amount of extinguishing medium is determined in each individual case depending on the size of the machinery space.\\n', '(3) The fire-extinguishing system shall only be capable of being released from a position outside the machinery space. The release equipment shall be clearly marked, provided with instructions for use and protected against unintentional release.\\n', '(4) Vessels of less than 10.67 metres in overall length constructed after 1 January 1992 may as an alternative be equipped with a fire-extinguishing system in accordance with guidelines laid down in chapter C14 of Nordic Boat Standard (1990).\\n', '(5) CO2 containers and other containers for extinguishing gas which could may be hazardous in the event of a leak, with appurtenant release device, shall be placed in a separate space/locker outside the machinery space. Gastight bulkheads shall be provided to adjacent spaces and entrance from open deck. An alarm signal shall be activated automatically when the CO2 space/locker is opened. It should be ensured that no persons are present in the machinery space before the CO2 gas is released. The space/locker for release of CO2 shall have ventilation to the open air.\\n', '\\n', 'Section 16. Fire detection and alarm system\\n', '(1) Vessels of 10.67 to 15 metres in overall length, irrespective of year of construction, shall have fire detection system and fire alarm system for machinery spaces and smoke alarm system for the cabins in accordance with Appendix 5.\\n', '(2) Vessels of less than 10.67 meters in overall length shall be fitted with at least one smoke detector and one heat detector in machinery spaces, at least one smoke detector in recreational spaces, and at least one smoke detector in the wheelhouse.\\n', '\\n', 'Section 17. Fire extinguishers\\n', '(1) All vessels, irrespective of year of construction, shall have at least two approved fire extinguishers of at least 6 kg. At least one approved fire extinguisher shall be placed at a suitable place outside the machinery space and at least one approved fire extinguisher shall be placed in the accommodation spaces. For vessels without wheelhouse or accommodation spaces one fire extinguisher is sufficient.\\n', '(1) Fire extinguishers with pressurised extinguishing medium shall not be placed in accommodation spaces. Fire extinguishers which may be exposed to frost shall be of a frost-proof type.\\n', '(3) At least one spare charge shall be provided for each extinguisher. If the extinguisher is of a type that cannot be charged on board, the number of extinguishers shall be increased by 50 per cent.\\n', '(4) Fire extinguishers shall be inspected annually in accordance with NS3910. The date of the inspection shall be marked on the extinguisher.\\n', '\\n', '0\\tAmended by Regulation of 4 May 2015 No.. 445 (in force on 6 May 2015).\\n', '\\n', '\\n', '\\n', 'Section 18. Ventilation systems\\n', \"The vessel's machinery space shall have at least two ventilators capable of being closed from deck. Cabins shall have at least two ventilators with a diameter of at least 8 cm.\\n\", '\\n', 'Section 19. Materials, etc.\\n', 'Materials, varnishes, paints, etc. produced on a nitrocellulose basis or any other basis which will readily ignite are not permitted to be used anywhere on board.\\n', '\\n', 'Section 20. Storage of oil fuel and other flammable liquids\\n', '(1) Oil fuel shall be stored in tanks of steel or equivalent material.\\n', '(2) Outlets from oil fuel tanks shall be fitted with a closing valve or cock on the tank itself, which is capable of being closed from the deck. Test cocks and cocks for oil gauge glass shall be of a self-closing type. The tank shall be fitted with drip trays. In decked vessels with machinery space, filling pipes and airing pipes shall be carried through the deck and into open air.\\n', '(3) If extra fuel or other flammable liquids cannot be placed on open deck, they shall be stored in suitable containers in a well-ventilated room/locker with a door communicating only with open deck and without electrical or other sources of ignition.\\n', '\\n', 'Section 21. Materials in pipelines, etc.\\n', '(1) Seawater pipes, bilge pipes, pipes conveying oil and other pipelines required for the safety of the ship shall be made of non-combustible material. Short, flexible pipe connections made of a material which is not easily rendered ineffective by heat, may be accepted on:\\n', 'a)\\tseawater pipes;\\n', '\\n', 'b)\\tshort, flexible pipe connections on pipes conveying oil, when necessitated by vibrations.\\n', '\\n', '(2) Where failure of the material due to fire may lead to flooding, scuppers, sanitary discharges or other outlets which are close to the waterline shall be made of oil-resistant and reinforced materials which are not easily damaged by heat.\\n', '\\n', 'Section 22.  Machinery and piping systems\\n', '(1) Vessels constructed after 1 January 1992 shall satisfy the requirements of Nordic Boat Standard (1990)\\n', 'a)\\tC6 on bilge systems;\\n', '\\n', 'b)\\tC9 on oil fuel systems;\\n', '\\n', 'c)\\tC8 on engine installations; and\\n', '\\n', 'd)\\tC7 and C10 on rudder and propeller arrangements.\\n', '\\n', '(2) Vessels constructed before 1 January 1992 shall as far as possible satisfy the requirements of Nordic Boat Standard (1990 chapter C6 on bilge systems.\\n', '\\n', 'Section 23. Electrical installations\\n', '(1) Vessels of 6 to 15 metres in overall length constructed after 1 January 1992 with electrical installations with voltages of up to 50 V shall satisfy the requirements of Nordic Boat Standard (1990) C11 on electrical installations.\\n', '(2) Vessels of 6 to 15 metres in overall length constructed before 1 January 1992 with electrical installations with voltages of up to 50 V shall be in compliance with the rules in force at the time of construction.\\n', '(3) Vessels of 6 to 15 metres in overall length constructed between 1 January 1992 and 2002 with electrical installations with voltages of more than 50 V shall satisfy the requirements laid down in the now repealed Regulations of 1 March 1990 No. 125 for electrical installations - Maritime installations.\\n', '(4) Vessels of 6 to 15 metres in overall length constructed after 1 January 2002 with electrical installations with voltages of more than 50 V shall satisfy the requirements laid down in Regulations of 4 December 2001 No. 1450 concerning maritime electrical installations, laid down by the Norwegian Directorate for Civil Protection.\\n', '\\n', 'Section 24. Emergency source of power and emergency lighting, etc.\\n', '(1) Vessels of 10.67 to 15 metres in overall length constructed after 1 January 1992 shall have an emergency source of power providing satisfactory lighting for at least 2 hours to:\\n', 'a)\\tlighting in areas with life-saving appliances and launching arrangements;\\n', '\\n', 'b)\\tlighting in alleyways, stairways and exits to the life-saving appliances and of the sea where the life-saving appliances are launched;\\n', '\\n', 'c)\\tnecessary navigation lights; and\\n', '\\n', 'd)\\trequired alarm system.\\n', '\\n', '(2) The emergency power shall be provided by one of the following two sources:\\n', 'a)\\tan accumulator battery capable of carrying the load pursuant to the first paragraph without recharging or suffering an excessive voltage drop, and which is automatically connected to the emergency switchboard when the main power fails; or\\n', '\\n', 'b)\\ta generator driven by a suitable type of power machinery with an independent supply of fuel, appropriate starting arrangements and driven by fuel having a flashpoint of not less than 43Â°C (110Â°F).\\n', '\\n', '(3) The entire installation shall be capable of operating even when the vessel is listed to 22.5 degrees or when the trim of the vessel is 10 degrees.\\n', '(4) Switchboards for main power and emergency power shall be clearly marked and be placed, as far as practicable, so that they cannot be exposed to water or fire. The emergency source of power shall if possible be placed above deck. If the emergency source of power is placed in the machinery space, it shall be placed above the floor and in a well-ventilated place.\\n', '(5) The emergency source of power and the emergency lighting on vessels constructed before 1 January 1992 shall be in accordance with the rules in force at the time of construction.\\n', '\\n', 'Section 25. Equivalents\\n', 'Vessels constructed pursuant to Nordic Boat Standard (1990) are considered to satisfy the requirements of sections 18, 19 and 20.\\n']\n"
     ]
    }
   ],
   "source": [
    "#\n",
    "# Lastar inn teksten vi jobbar med\n",
    "#\n",
    "\n",
    "with open('./input - Chapter 3 - Text from word document with correct formating.txt', 'r') as f:\n",
    "\n",
    "    forward_file_lines = f.readlines() \n",
    "    \n",
    "print(forward_file_lines)"
   ]
  },
  {
   "source": [
    "# Pull out info from chapter text"
   ],
   "cell_type": "markdown",
   "metadata": {}
  },
  {
   "cell_type": "code",
   "execution_count": 4,
   "metadata": {},
   "outputs": [
    {
     "output_type": "execute_result",
     "data": {
      "text/plain": [
       "{'chapter_title': '3. Fire, machinery and electric installations',\n",
       " 'chapter_number': '3'}"
      ]
     },
     "metadata": {},
     "execution_count": 4
    }
   ],
   "source": [
    "from nltk.tokenize import word_tokenize\n",
    "\n",
    "forward_headline_and_section_list = []\n",
    "\n",
    "forward_chapter_info = {}\n",
    "\n",
    "for line_index_number, line_text in enumerate(forward_file_lines):\n",
    "\n",
    "    word_tokens = word_tokenize(line_text, language=\"english\")\n",
    "\n",
    "    sentence_word_count = len(word_tokens)\n",
    "\n",
    "    if sentence_word_count > 3 and word_tokens[0] == 'Section' and hasNumbers(word_tokens[1]) and word_tokens[2] == '.':\n",
    "        sentence_type = 'headline-section'\n",
    "        type_value = word_tokens[1] # section number\n",
    "        headline_in_a_list = word_tokens[3:sentence_word_count]\n",
    "        headline_as_a_string = \" \".join(headline_in_a_list)\n",
    "        forward_headline_and_section_list.append((str(line_index_number),sentence_type,type_value,line_text.replace(\"\\n\",\"\")))\n",
    "\n",
    "    # headline-chapter\n",
    "    elif \"chapter_title\" not in forward_chapter_info and sentence_word_count > 2 and line_index_number == 0 and hasNumbers(word_tokens[0]):\n",
    "\n",
    "        forward_chapter_info['chapter_title'] = line_text.replace(\"\\n\",\"\")\n",
    "        forward_chapter_info['chapter_number'] = word_tokens[0]\n",
    "\n",
    "#print(forward_headline_and_section_list)\n",
    "forward_chapter_info"
   ]
  },
  {
   "cell_type": "code",
   "execution_count": 12,
   "metadata": {},
   "outputs": [
    {
     "output_type": "execute_result",
     "data": {
      "text/plain": [
       "[('0', 'headline-chapter', '3'),\n",
       " ('1', 'none', 'none'),\n",
       " ('2', 'headline-section', '7'),\n",
       " ('3', 'part', '1'),\n",
       " ('4', 'part', '2'),\n",
       " ('5', 'part', '3'),\n",
       " ('6', 'none', 'none'),\n",
       " ('7', 'none', 'none'),\n",
       " ('8', 'none', 'none'),\n",
       " ('9', 'none', 'none'),\n",
       " ('10', 'none', 'none'),\n",
       " ('11', 'headline-section', '8'),\n",
       " ('12', 'part', '1'),\n",
       " ('13', 'part', '2'),\n",
       " ('14', 'part', '3'),\n",
       " ('15', 'none', 'none'),\n",
       " ('16', 'headline-section', '9'),\n",
       " ('17', 'part', '1'),\n",
       " ('18', 'sub-part', 'a'),\n",
       " ('19', 'none', 'none'),\n",
       " ('20', 'sub-part', 'b'),\n",
       " ('21', 'none', 'none'),\n",
       " ('22', 'sub-part', 'c'),\n",
       " ('23', 'none', 'none'),\n",
       " ('24', 'part', '2'),\n",
       " ('25', 'sub-part', 'a'),\n",
       " ('26', 'none', 'none'),\n",
       " ('27', 'sub-part', 'b'),\n",
       " ('28', 'none', 'none'),\n",
       " ('29', 'part', '3'),\n",
       " ('30', 'part', '4'),\n",
       " ('31', 'part', '5'),\n",
       " ('32', 'part', '6'),\n",
       " ('33', 'part', '7'),\n",
       " ('34', 'none', 'none'),\n",
       " ('35', 'headline-section', '10'),\n",
       " ('36', 'part', '1'),\n",
       " ('37', 'part', '2'),\n",
       " ('38', 'part', '3'),\n",
       " ('39', 'part', '4'),\n",
       " ('40', 'part', '5'),\n",
       " ('41', 'part', '6'),\n",
       " ('42', 'part', '7'),\n",
       " ('43', 'part', '8'),\n",
       " ('44', 'part', '9'),\n",
       " ('45', 'part', '10'),\n",
       " ('46', 'none', 'none'),\n",
       " ('47', 'headline-section', '11'),\n",
       " ('48', 'part', '1'),\n",
       " ('49', 'part', '2'),\n",
       " ('50', 'none', 'none'),\n",
       " ('51', 'headline-section', '12'),\n",
       " ('52', 'part', '1'),\n",
       " ('53', 'part', '2'),\n",
       " ('54', 'part', '3'),\n",
       " ('55', 'part', '4'),\n",
       " ('56', 'part', '5'),\n",
       " ('57', 'none', 'none'),\n",
       " ('58', 'headline-section', '13'),\n",
       " ('59', 'none', 'none'),\n",
       " ('60', 'none', 'none'),\n",
       " ('61', 'headline-section', '14'),\n",
       " ('62', 'part', '1'),\n",
       " ('63', 'part', '2'),\n",
       " ('64', 'part', '3'),\n",
       " ('65', 'part', '4'),\n",
       " ('66', 'none', 'none'),\n",
       " ('67', 'headline-section', '15'),\n",
       " ('68', 'part', '1'),\n",
       " ('69', 'part', '2'),\n",
       " ('70', 'part', '3'),\n",
       " ('71', 'part', '4'),\n",
       " ('72', 'part', '5'),\n",
       " ('73', 'none', 'none'),\n",
       " ('74', 'headline-section', '16'),\n",
       " ('75', 'part', '1'),\n",
       " ('76', 'part', '2'),\n",
       " ('77', 'none', 'none'),\n",
       " ('78', 'headline-section', '17'),\n",
       " ('79', 'part', '1'),\n",
       " ('80', 'part', '1'),\n",
       " ('81', 'part', '3'),\n",
       " ('82', 'part', '4'),\n",
       " ('83', 'none', 'none'),\n",
       " ('84', 'none', 'none'),\n",
       " ('85', 'none', 'none'),\n",
       " ('86', 'none', 'none'),\n",
       " ('87', 'none', 'none'),\n",
       " ('88', 'headline-section', '18'),\n",
       " ('89', 'none', 'none'),\n",
       " ('90', 'none', 'none'),\n",
       " ('91', 'headline-section', '19'),\n",
       " ('92', 'none', 'none'),\n",
       " ('93', 'none', 'none'),\n",
       " ('94', 'headline-section', '20'),\n",
       " ('95', 'part', '1'),\n",
       " ('96', 'part', '2'),\n",
       " ('97', 'part', '3'),\n",
       " ('98', 'none', 'none'),\n",
       " ('99', 'headline-section', '21'),\n",
       " ('100', 'part', '1'),\n",
       " ('101', 'sub-part', 'a'),\n",
       " ('102', 'none', 'none'),\n",
       " ('103', 'sub-part', 'b'),\n",
       " ('104', 'none', 'none'),\n",
       " ('105', 'part', '2'),\n",
       " ('106', 'none', 'none'),\n",
       " ('107', 'headline-section', '22'),\n",
       " ('108', 'part', '1'),\n",
       " ('109', 'sub-part', 'a'),\n",
       " ('110', 'none', 'none'),\n",
       " ('111', 'sub-part', 'b'),\n",
       " ('112', 'none', 'none'),\n",
       " ('113', 'sub-part', 'c'),\n",
       " ('114', 'none', 'none'),\n",
       " ('115', 'sub-part', 'd'),\n",
       " ('116', 'none', 'none'),\n",
       " ('117', 'part', '2'),\n",
       " ('118', 'none', 'none'),\n",
       " ('119', 'headline-section', '23'),\n",
       " ('120', 'part', '1'),\n",
       " ('121', 'part', '2'),\n",
       " ('122', 'part', '3'),\n",
       " ('123', 'part', '4'),\n",
       " ('124', 'none', 'none'),\n",
       " ('125', 'headline-section', '24'),\n",
       " ('126', 'part', '1'),\n",
       " ('127', 'sub-part', 'a'),\n",
       " ('128', 'none', 'none'),\n",
       " ('129', 'sub-part', 'b'),\n",
       " ('130', 'none', 'none'),\n",
       " ('131', 'sub-part', 'c'),\n",
       " ('132', 'none', 'none'),\n",
       " ('133', 'sub-part', 'd'),\n",
       " ('134', 'none', 'none'),\n",
       " ('135', 'part', '2'),\n",
       " ('136', 'sub-part', 'a'),\n",
       " ('137', 'none', 'none'),\n",
       " ('138', 'sub-part', 'b'),\n",
       " ('139', 'none', 'none'),\n",
       " ('140', 'part', '3'),\n",
       " ('141', 'part', '4'),\n",
       " ('142', 'part', '5'),\n",
       " ('143', 'none', 'none'),\n",
       " ('144', 'headline-section', '25'),\n",
       " ('145', 'none', 'none')]"
      ]
     },
     "metadata": {},
     "execution_count": 12
    }
   ],
   "source": [
    "forward_identified_sentence_type_list = []\n",
    "\n",
    "for line_index_number, line_text in enumerate(forward_file_lines):\n",
    "\n",
    "    word_tokens = word_tokenize(line_text, language=\"english\")\n",
    "\n",
    "    sentence_word_count = len(word_tokens)\n",
    "\n",
    "    if sentence_word_count > 3 and word_tokens[0] == '(' and hasNumbers(word_tokens[1]) and word_tokens[2] == ')':\n",
    "        sentence_type = 'part'\n",
    "        type_value = word_tokens[1] # part number\n",
    "        forward_identified_sentence_type_list.append((str(line_index_number),sentence_type,type_value))\n",
    "\n",
    "    elif sentence_word_count > 3 and word_tokens[0] == 'Section' and hasNumbers(word_tokens[1]) and word_tokens[2] == '.':\n",
    "        sentence_type = 'headline-section'\n",
    "        type_value = word_tokens[1] # section number\n",
    "        forward_identified_sentence_type_list.append((str(line_index_number),sentence_type,type_value))\n",
    "\n",
    "    elif sentence_word_count > 2 and word_tokens[1] == ')':\n",
    "        sentence_type = 'sub-part'\n",
    "        type_value = word_tokens[0] # sub-part character\n",
    "        forward_identified_sentence_type_list.append((str(line_index_number),sentence_type,type_value))\n",
    "\n",
    "    elif sentence_word_count > 2 and line_index_number == 0 and hasNumbers(word_tokens[0]):\n",
    "        sentence_type = 'headline-chapter'\n",
    "        type_value = word_tokens[0] # chapter number\n",
    "        forward_identified_sentence_type_list.append((str(line_index_number),sentence_type,type_value))\n",
    "\n",
    "    else:\n",
    "        sentence_type = 'none'\n",
    "        type_value = 'none'\n",
    "        forward_identified_sentence_type_list.append((str(line_index_number),sentence_type,type_value))\n",
    "\n",
    "forward_identified_sentence_type_list"
   ]
  },
  {
   "source": [
    "# Create XML content"
   ],
   "cell_type": "markdown",
   "metadata": {}
  },
  {
   "cell_type": "code",
   "execution_count": 103,
   "metadata": {},
   "outputs": [],
   "source": [
    "from xml.etree import ElementTree, cElementTree\n",
    "from xml.dom import minidom\n",
    "\n",
    "root = ElementTree.Element('dokument')\n",
    "#print(ElementTree.tostring(root))\n",
    "\n",
    "element_text = ElementTree.SubElement(root, 'tekst')"
   ]
  },
  {
   "cell_type": "code",
   "execution_count": 104,
   "metadata": {},
   "outputs": [],
   "source": [
    "element_regulation_title = ElementTree.SubElement(element_text, 'tittel')\n",
    "element_regulation_title.text = \"Regulation_Title\""
   ]
  },
  {
   "cell_type": "code",
   "execution_count": 105,
   "metadata": {},
   "outputs": [],
   "source": [
    "element_kapittel = ElementTree.SubElement(element_text, 'kapittel', type=\"kapittel\")\n",
    "\n",
    "if \"chapter_number\" in forward_chapter_info:\n",
    "    attribute_id = \"/kapittel/\" + forward_chapter_info[\"chapter_number\"]\n",
    "    element_kapittel.set('id', attribute_id)\n",
    "\n",
    "#url = \"https://lovdata.no/forskrift/2013-11-22-1404/k1\"\n",
    "#element_kapittel.set('url', url)"
   ]
  },
  {
   "cell_type": "code",
   "execution_count": 106,
   "metadata": {},
   "outputs": [],
   "source": [
    "if \"chapter_title\" in forward_chapter_info:\n",
    "    element_ktittel = ElementTree.SubElement(element_kapittel, \"ktittel\")\n",
    "    element_ktittel.text = forward_chapter_info[\"chapter_title\"]"
   ]
  },
  {
   "cell_type": "code",
   "execution_count": 109,
   "metadata": {},
   "outputs": [
    {
     "output_type": "stream",
     "name": "stdout",
     "text": [
      "previous_sentence_type: part\n0\tAmended by Regulation of 4 May 2015 No.. 445 (in force on 6 May 2015).\n\nprevious_sentence_type: headline-section\nNon-combustible material means a material which, when tested and evaluated in accordance with MSC.61(67) (the FTP Code), satisfies the requirements for qualifying materials as non-combustible. The insulation shall, if necessary in order to preserve the fire-insulating effect, be mounted with a sheet of galvanized steel or aluminium.\n\nprevious_sentence_type: part\n0\tAmended by Regulation of 4 May 2015 No.. 445 (in force on 6 May 2015).\n\nprevious_sentence_type: headline-section\nThe vessel's machinery space shall have at least two ventilators capable of being closed from deck. Cabins shall have at least two ventilators with a diameter of at least 8 cm.\n\nprevious_sentence_type: headline-section\nMaterials, varnishes, paints, etc. produced on a nitrocellulose basis or any other basis which will readily ignite are not permitted to be used anywhere on board.\n\nprevious_sentence_type: headline-section\nVessels constructed pursuant to Nordic Boat Standard (1990) are considered to satisfy the requirements of sections 18, 19 and 20.\n\n"
     ]
    }
   ],
   "source": [
    "previous_sentence_type_that_was_not_none = \"none\"\n",
    "\n",
    "chapter_number = \"undetected\"\n",
    "section_number = \"undetected\"\n",
    "part_number = \"undetected\"\n",
    "sub_part_id = \"undetected\"\n",
    "\n",
    "element_section = \"\"\n",
    "element_part = \"\"\n",
    "element_sub_part = \"\"\n",
    "\n",
    "for line_index_number, line_text in enumerate(forward_file_lines):\n",
    "\n",
    "    # get metadata about sentence\n",
    "    identified_sentence_type_as_tuple = forward_identified_sentence_type_list[line_index_number]\n",
    "    identified_sentence_type = identified_sentence_type_as_tuple[1]\n",
    "    identified_sentence_value = identified_sentence_type_as_tuple[2]\n",
    "\n",
    "    ###\n",
    "\n",
    "    if identified_sentence_type == \"headline-chapter\":\n",
    "        chapter_number = identified_sentence_value\n",
    "\n",
    "    elif identified_sentence_type == \"headline-section\":\n",
    "        section_number = identified_sentence_value\n",
    "\n",
    "        element_section = ElementTree.SubElement(element_kapittel, \"paragraf\")\n",
    "\n",
    "        new_id = \"/kapittel/\" + chapter_number + \"/paragraf/\" + section_number\n",
    "        element_section.set(\"id\", new_id)\n",
    "\n",
    "        element_ptittel = ElementTree.SubElement(element_section, \"ptittel\")\n",
    "        element_ptittel.text = line_text.replace(\"\\n\",\"\")\n",
    "\n",
    "    elif identified_sentence_type == \"part\":\n",
    "        part_number = identified_sentence_value\n",
    "\n",
    "        element_part = ElementTree.SubElement(element_section, \"ledd\")\n",
    "        element_part.text = line_text.replace(\"\\n\",\"\")\n",
    "\n",
    "        new_id = \"/kapittel/\" + chapter_number + \"/paragraf/\" + section_number + \"/ledd/\" + part_number\n",
    "        element_part.set(\"id\", new_id)\n",
    "\n",
    "    elif identified_sentence_type == \"sub-part\":\n",
    "        sub_part_id = identified_sentence_value\n",
    "\n",
    "        element_sub_part = ElementTree.SubElement(element_part, \"liste\")\n",
    "\n",
    "        new_id = \"/kapittel/\" + chapter_number + \"/paragraf/\" + section_number + \"/ledd/\" + part_number + \"/liste/\" + sub_part_id\n",
    "        element_sub_part.set(\"id\", new_id)\n",
    "\n",
    "        element_sub_part_lverdi = ElementTree.SubElement(element_sub_part, \"lverdi\")\n",
    "        element_sub_part_lverdi.text = identified_sentence_value\n",
    "\n",
    "        element_sub_part_avsnitt = ElementTree.SubElement(element_sub_part, \"avsnitt\")\n",
    "        element_sub_part_avsnitt.text = line_text.replace(\"\\n\",\"\")\n",
    "\n",
    "        \n",
    "\n",
    "    \n",
    "\n",
    "\n",
    "\n",
    "\n",
    "\n",
    "    ###\n",
    "\n",
    "    # at the end of the loop\n",
    "    if identified_sentence_type != \"none\":\n",
    "        previous_sentence_type_that_was_not_none = identified_sentence_type\n",
    "    else:\n",
    "        if line_text != \"\\n\":\n",
    "            print(\"previous_sentence_type: \" + previous_sentence_type_that_was_not_none)\n",
    "            print(line_text) # TODO this must be added to the XML. Handle after everything else is completed.\n",
    "    \n",
    "\n"
   ]
  },
  {
   "source": [
    "# Create tree to XML file"
   ],
   "cell_type": "markdown",
   "metadata": {}
  },
  {
   "cell_type": "code",
   "execution_count": 108,
   "metadata": {},
   "outputs": [],
   "source": [
    "tree = cElementTree.ElementTree(root) # wrap it in an ElementTree instance, and save as XML\n",
    "\n",
    "# Since ElementTree write() has no pretty printing support, used minidom to beautify the xml\n",
    "t = minidom.parseString(ElementTree.tostring(root)).toprettyxml()\n",
    "tree1 = ElementTree.ElementTree(ElementTree.fromstring(t))\n",
    "\n",
    "tree1.write(\"filename.xml\",encoding='utf-8', xml_declaration=True)"
   ]
  }
 ]
}