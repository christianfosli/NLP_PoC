{
 "metadata": {
  "language_info": {
   "codemirror_mode": {
    "name": "ipython",
    "version": 3
   },
   "file_extension": ".py",
   "mimetype": "text/x-python",
   "name": "python",
   "nbconvert_exporter": "python",
   "pygments_lexer": "ipython3",
   "version": "3.9.1-final"
  },
  "orig_nbformat": 2,
  "kernelspec": {
   "name": "python3",
   "display_name": "Python 3.9.1 64-bit",
   "metadata": {
    "interpreter": {
     "hash": "bc7b4049655db007e138d1fbf3ac1680a217a67446542a40573b08e37e7f2b2f"
    }
   }
  }
 },
 "nbformat": 4,
 "nbformat_minor": 2,
 "cells": [
  {
   "source": [
    "# Initialize"
   ],
   "cell_type": "markdown",
   "metadata": {}
  },
  {
   "cell_type": "code",
   "execution_count": 16,
   "metadata": {},
   "outputs": [],
   "source": [
    "from xml.etree import ElementTree, cElementTree\n",
    "from xml.dom import minidom\n",
    "\n",
    "root = ElementTree.Element('root')\n",
    "#print(ElementTree.tostring(root))"
   ]
  },
  {
   "source": [
    "# Create XML content"
   ],
   "cell_type": "markdown",
   "metadata": {}
  },
  {
   "cell_type": "code",
   "execution_count": 17,
   "metadata": {},
   "outputs": [],
   "source": [
    "child1 = ElementTree.SubElement(root, 'doc')\n",
    "child1_1 = ElementTree.SubElement(child1, 'DocChild_1')\n",
    "child1_1.text = \"DocChild_1 content\""
   ]
  },
  {
   "source": [
    "# Create tree to XML file"
   ],
   "cell_type": "markdown",
   "metadata": {}
  },
  {
   "cell_type": "code",
   "execution_count": 18,
   "metadata": {},
   "outputs": [],
   "source": [
    "tree = cElementTree.ElementTree(root) # wrap it in an ElementTree instance, and save as XML\n",
    "\n",
    "# Since ElementTree write() has no pretty printing support, used minidom to beautify the xml\n",
    "t = minidom.parseString(ElementTree.tostring(root)).toprettyxml()\n",
    "tree1 = ElementTree.ElementTree(ElementTree.fromstring(t))\n",
    "\n",
    "tree1.write(\"filename.xml\",encoding='utf-8', xml_declaration=True)"
   ]
  }
 ]
}