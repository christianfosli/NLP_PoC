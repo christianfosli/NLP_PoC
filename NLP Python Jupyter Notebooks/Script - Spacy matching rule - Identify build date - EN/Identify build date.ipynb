{
 "metadata": {
  "language_info": {
   "codemirror_mode": {
    "name": "ipython",
    "version": 3
   },
   "file_extension": ".py",
   "mimetype": "text/x-python",
   "name": "python",
   "nbconvert_exporter": "python",
   "pygments_lexer": "ipython3",
   "version": "3.9.1"
  },
  "orig_nbformat": 2,
  "kernelspec": {
   "name": "python3",
   "display_name": "Python 3.9.1 64-bit",
   "metadata": {
    "interpreter": {
     "hash": "1d00f79a455c158a9d21afbdaa6d5646858d1614c5754dccdb728961e9562872"
    }
   }
  }
 },
 "nbformat": 4,
 "nbformat_minor": 2,
 "cells": [
  {
   "cell_type": "code",
   "execution_count": 1,
   "metadata": {},
   "outputs": [
    {
     "output_type": "stream",
     "name": "stdout",
     "text": [
      "Requirement already satisfied: spacy==2.3.5 in c:\\users\\lhustvei\\appdata\\local\\programs\\python\\python39\\lib\\site-packages (2.3.5)\nRequirement already satisfied: srsly<1.1.0,>=1.0.2 in c:\\users\\lhustvei\\appdata\\local\\programs\\python\\python39\\lib\\site-packages (from spacy==2.3.5) (1.0.5)\nRequirement already satisfied: catalogue<1.1.0,>=0.0.7 in c:\\users\\lhustvei\\appdata\\local\\programs\\python\\python39\\lib\\site-packages (from spacy==2.3.5) (1.0.0)\nRequirement already satisfied: murmurhash<1.1.0,>=0.28.0 in c:\\users\\lhustvei\\appdata\\local\\programs\\python\\python39\\lib\\site-packages (from spacy==2.3.5) (1.0.5)\nRequirement already satisfied: cymem<2.1.0,>=2.0.2 in c:\\users\\lhustvei\\appdata\\local\\programs\\python\\python39\\lib\\site-packages (from spacy==2.3.5) (2.0.5)\nRequirement already satisfied: tqdm<5.0.0,>=4.38.0 in c:\\users\\lhustvei\\appdata\\local\\programs\\python\\python39\\lib\\site-packages (from spacy==2.3.5) (4.54.1)\nRequirement already satisfied: blis<0.8.0,>=0.4.0 in c:\\users\\lhustvei\\appdata\\local\\programs\\python\\python39\\lib\\site-packages (from spacy==2.3.5) (0.7.4)\nRequirement already satisfied: preshed<3.1.0,>=3.0.2 in c:\\users\\lhustvei\\appdata\\local\\programs\\python\\python39\\lib\\site-packages (from spacy==2.3.5) (3.0.5)\nRequirement already satisfied: setuptools in c:\\users\\lhustvei\\appdata\\local\\programs\\python\\python39\\lib\\site-packages (from spacy==2.3.5) (49.2.1)\nRequirement already satisfied: plac<1.2.0,>=0.9.6 in c:\\users\\lhustvei\\appdata\\local\\programs\\python\\python39\\lib\\site-packages (from spacy==2.3.5) (1.1.3)\nRequirement already satisfied: numpy>=1.15.0 in c:\\users\\lhustvei\\appdata\\local\\programs\\python\\python39\\lib\\site-packages (from spacy==2.3.5) (1.19.3)\nRequirement already satisfied: requests<3.0.0,>=2.13.0 in c:\\users\\lhustvei\\appdata\\local\\programs\\python\\python39\\lib\\site-packages (from spacy==2.3.5) (2.25.1)\nRequirement already satisfied: thinc<7.5.0,>=7.4.1 in c:\\users\\lhustvei\\appdata\\local\\programs\\python\\python39\\lib\\site-packages (from spacy==2.3.5) (7.4.5)\nRequirement already satisfied: wasabi<1.1.0,>=0.4.0 in c:\\users\\lhustvei\\appdata\\local\\programs\\python\\python39\\lib\\site-packages (from spacy==2.3.5) (0.8.2)\nRequirement already satisfied: urllib3<1.27,>=1.21.1 in c:\\users\\lhustvei\\appdata\\local\\programs\\python\\python39\\lib\\site-packages (from requests<3.0.0,>=2.13.0->spacy==2.3.5) (1.26.2)\nRequirement already satisfied: chardet<5,>=3.0.2 in c:\\users\\lhustvei\\appdata\\local\\programs\\python\\python39\\lib\\site-packages (from requests<3.0.0,>=2.13.0->spacy==2.3.5) (4.0.0)\nRequirement already satisfied: idna<3,>=2.5 in c:\\users\\lhustvei\\appdata\\local\\programs\\python\\python39\\lib\\site-packages (from requests<3.0.0,>=2.13.0->spacy==2.3.5) (2.10)\nRequirement already satisfied: certifi>=2017.4.17 in c:\\users\\lhustvei\\appdata\\local\\programs\\python\\python39\\lib\\site-packages (from requests<3.0.0,>=2.13.0->spacy==2.3.5) (2020.12.5)\n"
     ]
    }
   ],
   "source": [
    "!pip install -U spacy==2.3.5"
   ]
  },
  {
   "cell_type": "code",
   "execution_count": 2,
   "metadata": {},
   "outputs": [
    {
     "output_type": "stream",
     "name": "stdout",
     "text": [
      "2.3.5\n"
     ]
    }
   ],
   "source": [
    "import spacy\n",
    "print(spacy.__version__)"
   ]
  },
  {
   "cell_type": "code",
   "execution_count": 3,
   "metadata": {},
   "outputs": [
    {
     "output_type": "stream",
     "name": "stdout",
     "text": [
      "Requirement already satisfied: numpy==1.19.3 in c:\\users\\lhustvei\\appdata\\local\\programs\\python\\python39\\lib\\site-packages (1.19.3)\n"
     ]
    }
   ],
   "source": [
    "# Had to run this to make something below work.\n",
    "# This is a donwgrade of numpy to a version without a bug.\n",
    "# This is a temp solution until a new version of numpy has solved the bug.\n",
    "!pip install numpy==1.19.3 --user"
   ]
  },
  {
   "cell_type": "code",
   "execution_count": 4,
   "metadata": {},
   "outputs": [
    {
     "output_type": "stream",
     "name": "stdout",
     "text": [
      "False\nTrue\nTrue\nTrue\n"
     ]
    }
   ],
   "source": [
    "def is_float(n):\n",
    "    try:\n",
    "        support_float_with_norwegian_format = n.replace(',','.')\n",
    "        float_n = float(support_float_with_norwegian_format)\n",
    "    except ValueError:\n",
    "        return False\n",
    "    else:\n",
    "        return True\n",
    "    \n",
    "# test\n",
    "print(is_float('test'))\n",
    "print(is_float('4'))\n",
    "print(is_float('4.5'))\n",
    "print(is_float('4,5'))"
   ]
  },
  {
   "cell_type": "code",
   "execution_count": 5,
   "metadata": {},
   "outputs": [
    {
     "output_type": "stream",
     "name": "stdout",
     "text": [
      "False\nTrue\nFalse\n"
     ]
    }
   ],
   "source": [
    "def is_int(n):\n",
    "    try:\n",
    "        float_n = float(n)\n",
    "        int_n = int(float_n)\n",
    "    except ValueError:\n",
    "        return False\n",
    "    else:\n",
    "        return float_n == int_n\n",
    "\n",
    "# test\n",
    "print(is_int('test'))\n",
    "print(is_int('4'))\n",
    "print(is_int('4.5'))"
   ]
  },
  {
   "cell_type": "code",
   "execution_count": 6,
   "metadata": {},
   "outputs": [],
   "source": [
    "#text = \"(2) Vessels constructed before 2 January 1988 shall be constructed and equipped in accordance with the rules applicable at the time of construction of the vessel, unless otherwise provided by the individual provisions of this chapter. (1) Vessels constructed after 1 January 1992 shall satisfy the requirements of Nordic Boat Standard (1990)\"\n",
    "#text = \"(3) Vessels of 6 to 15 metres in overall length constructed between 1 January 1992 and 2002 with electrical installations with voltages of more than 50 V shall satisfy the requirements laid down in the now repealed Regulations of 1 March 1990 No. 125 for electrical installations - Maritime installations.\"\n",
    "text = \"(4) Vessels of less than 10.67 metres in overall length constructed after 1 January 1992 may as an alternative be equipped with a fire-extinguishing system in accordance with guidelines laid down in chapter C14 of Nordic Boat Standard (1990).\""
   ]
  },
  {
   "cell_type": "code",
   "execution_count": 7,
   "metadata": {},
   "outputs": [
    {
     "output_type": "display_data",
     "data": {
      "text/plain": "<IPython.core.display.HTML object>",
      "text/html": "<span class=\"tex2jax_ignore\"><div class=\"entities\" style=\"line-height: 2.5; direction: ltr\">(4) \n<mark class=\"entity\" style=\"background: aquamarine; padding: 0.45em 0.6em; margin: 0 0.25em; line-height: 1; border-radius: 0.35em;\">\n    Vessels\n    <span style=\"font-size: 0.8em; font-weight: bold; line-height: 1; border-radius: 0.35em; text-transform: uppercase; vertical-align: middle; margin-left: 0.5rem\">WATER_VESSEL</span>\n</mark>\n of less than 10.67 metres in overall length \n<mark class=\"entity\" style=\"background: darksalmon; padding: 0.45em 0.6em; margin: 0 0.25em; line-height: 1; border-radius: 0.35em;\">\n    constructed\n    <span style=\"font-size: 0.8em; font-weight: bold; line-height: 1; border-radius: 0.35em; text-transform: uppercase; vertical-align: middle; margin-left: 0.5rem\">CONSTRUCT</span>\n</mark>\n \n<mark class=\"entity\" style=\"background: lightgoldenrodyellow; padding: 0.45em 0.6em; margin: 0 0.25em; line-height: 1; border-radius: 0.35em;\">\n    after\n    <span style=\"font-size: 0.8em; font-weight: bold; line-height: 1; border-radius: 0.35em; text-transform: uppercase; vertical-align: middle; margin-left: 0.5rem\">DATE_PREFIX</span>\n</mark>\n \n<mark class=\"entity\" style=\"background: orange; padding: 0.45em 0.6em; margin: 0 0.25em; line-height: 1; border-radius: 0.35em;\">\n    1 January 1992\n    <span style=\"font-size: 0.8em; font-weight: bold; line-height: 1; border-radius: 0.35em; text-transform: uppercase; vertical-align: middle; margin-left: 0.5rem\">DATE</span>\n</mark>\n may as an alternative be equipped with a fire-extinguishing system in accordance with guidelines laid down in chapter C14 of Nordic Boat Standard (\n<mark class=\"entity\" style=\"background: orange; padding: 0.45em 0.6em; margin: 0 0.25em; line-height: 1; border-radius: 0.35em;\">\n    1990\n    <span style=\"font-size: 0.8em; font-weight: bold; line-height: 1; border-radius: 0.35em; text-transform: uppercase; vertical-align: middle; margin-left: 0.5rem\">DATE</span>\n</mark>\n).</div></span>"
     },
     "metadata": {}
    }
   ],
   "source": [
    "import spacy\n",
    "from spacy.lang.en import English\n",
    "from spacy.matcher import Matcher\n",
    "\n",
    "# Blank model.\n",
    "# Does not have a POS tagger.\n",
    "nlp = English()\n",
    "\n",
    "doc = nlp(text)\n",
    "\n",
    "matcher = Matcher(nlp.vocab)\n",
    "\n",
    "#\n",
    "# START - spaCy patterns\n",
    "#\n",
    "\n",
    "# WATER_VESSEL\n",
    "water_vessel_pattern = [{\"LOWER\": {\"IN\": [\"vessels\"]}}]\n",
    "matcher.add(\"WATER_VESSEL\", None, water_vessel_pattern)\n",
    "\n",
    "# DATE\n",
    "matcher.add(\"DATE\", None, [{'IS_DIGIT': True, 'LENGTH': 4}])\n",
    "\n",
    "# CONSTRUCT\n",
    "matcher.add(\"CONSTRUCT\", None, [{\"LOWER\": {\"IN\": [\"constructed\"]}}])\n",
    "\n",
    "#\n",
    "# END - spaCy patterns\n",
    "#\n",
    "\n",
    "result = []\n",
    "\n",
    "for match_id, token_start, token_end in matcher(doc):\n",
    "\n",
    "    match_id_as_string = nlp.vocab.strings[match_id]\n",
    "    final_token_start = token_start\n",
    "    final_token_end = token_end\n",
    "    \n",
    "    if match_id_as_string == \"DATE\" and token_start > 0:\n",
    "\n",
    "        # At this point, DATE is just a year string. Example: 2021\n",
    "\n",
    "        # Expand DATE?\n",
    "        prev_word_1_token_number = token_start - 1\n",
    "        prev_word_1_token = doc[prev_word_1_token_number]\n",
    "        if prev_word_1_token.text.lower() in (\"january\",\"february\",\"march\",\"april\",\"may\",\"june\",\"july\",\"august\",\"september\",\"october\",\"november\",\"december\"):\n",
    "            final_token_start = prev_word_1_token_number # expanding\n",
    "            # Expand more?\n",
    "            prev_word_2_token_number = token_start - 2\n",
    "            prev_word_2_token = doc[prev_word_2_token_number]\n",
    "            if is_int(prev_word_2_token.text):\n",
    "                final_token_start = prev_word_2_token_number # expanding\n",
    "\n",
    "        prev_word_on_date_token_number = final_token_start - 1\n",
    "        prev_word_on_date_token = doc[prev_word_on_date_token_number]\n",
    "\n",
    "        # Does the DATE have a DATE_SEPARATOR?\n",
    "        if prev_word_on_date_token.text in (\"and\", \"to\"):\n",
    "            prev_word_on_date_char_span_start_number = prev_word_on_date_token.idx\n",
    "            prev_word_on_date_char_span_end_number = prev_word_on_date_char_span_start_number + len(prev_word_on_date_token.text)\n",
    "            identified_entity = {'start': prev_word_on_date_char_span_start_number, 'end': prev_word_on_date_char_span_end_number, 'label': \"DATE_SEPARATOR\"}\n",
    "            result.append(identified_entity)\n",
    "\n",
    "        # Does the DATE have a DATE_SEPARATOR?\n",
    "        elif prev_word_on_date_token.text in (\"between\", \"before\", \"after\"):\n",
    "            # DATE_PREFIX detected\n",
    "            prev_word_on_date_char_span_start_number = prev_word_on_date_token.idx\n",
    "            prev_word_on_date_char_span_end_number = prev_word_on_date_char_span_start_number + len(prev_word_on_date_token.text)\n",
    "            identified_entity = {'start': prev_word_on_date_char_span_start_number, 'end': prev_word_on_date_char_span_end_number, 'label': \"DATE_PREFIX\"}\n",
    "            result.append(identified_entity)\n",
    "\n",
    "    #\n",
    "    # convert token_span to char_span.\n",
    "    # char_span is needed to display correctly withdisplacy.render().\n",
    "    #\n",
    "    span = doc[final_token_start:final_token_end]\n",
    "    span_char_start = span[0].idx\n",
    "    span_char_end = span[-1].idx + len(span[-1].text)\n",
    "\n",
    "    # return result\n",
    "    identified_entity = {'start': span_char_start, 'end': span_char_end, 'label': match_id_as_string}\n",
    "    result.append(identified_entity)\n",
    "\n",
    "# display result with spacy styling\n",
    "display_this_result = {'text': text, 'ents': sorted(result, key=lambda x: x['start']), 'title': 0}\n",
    "options = {\"colors\": {\"DATE\": \"orange\", \"WATER_VESSEL\": \"aquamarine\", \"CONSTRUCT\": \"darksalmon\", \"DATE_SEPARATOR\": \"cornflowerblue\", \"DATE_PREFIX\": \"lightgoldenrodyellow\"}}\n",
    "from spacy import displacy\n",
    "displacy.render(display_this_result, style='ent', manual=True, options=options)"
   ]
  },
  {
   "source": [
    "# Functions run from .py file"
   ],
   "cell_type": "markdown",
   "metadata": {}
  },
  {
   "cell_type": "code",
   "execution_count": 8,
   "metadata": {},
   "outputs": [
    {
     "output_type": "execute_result",
     "data": {
      "text/plain": [
       "[{'start': 4, 'end': 11, 'label': 'WATER_VESSEL'},\n",
       " {'start': 56, 'end': 67, 'label': 'CONSTRUCT'},\n",
       " {'start': 68, 'end': 73, 'label': 'DATE_PREFIX'},\n",
       " {'start': 74, 'end': 88, 'label': 'DATE'},\n",
       " {'start': 236, 'end': 240, 'label': 'DATE'}]"
      ]
     },
     "metadata": {},
     "execution_count": 8
    }
   ],
   "source": [
    "#\n",
    "# Something that must be done \n",
    "# to make the notebook reload a function\n",
    "# from a costum .py file.\n",
    "#\n",
    "\n",
    "%reload_ext autoreload\n",
    "%autoreload 2\n",
    "\n",
    "import importlib\n",
    "\n",
    "import spacy_matching_rule_identify_build_date_en\n",
    "\n",
    "from spacy_matching_rule_identify_build_date_en import identify_build_date_in_text\n",
    "\n",
    "importlib.reload(spacy_matching_rule_identify_build_date_en)\n",
    "\n",
    "################\n",
    "################\n",
    "\n",
    "identify_build_date_in_text(text)"
   ]
  }
 ]
}