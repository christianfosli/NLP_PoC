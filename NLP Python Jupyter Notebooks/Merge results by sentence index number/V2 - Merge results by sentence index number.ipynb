{
 "cells": [
  {
   "cell_type": "code",
   "execution_count": 1,
   "metadata": {},
   "outputs": [
    {
     "output_type": "stream",
     "name": "stdout",
     "text": [
      "Requirement already satisfied: nltk in c:\\users\\lhustvei\\appdata\\local\\programs\\python\\python39\\lib\\site-packages (3.5)\nRequirement already satisfied: click in c:\\users\\lhustvei\\appdata\\local\\programs\\python\\python39\\lib\\site-packages (from nltk) (7.1.2)\nRequirement already satisfied: joblib in c:\\users\\lhustvei\\appdata\\local\\programs\\python\\python39\\lib\\site-packages (from nltk) (1.0.0)\nRequirement already satisfied: regex in c:\\users\\lhustvei\\appdata\\local\\programs\\python\\python39\\lib\\site-packages (from nltk) (2020.11.13)\nRequirement already satisfied: tqdm in c:\\users\\lhustvei\\appdata\\local\\programs\\python\\python39\\lib\\site-packages (from nltk) (4.54.1)\n"
     ]
    }
   ],
   "source": [
    "!pip install nltk"
   ]
  },
  {
   "cell_type": "markdown",
   "metadata": {},
   "source": [
    "# read input"
   ]
  },
  {
   "cell_type": "code",
   "execution_count": 2,
   "metadata": {},
   "outputs": [
    {
     "output_type": "execute_result",
     "data": {
      "text/plain": [
       "[(3, 'vessel'),\n",
       " (4, 'vessel'),\n",
       " (4, 'vessel'),\n",
       " (5, 'vessel'),\n",
       " (5, 'vessel'),\n",
       " (5, 'vessel'),\n",
       " (12, 'vessel'),\n",
       " (13, 'vessel'),\n",
       " (13, 'vessel'),\n",
       " (14, 'vessel'),\n",
       " (14, 'vessel'),\n",
       " (36, 'vessel'),\n",
       " (39, 'pipe'),\n",
       " (40, 'pipe'),\n",
       " (40, 'pipe'),\n",
       " (41, 'pipe'),\n",
       " (42, 'pipe'),\n",
       " (45, 'vessel'),\n",
       " (51, 'pipe'),\n",
       " (52, 'pipe'),\n",
       " (53, 'pipe'),\n",
       " (53, 'pipe'),\n",
       " (53, 'pipe'),\n",
       " (53, 'pipe'),\n",
       " (53, 'pipe'),\n",
       " (53, 'pipe'),\n",
       " (54, 'pipe'),\n",
       " (55, 'pipe'),\n",
       " (55, 'pipe'),\n",
       " (56, 'pipe'),\n",
       " (56, 'pipe'),\n",
       " (61, 'vessel'),\n",
       " (62, 'vessel'),\n",
       " (65, 'vessel'),\n",
       " (65, 'pipe'),\n",
       " (68, 'vessel'),\n",
       " (71, 'vessel'),\n",
       " (75, 'vessel'),\n",
       " (76, 'vessel'),\n",
       " (79, 'vessel'),\n",
       " (79, 'vessel'),\n",
       " (89, 'vessel'),\n",
       " (96, 'vessel'),\n",
       " (96, 'pipe'),\n",
       " (96, 'pipe'),\n",
       " (100, 'pipe'),\n",
       " (100, 'pipe'),\n",
       " (100, 'pipe'),\n",
       " (100, 'pipe'),\n",
       " (101, 'pipe'),\n",
       " (103, 'pipe'),\n",
       " (103, 'pipe'),\n",
       " (108, 'vessel'),\n",
       " (117, 'vessel'),\n",
       " (120, 'vessel'),\n",
       " (121, 'vessel'),\n",
       " (122, 'vessel'),\n",
       " (123, 'vessel'),\n",
       " (126, 'vessel'),\n",
       " (140, 'vessel'),\n",
       " (140, 'vessel'),\n",
       " (142, 'vessel'),\n",
       " (145, 'vessel'),\n",
       " (78, 'fire extinguisher'),\n",
       " (79, 'fire extinguisher'),\n",
       " (79, 'fire extinguisher'),\n",
       " (79, 'fire extinguisher'),\n",
       " (79, 'fire extinguisher'),\n",
       " (80, 'fire extinguisher'),\n",
       " (80, 'fire extinguisher'),\n",
       " (82, 'fire extinguisher'),\n",
       " (142, 'emergency light')]"
      ]
     },
     "metadata": {},
     "execution_count": 2
    }
   ],
   "source": [
    "#\n",
    "# input - Identified things by vocabulary.csv\n",
    "#\n",
    "\n",
    "import csv\n",
    "\n",
    "forward_identified_things_by_vocabulary_csv = []\n",
    "\n",
    "with open('V2 - input - Identified things by vocabulary.csv', newline='\\n') as csvfile:\n",
    "    \n",
    "    csv_reader = csv.reader(csvfile, delimiter=',')\n",
    "    \n",
    "    for row in csv_reader:\n",
    "\n",
    "        sentence_index_number = row[0]\n",
    "        word_as_string = row[1]\n",
    "        \n",
    "        forward_identified_things_by_vocabulary_csv.append((int(sentence_index_number),word_as_string))\n",
    "        \n",
    "forward_identified_things_by_vocabulary_csv"
   ]
  },
  {
   "cell_type": "code",
   "execution_count": 3,
   "metadata": {},
   "outputs": [
    {
     "output_type": "execute_result",
     "data": {
      "text/plain": [
       "[(45, 'length'),\n",
       " (49, 'least'),\n",
       " (52, 'least'),\n",
       " (52, 'least'),\n",
       " (53, 'least'),\n",
       " (53, 'least'),\n",
       " (53, 'least'),\n",
       " (53, 'least'),\n",
       " (54, 'least'),\n",
       " (68, 'length'),\n",
       " (71, 'length'),\n",
       " (75, 'length'),\n",
       " (76, 'length'),\n",
       " (76, 'least'),\n",
       " (76, 'least'),\n",
       " (76, 'least'),\n",
       " (79, 'least'),\n",
       " (79, 'least'),\n",
       " (79, 'least'),\n",
       " (79, 'least'),\n",
       " (81, 'least'),\n",
       " (89, 'least'),\n",
       " (89, 'least'),\n",
       " (89, 'least'),\n",
       " (120, 'length'),\n",
       " (121, 'length'),\n",
       " (122, 'length'),\n",
       " (123, 'length'),\n",
       " (126, 'length'),\n",
       " (126, 'least'),\n",
       " (45, 'overall length'),\n",
       " (68, 'overall length'),\n",
       " (71, 'overall length'),\n",
       " (75, 'overall length'),\n",
       " (76, 'overall length'),\n",
       " (120, 'overall length'),\n",
       " (121, 'overall length'),\n",
       " (122, 'overall length'),\n",
       " (123, 'overall length'),\n",
       " (126, 'overall length')]"
      ]
     },
     "metadata": {},
     "execution_count": 3
    }
   ],
   "source": [
    "#\n",
    "# input - Identified data properties by vocabulary.csv\n",
    "#\n",
    "\n",
    "import csv\n",
    "\n",
    "forward_identified_data_properties_by_vocabulary_csv = []\n",
    "\n",
    "with open('V2 - input - Identified data properties by vocabulary.csv', newline='\\n') as csvfile:\n",
    "    \n",
    "    csv_reader = csv.reader(csvfile, delimiter=',')\n",
    "    \n",
    "    for row in csv_reader:\n",
    "\n",
    "        sentence_index_number = row[0]\n",
    "        word_as_string = row[1]\n",
    "        \n",
    "        forward_identified_data_properties_by_vocabulary_csv.append((int(sentence_index_number),word_as_string))\n",
    "        \n",
    "forward_identified_data_properties_by_vocabulary_csv"
   ]
  },
  {
   "cell_type": "code",
   "execution_count": 4,
   "metadata": {},
   "outputs": [
    {
     "output_type": "execute_result",
     "data": {
      "text/plain": [
       "defaultdict(int,\n",
       "            {45: ['length', 'overall length'],\n",
       "             49: ['least'],\n",
       "             52: ['least'],\n",
       "             53: ['least'],\n",
       "             54: ['least'],\n",
       "             68: ['length', 'overall length'],\n",
       "             71: ['length', 'overall length'],\n",
       "             75: ['length', 'overall length'],\n",
       "             76: ['length', 'least', 'overall length'],\n",
       "             79: ['least'],\n",
       "             81: ['least'],\n",
       "             89: ['least'],\n",
       "             120: ['length', 'overall length'],\n",
       "             121: ['length', 'overall length'],\n",
       "             122: ['length', 'overall length'],\n",
       "             123: ['length', 'overall length'],\n",
       "             126: ['length', 'least', 'overall length']})"
      ]
     },
     "metadata": {},
     "execution_count": 4
    }
   ],
   "source": [
    "#\n",
    "# data_properties to dictionary\n",
    "#\n",
    "\n",
    "from collections import defaultdict\n",
    "\n",
    "forward_data_properties_in_dictionary = defaultdict(int)\n",
    "\n",
    "for (sentence_index_number,word_as_string) in forward_identified_data_properties_by_vocabulary_csv:\n",
    "    \n",
    "    if sentence_index_number not in forward_data_properties_in_dictionary:\n",
    "        \n",
    "        forward_data_properties_in_dictionary[sentence_index_number] = [word_as_string]\n",
    "        \n",
    "    else: # a detection in sentence is already added\n",
    "        \n",
    "        # Add if it is a new word\n",
    "        if word_as_string not in forward_data_properties_in_dictionary[sentence_index_number]:\n",
    "            forward_data_properties_in_dictionary[sentence_index_number].append(word_as_string)\n",
    "            \n",
    "forward_data_properties_in_dictionary"
   ]
  },
  {
   "cell_type": "code",
   "execution_count": 5,
   "metadata": {},
   "outputs": [
    {
     "output_type": "execute_result",
     "data": {
      "text/plain": [
       "[(45, 'metre'),\n",
       " (49, 'cm'),\n",
       " (52, 'mm'),\n",
       " (53, 'cm'),\n",
       " (53, 'cm'),\n",
       " (53, 'cm'),\n",
       " (54, 'cm'),\n",
       " (54, 'cm'),\n",
       " (54, 'cm'),\n",
       " (55, 'cm'),\n",
       " (68, 'metre'),\n",
       " (71, 'metre'),\n",
       " (75, 'metre'),\n",
       " (89, 'cm'),\n",
       " (120, 'metre'),\n",
       " (120, 'voltage'),\n",
       " (121, 'metre'),\n",
       " (121, 'voltage'),\n",
       " (122, 'metre'),\n",
       " (122, 'voltage'),\n",
       " (123, 'metre'),\n",
       " (123, 'voltage'),\n",
       " (126, 'metre'),\n",
       " (136, 'voltage')]"
      ]
     },
     "metadata": {},
     "execution_count": 5
    }
   ],
   "source": [
    "#\n",
    "# input - Identify data types by vocabulary.csv\n",
    "#\n",
    "\n",
    "import csv\n",
    "\n",
    "forward_identify_data_types_by_vocabulary_csv = []\n",
    "\n",
    "with open('V2 - input - Identify data types by vocabulary.csv', newline='\\n') as csvfile:\n",
    "    \n",
    "    csv_reader = csv.reader(csvfile, delimiter=',')\n",
    "    \n",
    "    for row in csv_reader:\n",
    "\n",
    "        sentence_index_number = row[0]\n",
    "        word_as_string = row[1]\n",
    "        \n",
    "        forward_identify_data_types_by_vocabulary_csv.append((int(sentence_index_number),word_as_string))\n",
    "        \n",
    "forward_identify_data_types_by_vocabulary_csv"
   ]
  },
  {
   "cell_type": "code",
   "execution_count": 6,
   "metadata": {},
   "outputs": [
    {
     "output_type": "execute_result",
     "data": {
      "text/plain": [
       "defaultdict(int,\n",
       "            {45: ['metre'],\n",
       "             49: ['cm'],\n",
       "             52: ['mm'],\n",
       "             53: ['cm'],\n",
       "             54: ['cm'],\n",
       "             55: ['cm'],\n",
       "             68: ['metre'],\n",
       "             71: ['metre'],\n",
       "             75: ['metre'],\n",
       "             89: ['cm'],\n",
       "             120: ['metre', 'voltage'],\n",
       "             121: ['metre', 'voltage'],\n",
       "             122: ['metre', 'voltage'],\n",
       "             123: ['metre', 'voltage'],\n",
       "             126: ['metre'],\n",
       "             136: ['voltage']})"
      ]
     },
     "metadata": {},
     "execution_count": 6
    }
   ],
   "source": [
    "#\n",
    "# data_types to dictionary\n",
    "#\n",
    "\n",
    "from collections import defaultdict\n",
    "\n",
    "forward_data_types_in_dictionary = defaultdict(int)\n",
    "\n",
    "for (sentence_index_number,word_as_string) in forward_identify_data_types_by_vocabulary_csv:\n",
    "    \n",
    "    if sentence_index_number not in forward_data_types_in_dictionary:\n",
    "        \n",
    "        forward_data_types_in_dictionary[sentence_index_number] = [word_as_string]\n",
    "        \n",
    "    else: # a detection in sentence is already added\n",
    "        \n",
    "        # Add if it is a new word\n",
    "        if word_as_string not in forward_data_types_in_dictionary[sentence_index_number]:\n",
    "            forward_data_types_in_dictionary[sentence_index_number].append(word_as_string)\n",
    "            \n",
    "forward_data_types_in_dictionary"
   ]
  },
  {
   "cell_type": "code",
   "execution_count": 7,
   "metadata": {},
   "outputs": [
    {
     "output_type": "execute_result",
     "data": {
      "text/plain": [
       "[('Section 7', 2, 10),\n",
       " ('Section 8', 11, 15),\n",
       " ('Section 9', 16, 34),\n",
       " ('Section 10', 35, 46),\n",
       " ('Section 11', 47, 50),\n",
       " ('Section 12', 51, 57),\n",
       " ('Section 13', 58, 60),\n",
       " ('Section 14', 61, 66),\n",
       " ('Section 15', 67, 73),\n",
       " ('Section 16', 74, 77),\n",
       " ('Section 17', 78, 87),\n",
       " ('Section 18', 88, 90),\n",
       " ('Section 19', 91, 93),\n",
       " ('Section 20', 94, 98),\n",
       " ('Section 21', 99, 106),\n",
       " ('Section 22', 107, 118),\n",
       " ('Section 23', 119, 124),\n",
       " ('Section 24', 125, 143),\n",
       " ('Section 25', 144, 145)]"
      ]
     },
     "metadata": {},
     "execution_count": 7
    }
   ],
   "source": [
    "#\n",
    "# input - Identify section span by sentence index number.csv\n",
    "#\n",
    "\n",
    "import csv\n",
    "\n",
    "forward_identify_section_span_by_sentence_index_number_csv = []\n",
    "\n",
    "with open('V2 - input - Identify section span by sentence index number.csv', newline='\\n') as csvfile:\n",
    "    \n",
    "    csv_reader = csv.reader(csvfile, delimiter=',')\n",
    "    \n",
    "    for row in csv_reader:\n",
    "\n",
    "        section_as_string = row[0]\n",
    "        span_start = row[1]\n",
    "        span_end = row[2]\n",
    "        \n",
    "        forward_identify_section_span_by_sentence_index_number_csv.append((section_as_string,int(span_start),int(span_end)))\n",
    "        \n",
    "forward_identify_section_span_by_sentence_index_number_csv"
   ]
  },
  {
   "cell_type": "markdown",
   "metadata": {},
   "source": [
    "# merge result"
   ]
  },
  {
   "cell_type": "code",
   "execution_count": 8,
   "metadata": {},
   "outputs": [
    {
     "output_type": "execute_result",
     "data": {
      "text/plain": [
       "'Section 21'"
      ]
     },
     "metadata": {},
     "execution_count": 8
    }
   ],
   "source": [
    "# Fuction that find section of an sentence index number\n",
    "\n",
    "def get_section_from_sentence_index_number(sentence_index_number):\n",
    "    \n",
    "    for (section_as_string,span_start,span_end) in forward_identify_section_span_by_sentence_index_number_csv:\n",
    "        \n",
    "        if sentence_index_number >= span_start and sentence_index_number <= span_end:\n",
    "            return section_as_string\n",
    "            \n",
    "    return \"None\"\n",
    "\n",
    "get_section_from_sentence_index_number(103)"
   ]
  },
  {
   "cell_type": "code",
   "execution_count": 9,
   "metadata": {},
   "outputs": [
    {
     "output_type": "execute_result",
     "data": {
      "text/plain": [
       "['Section 10,vessel,length,metre',\n",
       " 'Section 10,vessel,overall length,metre',\n",
       " 'Section 12,pipe,least,mm',\n",
       " 'Section 12,pipe,least,cm',\n",
       " 'Section 12,pipe,least,cm',\n",
       " 'Section 12,pipe,least,cm',\n",
       " 'Section 12,pipe,least,cm',\n",
       " 'Section 12,pipe,least,cm',\n",
       " 'Section 12,pipe,least,cm',\n",
       " 'Section 12,pipe,least,cm',\n",
       " 'Section 15,vessel,length,metre',\n",
       " 'Section 15,vessel,overall length,metre',\n",
       " 'Section 15,vessel,length,metre',\n",
       " 'Section 15,vessel,overall length,metre',\n",
       " 'Section 16,vessel,length,metre',\n",
       " 'Section 16,vessel,overall length,metre',\n",
       " 'Section 18,vessel,least,cm',\n",
       " 'Section 23,vessel,length,metre',\n",
       " 'Section 23,vessel,length,voltage',\n",
       " 'Section 23,vessel,overall length,metre',\n",
       " 'Section 23,vessel,overall length,voltage',\n",
       " 'Section 23,vessel,length,metre',\n",
       " 'Section 23,vessel,length,voltage',\n",
       " 'Section 23,vessel,overall length,metre',\n",
       " 'Section 23,vessel,overall length,voltage',\n",
       " 'Section 23,vessel,length,metre',\n",
       " 'Section 23,vessel,length,voltage',\n",
       " 'Section 23,vessel,overall length,metre',\n",
       " 'Section 23,vessel,overall length,voltage',\n",
       " 'Section 23,vessel,length,metre',\n",
       " 'Section 23,vessel,length,voltage',\n",
       " 'Section 23,vessel,overall length,metre',\n",
       " 'Section 23,vessel,overall length,voltage',\n",
       " 'Section 24,vessel,length,metre',\n",
       " 'Section 24,vessel,least,metre',\n",
       " 'Section 24,vessel,overall length,metre']"
      ]
     },
     "metadata": {},
     "execution_count": 9
    }
   ],
   "source": [
    "forward_list_with_rdf_triples_suggestions = []\n",
    "\n",
    "for (sentence_index_number,word_as_string) in sorted(forward_identified_things_by_vocabulary_csv, key=lambda x: x[0]):\n",
    "    \n",
    "    if sentence_index_number in forward_data_properties_in_dictionary and sentence_index_number in forward_data_types_in_dictionary:\n",
    "        \n",
    "        identified_section_as_string = get_section_from_sentence_index_number(sentence_index_number)\n",
    "        \n",
    "        for data_property in forward_data_properties_in_dictionary[sentence_index_number]:\n",
    "            \n",
    "            for data_type in forward_data_types_in_dictionary[sentence_index_number]:\n",
    "                \n",
    "                forward_list_with_rdf_triples_suggestions.append(identified_section_as_string + \",\" + word_as_string + \",\" + data_property + \",\" + data_type)\n",
    "                \n",
    "forward_list_with_rdf_triples_suggestions"
   ]
  },
  {
   "cell_type": "code",
   "execution_count": 10,
   "metadata": {},
   "outputs": [
    {
     "output_type": "execute_result",
     "data": {
      "text/plain": [
       "[('Section 10', 'vessel', 'length', 'metre'),\n",
       " ('Section 10', 'vessel', 'overall length', 'metre'),\n",
       " ('Section 12', 'pipe', 'least', 'mm'),\n",
       " ('Section 12', 'pipe', 'least', 'cm'),\n",
       " ('Section 15', 'vessel', 'length', 'metre'),\n",
       " ('Section 15', 'vessel', 'overall length', 'metre'),\n",
       " ('Section 16', 'vessel', 'length', 'metre'),\n",
       " ('Section 16', 'vessel', 'overall length', 'metre'),\n",
       " ('Section 18', 'vessel', 'least', 'cm'),\n",
       " ('Section 23', 'vessel', 'length', 'metre'),\n",
       " ('Section 23', 'vessel', 'length', 'voltage'),\n",
       " ('Section 23', 'vessel', 'overall length', 'metre'),\n",
       " ('Section 23', 'vessel', 'overall length', 'voltage'),\n",
       " ('Section 24', 'vessel', 'length', 'metre'),\n",
       " ('Section 24', 'vessel', 'least', 'metre'),\n",
       " ('Section 24', 'vessel', 'overall length', 'metre')]"
      ]
     },
     "metadata": {},
     "execution_count": 10
    }
   ],
   "source": [
    "# Removing duplicates from result and make CSV output ready\n",
    "\n",
    "output_without_duplicates = list(dict.fromkeys(forward_list_with_rdf_triples_suggestions))\n",
    "lines_for_csv_file = []\n",
    "\n",
    "for line in output_without_duplicates:\n",
    "    line_split = line.split(\",\")\n",
    "    lines_for_csv_file.append((line_split[0],line_split[1],line_split[2],line_split[3]))\n",
    "\n",
    "lines_for_csv_file"
   ]
  },
  {
   "cell_type": "code",
   "execution_count": 11,
   "metadata": {},
   "outputs": [
    {
     "output_type": "execute_result",
     "data": {
      "text/plain": [
       "[('Section 10', 'vessel', 'length', 'metre'),\n",
       " ('Section 10', 'vessel', 'overall length', 'metre'),\n",
       " ('Section 12', 'pipe', 'least', 'mm'),\n",
       " ('Section 12', 'pipe', 'least', 'cm'),\n",
       " ('Section 15', 'vessel', 'length', 'metre'),\n",
       " ('Section 15', 'vessel', 'overall length', 'metre'),\n",
       " ('Section 16', 'vessel', 'length', 'metre'),\n",
       " ('Section 16', 'vessel', 'overall length', 'metre'),\n",
       " ('Section 18', 'vessel', 'least', 'cm'),\n",
       " ('Section 23', 'vessel', 'length', 'metre'),\n",
       " ('Section 23', 'vessel', 'overall length', 'metre'),\n",
       " ('Section 24', 'vessel', 'length', 'metre'),\n",
       " ('Section 24', 'vessel', 'least', 'metre'),\n",
       " ('Section 24', 'vessel', 'overall length', 'metre')]"
      ]
     },
     "metadata": {},
     "execution_count": 11
    }
   ],
   "source": [
    "# Remove word relationships that don't belong together\n",
    "\n",
    "data_property_and_data_type_that_dont_belong_together = ['length-voltage','overall length-voltage']\n",
    "\n",
    "final_lines_for_csv_file = []\n",
    "\n",
    "for (section,word_as_string,data_property,data_type) in lines_for_csv_file:\n",
    "    \n",
    "    check_string = data_property + \"-\" + data_type\n",
    "    \n",
    "    if check_string not in data_property_and_data_type_that_dont_belong_together:\n",
    "        final_lines_for_csv_file.append((section,word_as_string,data_property,data_type))\n",
    "    \n",
    "final_lines_for_csv_file"
   ]
  },
  {
   "cell_type": "code",
   "execution_count": 12,
   "metadata": {},
   "outputs": [],
   "source": [
    "import csv\n",
    "\n",
    "with open(\"V2 - output - Merge results by sentence index number.csv\", 'w') as f:\n",
    "    write = csv.writer(f, delimiter=',', lineterminator='\\n')\n",
    "    write.writerows(final_lines_for_csv_file)"
   ]
  }
 ],
 "metadata": {
  "kernelspec": {
   "name": "python3",
   "display_name": "Python 3.9.1 64-bit",
   "metadata": {
    "interpreter": {
     "hash": "bc7b4049655db007e138d1fbf3ac1680a217a67446542a40573b08e37e7f2b2f"
    }
   }
  },
  "language_info": {
   "codemirror_mode": {
    "name": "ipython",
    "version": 3
   },
   "file_extension": ".py",
   "mimetype": "text/x-python",
   "name": "python",
   "nbconvert_exporter": "python",
   "pygments_lexer": "ipython3",
   "version": "3.9.1-final"
  }
 },
 "nbformat": 4,
 "nbformat_minor": 4
}