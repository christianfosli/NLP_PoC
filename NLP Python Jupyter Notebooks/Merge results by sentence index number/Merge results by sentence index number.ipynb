{
 "cells": [
  {
   "cell_type": "code",
   "execution_count": 1,
   "metadata": {},
   "outputs": [
    {
     "name": "stdout",
     "output_type": "stream",
     "text": [
      "Processing /home/jovyan/.cache/pip/wheels/ff/d5/7b/f1fb4e1e1603b2f01c2424dd60fbcc50c12ef918bafc44b155/nltk-3.5-py3-none-any.whl\n",
      "Requirement already satisfied: tqdm in /opt/conda/lib/python3.8/site-packages (from nltk) (4.51.0)\n",
      "Requirement already satisfied: click in /opt/conda/lib/python3.8/site-packages (from nltk) (7.1.2)\n",
      "Requirement already satisfied: joblib in /opt/conda/lib/python3.8/site-packages (from nltk) (0.17.0)\n",
      "Collecting regex\n",
      "  Using cached regex-2020.11.13-cp38-cp38-manylinux2014_x86_64.whl (738 kB)\n",
      "Installing collected packages: regex, nltk\n",
      "Successfully installed nltk-3.5 regex-2020.11.13\n"
     ]
    }
   ],
   "source": [
    "!pip install nltk"
   ]
  },
  {
   "cell_type": "markdown",
   "metadata": {},
   "source": [
    "# read input"
   ]
  },
  {
   "cell_type": "code",
   "execution_count": 2,
   "metadata": {},
   "outputs": [
    {
     "data": {
      "text/plain": [
       "[(3, 'vessel'),\n",
       " (4, 'vessel'),\n",
       " (4, 'vessel'),\n",
       " (5, 'vessel'),\n",
       " (5, 'vessel'),\n",
       " (5, 'vessel'),\n",
       " (8, 'vessel'),\n",
       " (9, 'vessel'),\n",
       " (9, 'vessel'),\n",
       " (10, 'vessel'),\n",
       " (12, 'vessel'),\n",
       " (27, 'vessel'),\n",
       " (31, 'pipe'),\n",
       " (33, 'pipe'),\n",
       " (34, 'pipe'),\n",
       " (35, 'pipe'),\n",
       " (37, 'pipe'),\n",
       " (40, 'vessel'),\n",
       " (47, 'pipe'),\n",
       " (47, 'pipe'),\n",
       " (51, 'pipe'),\n",
       " (51, 'pipe'),\n",
       " (51, 'pipe'),\n",
       " (51, 'pipe'),\n",
       " (52, 'pipe'),\n",
       " (53, 'pipe'),\n",
       " (56, 'pipe'),\n",
       " (57, 'pipe'),\n",
       " (59, 'pipe'),\n",
       " (60, 'pipe'),\n",
       " (60, 'pipe'),\n",
       " (65, 'vessel'),\n",
       " (65, 'vessel'),\n",
       " (70, 'vessel'),\n",
       " (70, 'pipe'),\n",
       " (74, 'vessel'),\n",
       " (80, 'vessel'),\n",
       " (87, 'vessel'),\n",
       " (88, 'vessel'),\n",
       " (90, 'vessel'),\n",
       " (92, 'vessel'),\n",
       " (101, 'vessel'),\n",
       " (112, 'vessel'),\n",
       " (112, 'pipe'),\n",
       " (112, 'pipe'),\n",
       " (116, 'pipe'),\n",
       " (116, 'pipe'),\n",
       " (116, 'pipe'),\n",
       " (117, 'pipe'),\n",
       " (117, 'pipe'),\n",
       " (117, 'pipe'),\n",
       " (117, 'pipe'),\n",
       " (120, 'vessel'),\n",
       " (121, 'vessel'),\n",
       " (123, 'vessel'),\n",
       " (124, 'vessel'),\n",
       " (125, 'vessel'),\n",
       " (127, 'vessel'),\n",
       " (131, 'vessel'),\n",
       " (133, 'vessel'),\n",
       " (133, 'vessel'),\n",
       " (137, 'vessel'),\n",
       " (139, 'vessel'),\n",
       " (90, 'fire extinguisher'),\n",
       " (90, 'fire extinguisher'),\n",
       " (91, 'fire extinguisher'),\n",
       " (91, 'fire extinguisher'),\n",
       " (92, 'fire extinguisher'),\n",
       " (93, 'fire extinguisher'),\n",
       " (94, 'fire extinguisher'),\n",
       " (97, 'fire extinguisher'),\n",
       " (137, 'emergency light')]"
      ]
     },
     "execution_count": 2,
     "metadata": {},
     "output_type": "execute_result"
    }
   ],
   "source": [
    "#\n",
    "# input - Identified things by vocabulary.csv\n",
    "#\n",
    "\n",
    "import csv\n",
    "\n",
    "forward_identified_things_by_vocabulary_csv = []\n",
    "\n",
    "with open('input - Identified things by vocabulary.csv', newline='\\n') as csvfile:\n",
    "    \n",
    "    csv_reader = csv.reader(csvfile, delimiter=',')\n",
    "    \n",
    "    for row in csv_reader:\n",
    "\n",
    "        sentence_index_number = row[0]\n",
    "        word_as_string = row[1]\n",
    "        \n",
    "        forward_identified_things_by_vocabulary_csv.append((int(sentence_index_number),word_as_string))\n",
    "        \n",
    "forward_identified_things_by_vocabulary_csv"
   ]
  },
  {
   "cell_type": "code",
   "execution_count": 3,
   "metadata": {},
   "outputs": [
    {
     "data": {
      "text/plain": [
       "[(40, 'length'),\n",
       " (44, 'least'),\n",
       " (47, 'least'),\n",
       " (48, 'least'),\n",
       " (49, 'least'),\n",
       " (51, 'least'),\n",
       " (52, 'least'),\n",
       " (53, 'least'),\n",
       " (56, 'least'),\n",
       " (74, 'length'),\n",
       " (80, 'length'),\n",
       " (87, 'length'),\n",
       " (88, 'length'),\n",
       " (88, 'least'),\n",
       " (88, 'least'),\n",
       " (88, 'least'),\n",
       " (90, 'least'),\n",
       " (90, 'least'),\n",
       " (91, 'least'),\n",
       " (91, 'least'),\n",
       " (95, 'least'),\n",
       " (101, 'least'),\n",
       " (102, 'least'),\n",
       " (102, 'least'),\n",
       " (123, 'length'),\n",
       " (124, 'length'),\n",
       " (125, 'length'),\n",
       " (127, 'length'),\n",
       " (131, 'length'),\n",
       " (131, 'least'),\n",
       " (40, 'overall length'),\n",
       " (74, 'overall length'),\n",
       " (80, 'overall length'),\n",
       " (87, 'overall length'),\n",
       " (88, 'overall length'),\n",
       " (123, 'overall length'),\n",
       " (124, 'overall length'),\n",
       " (125, 'overall length'),\n",
       " (127, 'overall length'),\n",
       " (131, 'overall length')]"
      ]
     },
     "execution_count": 3,
     "metadata": {},
     "output_type": "execute_result"
    }
   ],
   "source": [
    "#\n",
    "# input - Identified data properties by vocabulary.csv\n",
    "#\n",
    "\n",
    "import csv\n",
    "\n",
    "forward_identified_data_properties_by_vocabulary_csv = []\n",
    "\n",
    "with open('input - Identified data properties by vocabulary.csv', newline='\\n') as csvfile:\n",
    "    \n",
    "    csv_reader = csv.reader(csvfile, delimiter=',')\n",
    "    \n",
    "    for row in csv_reader:\n",
    "\n",
    "        sentence_index_number = row[0]\n",
    "        word_as_string = row[1]\n",
    "        \n",
    "        forward_identified_data_properties_by_vocabulary_csv.append((int(sentence_index_number),word_as_string))\n",
    "        \n",
    "forward_identified_data_properties_by_vocabulary_csv"
   ]
  },
  {
   "cell_type": "code",
   "execution_count": 4,
   "metadata": {},
   "outputs": [
    {
     "data": {
      "text/plain": [
       "defaultdict(int,\n",
       "            {40: ['length', 'overall length'],\n",
       "             44: ['least'],\n",
       "             47: ['least'],\n",
       "             48: ['least'],\n",
       "             49: ['least'],\n",
       "             51: ['least'],\n",
       "             52: ['least'],\n",
       "             53: ['least'],\n",
       "             56: ['least'],\n",
       "             74: ['length', 'overall length'],\n",
       "             80: ['length', 'overall length'],\n",
       "             87: ['length', 'overall length'],\n",
       "             88: ['length', 'least', 'overall length'],\n",
       "             90: ['least'],\n",
       "             91: ['least'],\n",
       "             95: ['least'],\n",
       "             101: ['least'],\n",
       "             102: ['least'],\n",
       "             123: ['length', 'overall length'],\n",
       "             124: ['length', 'overall length'],\n",
       "             125: ['length', 'overall length'],\n",
       "             127: ['length', 'overall length'],\n",
       "             131: ['length', 'least', 'overall length']})"
      ]
     },
     "execution_count": 4,
     "metadata": {},
     "output_type": "execute_result"
    }
   ],
   "source": [
    "#\n",
    "# data_properties to dictionary\n",
    "#\n",
    "\n",
    "from collections import defaultdict\n",
    "\n",
    "forward_data_properties_in_dictionary = defaultdict(int)\n",
    "\n",
    "for (sentence_index_number,word_as_string) in forward_identified_data_properties_by_vocabulary_csv:\n",
    "    \n",
    "    if sentence_index_number not in forward_data_properties_in_dictionary:\n",
    "        \n",
    "        forward_data_properties_in_dictionary[sentence_index_number] = [word_as_string]\n",
    "        \n",
    "    else: # a detection in sentence is already added\n",
    "        \n",
    "        # Add if it is a new word\n",
    "        if word_as_string not in forward_data_properties_in_dictionary[sentence_index_number]:\n",
    "            forward_data_properties_in_dictionary[sentence_index_number].append(word_as_string)\n",
    "            \n",
    "forward_data_properties_in_dictionary"
   ]
  },
  {
   "cell_type": "code",
   "execution_count": 5,
   "metadata": {},
   "outputs": [
    {
     "data": {
      "text/plain": [
       "[(40, 'metre'),\n",
       " (48, 'metre'),\n",
       " (53, 'metre'),\n",
       " (74, 'metre'),\n",
       " (80, 'metre'),\n",
       " (87, 'metre'),\n",
       " (123, 'metre'),\n",
       " (123, 'voltage'),\n",
       " (123, 'voltage'),\n",
       " (124, 'metre'),\n",
       " (124, 'voltage'),\n",
       " (124, 'voltage'),\n",
       " (125, 'metre'),\n",
       " (125, 'voltage'),\n",
       " (125, 'voltage'),\n",
       " (127, 'metre'),\n",
       " (127, 'voltage'),\n",
       " (127, 'voltage'),\n",
       " (131, 'metre'),\n",
       " (132, 'voltage')]"
      ]
     },
     "execution_count": 5,
     "metadata": {},
     "output_type": "execute_result"
    }
   ],
   "source": [
    "#\n",
    "# input - Identify data types by vocabulary.csv\n",
    "#\n",
    "\n",
    "import csv\n",
    "\n",
    "forward_identify_data_types_by_vocabulary_csv = []\n",
    "\n",
    "with open('input - Identify data types by vocabulary.csv', newline='\\n') as csvfile:\n",
    "    \n",
    "    csv_reader = csv.reader(csvfile, delimiter=',')\n",
    "    \n",
    "    for row in csv_reader:\n",
    "\n",
    "        sentence_index_number = row[0]\n",
    "        word_as_string = row[1]\n",
    "        \n",
    "        forward_identify_data_types_by_vocabulary_csv.append((int(sentence_index_number),word_as_string))\n",
    "        \n",
    "forward_identify_data_types_by_vocabulary_csv"
   ]
  },
  {
   "cell_type": "code",
   "execution_count": 6,
   "metadata": {},
   "outputs": [
    {
     "data": {
      "text/plain": [
       "defaultdict(int,\n",
       "            {40: ['metre'],\n",
       "             48: ['metre'],\n",
       "             53: ['metre'],\n",
       "             74: ['metre'],\n",
       "             80: ['metre'],\n",
       "             87: ['metre'],\n",
       "             123: ['metre', 'voltage'],\n",
       "             124: ['metre', 'voltage'],\n",
       "             125: ['metre', 'voltage'],\n",
       "             127: ['metre', 'voltage'],\n",
       "             131: ['metre'],\n",
       "             132: ['voltage']})"
      ]
     },
     "execution_count": 6,
     "metadata": {},
     "output_type": "execute_result"
    }
   ],
   "source": [
    "#\n",
    "# data_types to dictionary\n",
    "#\n",
    "\n",
    "from collections import defaultdict\n",
    "\n",
    "forward_data_types_in_dictionary = defaultdict(int)\n",
    "\n",
    "for (sentence_index_number,word_as_string) in forward_identify_data_types_by_vocabulary_csv:\n",
    "    \n",
    "    if sentence_index_number not in forward_data_types_in_dictionary:\n",
    "        \n",
    "        forward_data_types_in_dictionary[sentence_index_number] = [word_as_string]\n",
    "        \n",
    "    else: # a detection in sentence is already added\n",
    "        \n",
    "        # Add if it is a new word\n",
    "        if word_as_string not in forward_data_types_in_dictionary[sentence_index_number]:\n",
    "            forward_data_types_in_dictionary[sentence_index_number].append(word_as_string)\n",
    "            \n",
    "forward_data_types_in_dictionary"
   ]
  },
  {
   "cell_type": "code",
   "execution_count": 7,
   "metadata": {},
   "outputs": [
    {
     "data": {
      "text/plain": [
       "[('Section 7', 2, 6),\n",
       " ('Section 8', 7, 12),\n",
       " ('Section 9', 13, 24),\n",
       " ('Section 10', 25, 40),\n",
       " ('Section 11', 41, 45),\n",
       " ('Section 12', 46, 60),\n",
       " ('Section 13', 61, 63),\n",
       " ('Section 14', 64, 72),\n",
       " ('Section 15', 73, 85),\n",
       " ('Section 16', 86, 88),\n",
       " ('Section 17', 89, 99),\n",
       " ('Section 18', 100, 102),\n",
       " ('Section 19', 103, 106),\n",
       " ('Section 20', 107, 113),\n",
       " ('Section 21', 114, 118),\n",
       " ('Section 22', 119, 121),\n",
       " ('Section 23', 122, 128),\n",
       " ('Section 24', 129, 137),\n",
       " ('Section 25', 138, 139)]"
      ]
     },
     "execution_count": 7,
     "metadata": {},
     "output_type": "execute_result"
    }
   ],
   "source": [
    "#\n",
    "# input - Identify section span by sentence index number.csv\n",
    "#\n",
    "\n",
    "import csv\n",
    "\n",
    "forward_identify_section_span_by_sentence_index_number_csv = []\n",
    "\n",
    "with open('input - Identify section span by sentence index number.csv', newline='\\n') as csvfile:\n",
    "    \n",
    "    csv_reader = csv.reader(csvfile, delimiter=',')\n",
    "    \n",
    "    for row in csv_reader:\n",
    "\n",
    "        section_as_string = row[0]\n",
    "        span_start = row[1]\n",
    "        span_end = row[2]\n",
    "        \n",
    "        forward_identify_section_span_by_sentence_index_number_csv.append((section_as_string,int(span_start),int(span_end)))\n",
    "        \n",
    "forward_identify_section_span_by_sentence_index_number_csv"
   ]
  },
  {
   "cell_type": "markdown",
   "metadata": {},
   "source": [
    "# merge result"
   ]
  },
  {
   "cell_type": "code",
   "execution_count": 19,
   "metadata": {},
   "outputs": [
    {
     "data": {
      "text/plain": [
       "'Section 19'"
      ]
     },
     "execution_count": 19,
     "metadata": {},
     "output_type": "execute_result"
    }
   ],
   "source": [
    "# Fuction that find section of an sentence index number\n",
    "\n",
    "def get_section_from_sentence_index_number(sentence_index_number):\n",
    "    \n",
    "    for (section_as_string,span_start,span_end) in forward_identify_section_span_by_sentence_index_number_csv:\n",
    "        \n",
    "        if sentence_index_number >= span_start and sentence_index_number <= span_end:\n",
    "            return section_as_string\n",
    "            \n",
    "    return \"None\"\n",
    "\n",
    "get_section_from_sentence_index_number(103)"
   ]
  },
  {
   "cell_type": "code",
   "execution_count": 21,
   "metadata": {},
   "outputs": [
    {
     "data": {
      "text/plain": [
       "['Section 10,vessel,length,metre',\n",
       " 'Section 10,vessel,overall length,metre',\n",
       " 'Section 12,pipe,least,metre',\n",
       " 'Section 15,vessel,length,metre',\n",
       " 'Section 15,vessel,overall length,metre',\n",
       " 'Section 15,vessel,length,metre',\n",
       " 'Section 15,vessel,overall length,metre',\n",
       " 'Section 16,vessel,length,metre',\n",
       " 'Section 16,vessel,overall length,metre',\n",
       " 'Section 23,vessel,length,metre',\n",
       " 'Section 23,vessel,length,voltage',\n",
       " 'Section 23,vessel,overall length,metre',\n",
       " 'Section 23,vessel,overall length,voltage',\n",
       " 'Section 23,vessel,length,metre',\n",
       " 'Section 23,vessel,length,voltage',\n",
       " 'Section 23,vessel,overall length,metre',\n",
       " 'Section 23,vessel,overall length,voltage',\n",
       " 'Section 23,vessel,length,metre',\n",
       " 'Section 23,vessel,length,voltage',\n",
       " 'Section 23,vessel,overall length,metre',\n",
       " 'Section 23,vessel,overall length,voltage',\n",
       " 'Section 23,vessel,length,metre',\n",
       " 'Section 23,vessel,length,voltage',\n",
       " 'Section 23,vessel,overall length,metre',\n",
       " 'Section 23,vessel,overall length,voltage',\n",
       " 'Section 24,vessel,length,metre',\n",
       " 'Section 24,vessel,least,metre',\n",
       " 'Section 24,vessel,overall length,metre']"
      ]
     },
     "execution_count": 21,
     "metadata": {},
     "output_type": "execute_result"
    }
   ],
   "source": [
    "forward_list_with_rdf_triples_suggestions = []\n",
    "\n",
    "for (sentence_index_number,word_as_string) in sorted(forward_identified_things_by_vocabulary_csv, key=lambda x: x[0]):\n",
    "    \n",
    "    if sentence_index_number in forward_data_properties_in_dictionary and sentence_index_number in forward_data_types_in_dictionary:\n",
    "        \n",
    "        identified_section_as_string = get_section_from_sentence_index_number(sentence_index_number)\n",
    "        \n",
    "        for data_property in forward_data_properties_in_dictionary[sentence_index_number]:\n",
    "            \n",
    "            for data_type in forward_data_types_in_dictionary[sentence_index_number]:\n",
    "                \n",
    "                forward_list_with_rdf_triples_suggestions.append(identified_section_as_string + \",\" + word_as_string + \",\" + data_property + \",\" + data_type)\n",
    "                \n",
    "forward_list_with_rdf_triples_suggestions"
   ]
  },
  {
   "cell_type": "code",
   "execution_count": 24,
   "metadata": {},
   "outputs": [
    {
     "data": {
      "text/plain": [
       "[('Section 10', 'vessel', 'length', 'metre'),\n",
       " ('Section 10', 'vessel', 'overall length', 'metre'),\n",
       " ('Section 12', 'pipe', 'least', 'metre'),\n",
       " ('Section 15', 'vessel', 'length', 'metre'),\n",
       " ('Section 15', 'vessel', 'overall length', 'metre'),\n",
       " ('Section 16', 'vessel', 'length', 'metre'),\n",
       " ('Section 16', 'vessel', 'overall length', 'metre'),\n",
       " ('Section 23', 'vessel', 'length', 'metre'),\n",
       " ('Section 23', 'vessel', 'length', 'voltage'),\n",
       " ('Section 23', 'vessel', 'overall length', 'metre'),\n",
       " ('Section 23', 'vessel', 'overall length', 'voltage'),\n",
       " ('Section 24', 'vessel', 'length', 'metre'),\n",
       " ('Section 24', 'vessel', 'least', 'metre'),\n",
       " ('Section 24', 'vessel', 'overall length', 'metre')]"
      ]
     },
     "execution_count": 24,
     "metadata": {},
     "output_type": "execute_result"
    }
   ],
   "source": [
    "# Removing duplicates from result and make CSV output ready\n",
    "\n",
    "output_without_duplicates = list(dict.fromkeys(forward_list_with_rdf_triples_suggestions))\n",
    "lines_for_csv_file = []\n",
    "\n",
    "for line in output_without_duplicates:\n",
    "    line_split = line.split(\",\")\n",
    "    lines_for_csv_file.append((line_split[0],line_split[1],line_split[2],line_split[3]))\n",
    "\n",
    "lines_for_csv_file"
   ]
  },
  {
   "cell_type": "code",
   "execution_count": 26,
   "metadata": {},
   "outputs": [
    {
     "data": {
      "text/plain": [
       "[('Section 10', 'vessel', 'length', 'metre'),\n",
       " ('Section 10', 'vessel', 'overall length', 'metre'),\n",
       " ('Section 12', 'pipe', 'least', 'metre'),\n",
       " ('Section 15', 'vessel', 'length', 'metre'),\n",
       " ('Section 15', 'vessel', 'overall length', 'metre'),\n",
       " ('Section 16', 'vessel', 'length', 'metre'),\n",
       " ('Section 16', 'vessel', 'overall length', 'metre'),\n",
       " ('Section 23', 'vessel', 'length', 'metre'),\n",
       " ('Section 23', 'vessel', 'overall length', 'metre'),\n",
       " ('Section 24', 'vessel', 'length', 'metre'),\n",
       " ('Section 24', 'vessel', 'least', 'metre'),\n",
       " ('Section 24', 'vessel', 'overall length', 'metre')]"
      ]
     },
     "execution_count": 26,
     "metadata": {},
     "output_type": "execute_result"
    }
   ],
   "source": [
    "# Remove word relationships that don't belong together\n",
    "\n",
    "data_property_and_data_type_that_dont_belong_together = ['length-voltage','overall length-voltage']\n",
    "\n",
    "final_lines_for_csv_file = []\n",
    "\n",
    "for (section,word_as_string,data_property,data_type) in lines_for_csv_file:\n",
    "    \n",
    "    check_string = data_property + \"-\" + data_type\n",
    "    \n",
    "    if check_string not in data_property_and_data_type_that_dont_belong_together:\n",
    "        final_lines_for_csv_file.append((section,word_as_string,data_property,data_type))\n",
    "    \n",
    "final_lines_for_csv_file"
   ]
  },
  {
   "cell_type": "code",
   "execution_count": 25,
   "metadata": {},
   "outputs": [],
   "source": [
    "import csv\n",
    "\n",
    "with open(\"output - Merge results by sentence index number.csv\", 'w') as f:\n",
    "    write = csv.writer(f, delimiter=',', lineterminator='\\n')\n",
    "    write.writerows(lines_for_csv_file)"
   ]
  }
 ],
 "metadata": {
  "kernelspec": {
   "display_name": "Python 3",
   "language": "python",
   "name": "python3"
  },
  "language_info": {
   "codemirror_mode": {
    "name": "ipython",
    "version": 3
   },
   "file_extension": ".py",
   "mimetype": "text/x-python",
   "name": "python",
   "nbconvert_exporter": "python",
   "pygments_lexer": "ipython3",
   "version": "3.8.6"
  }
 },
 "nbformat": 4,
 "nbformat_minor": 4
}
