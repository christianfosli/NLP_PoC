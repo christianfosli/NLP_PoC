{
 "metadata": {
  "language_info": {
   "codemirror_mode": {
    "name": "ipython",
    "version": 3
   },
   "file_extension": ".py",
   "mimetype": "text/x-python",
   "name": "python",
   "nbconvert_exporter": "python",
   "pygments_lexer": "ipython3",
   "version": "3.9.1-final"
  },
  "orig_nbformat": 2,
  "kernelspec": {
   "name": "python3",
   "display_name": "Python 3.9.1 64-bit",
   "metadata": {
    "interpreter": {
     "hash": "bc7b4049655db007e138d1fbf3ac1680a217a67446542a40573b08e37e7f2b2f"
    }
   }
  }
 },
 "nbformat": 4,
 "nbformat_minor": 2,
 "cells": [
  {
   "cell_type": "code",
   "execution_count": 2,
   "metadata": {},
   "outputs": [
    {
     "output_type": "stream",
     "name": "stdout",
     "text": [
      "Requirement already satisfied: spacy==2.3.5 in c:\\users\\lhustvei\\appdata\\local\\programs\\python\\python39\\lib\\site-packages (2.3.5)\nRequirement already satisfied: thinc<7.5.0,>=7.4.1 in c:\\users\\lhustvei\\appdata\\local\\programs\\python\\python39\\lib\\site-packages (from spacy==2.3.5) (7.4.5)\nRequirement already satisfied: catalogue<1.1.0,>=0.0.7 in c:\\users\\lhustvei\\appdata\\local\\programs\\python\\python39\\lib\\site-packages (from spacy==2.3.5) (1.0.0)\nRequirement already satisfied: tqdm<5.0.0,>=4.38.0 in c:\\users\\lhustvei\\appdata\\local\\programs\\python\\python39\\lib\\site-packages (from spacy==2.3.5) (4.54.1)\nRequirement already satisfied: plac<1.2.0,>=0.9.6 in c:\\users\\lhustvei\\appdata\\local\\programs\\python\\python39\\lib\\site-packages (from spacy==2.3.5) (1.1.3)\nRequirement already satisfied: preshed<3.1.0,>=3.0.2 in c:\\users\\lhustvei\\appdata\\local\\programs\\python\\python39\\lib\\site-packages (from spacy==2.3.5) (3.0.5)\nRequirement already satisfied: numpy>=1.15.0 in c:\\users\\lhustvei\\appdata\\local\\programs\\python\\python39\\lib\\site-packages (from spacy==2.3.5) (1.19.3)\nRequirement already satisfied: blis<0.8.0,>=0.4.0 in c:\\users\\lhustvei\\appdata\\local\\programs\\python\\python39\\lib\\site-packages (from spacy==2.3.5) (0.7.4)\nRequirement already satisfied: setuptools in c:\\users\\lhustvei\\appdata\\local\\programs\\python\\python39\\lib\\site-packages (from spacy==2.3.5) (49.2.1)\nRequirement already satisfied: requests<3.0.0,>=2.13.0 in c:\\users\\lhustvei\\appdata\\local\\programs\\python\\python39\\lib\\site-packages (from spacy==2.3.5) (2.25.1)\nRequirement already satisfied: srsly<1.1.0,>=1.0.2 in c:\\users\\lhustvei\\appdata\\local\\programs\\python\\python39\\lib\\site-packages (from spacy==2.3.5) (1.0.5)\nRequirement already satisfied: cymem<2.1.0,>=2.0.2 in c:\\users\\lhustvei\\appdata\\local\\programs\\python\\python39\\lib\\site-packages (from spacy==2.3.5) (2.0.5)\nRequirement already satisfied: murmurhash<1.1.0,>=0.28.0 in c:\\users\\lhustvei\\appdata\\local\\programs\\python\\python39\\lib\\site-packages (from spacy==2.3.5) (1.0.5)\nRequirement already satisfied: wasabi<1.1.0,>=0.4.0 in c:\\users\\lhustvei\\appdata\\local\\programs\\python\\python39\\lib\\site-packages (from spacy==2.3.5) (0.8.2)\nRequirement already satisfied: urllib3<1.27,>=1.21.1 in c:\\users\\lhustvei\\appdata\\local\\programs\\python\\python39\\lib\\site-packages (from requests<3.0.0,>=2.13.0->spacy==2.3.5) (1.26.2)\nRequirement already satisfied: certifi>=2017.4.17 in c:\\users\\lhustvei\\appdata\\local\\programs\\python\\python39\\lib\\site-packages (from requests<3.0.0,>=2.13.0->spacy==2.3.5) (2020.12.5)\nRequirement already satisfied: idna<3,>=2.5 in c:\\users\\lhustvei\\appdata\\local\\programs\\python\\python39\\lib\\site-packages (from requests<3.0.0,>=2.13.0->spacy==2.3.5) (2.10)\nRequirement already satisfied: chardet<5,>=3.0.2 in c:\\users\\lhustvei\\appdata\\local\\programs\\python\\python39\\lib\\site-packages (from requests<3.0.0,>=2.13.0->spacy==2.3.5) (4.0.0)\n"
     ]
    }
   ],
   "source": [
    "!pip install -U spacy==2.3.5"
   ]
  },
  {
   "cell_type": "code",
   "execution_count": 3,
   "metadata": {},
   "outputs": [
    {
     "output_type": "stream",
     "name": "stdout",
     "text": [
      "2.3.5\n"
     ]
    }
   ],
   "source": [
    "import spacy\n",
    "print(spacy.__version__)"
   ]
  },
  {
   "cell_type": "code",
   "execution_count": 4,
   "metadata": {},
   "outputs": [
    {
     "output_type": "stream",
     "name": "stdout",
     "text": [
      "Requirement already satisfied: numpy==1.19.3 in c:\\users\\lhustvei\\appdata\\local\\programs\\python\\python39\\lib\\site-packages (1.19.3)\n"
     ]
    }
   ],
   "source": [
    "# Had to run this to make something below work.\n",
    "# This is a donwgrade of numpy to a version without a bug.\n",
    "# This is a temp solution until a new version of numpy has solved the bug.\n",
    "!pip install numpy==1.19.3 --user"
   ]
  },
  {
   "cell_type": "code",
   "execution_count": 5,
   "metadata": {},
   "outputs": [
    {
     "output_type": "stream",
     "name": "stdout",
     "text": [
      "False\nTrue\nTrue\nTrue\n"
     ]
    }
   ],
   "source": [
    "def is_float(n):\n",
    "    try:\n",
    "        support_float_with_norwegian_format = n.replace(',','.')\n",
    "        float_n = float(support_float_with_norwegian_format)\n",
    "    except ValueError:\n",
    "        return False\n",
    "    else:\n",
    "        return True\n",
    "    \n",
    "# test\n",
    "print(is_float('test'))\n",
    "print(is_float('4'))\n",
    "print(is_float('4.5'))\n",
    "print(is_float('4,5'))"
   ]
  },
  {
   "cell_type": "code",
   "execution_count": 6,
   "metadata": {},
   "outputs": [
    {
     "output_type": "stream",
     "name": "stdout",
     "text": [
      "False\nTrue\nFalse\n"
     ]
    }
   ],
   "source": [
    "def is_int(n):\n",
    "    try:\n",
    "        float_n = float(n)\n",
    "        int_n = int(float_n)\n",
    "    except ValueError:\n",
    "        return False\n",
    "    else:\n",
    "        return float_n == int_n\n",
    "\n",
    "# test\n",
    "print(is_int('test'))\n",
    "print(is_int('4'))\n",
    "print(is_int('4.5'))"
   ]
  },
  {
   "cell_type": "code",
   "execution_count": 7,
   "metadata": {},
   "outputs": [],
   "source": [
    "text = \"overstyrmann på skip med bruttotonnasje opp til 3000 i ubegrenset fartsområde. skip med bruttotonnasje over 500. Slike fartøy i innenriksfart uansett byggedato med bruttotonnasje 50 eller mer.\""
   ]
  },
  {
   "cell_type": "code",
   "execution_count": 10,
   "metadata": {},
   "outputs": [
    {
     "output_type": "display_data",
     "data": {
      "text/plain": "<IPython.core.display.HTML object>",
      "text/html": "<span class=\"tex2jax_ignore\"><div class=\"entities\" style=\"line-height: 2.5; direction: ltr\">overstyrmann på skip med \n<mark class=\"entity\" style=\"background: darksalmon; padding: 0.45em 0.6em; margin: 0 0.25em; line-height: 1; border-radius: 0.35em;\">\n    bruttotonnasje opp til 3000\n    <span style=\"font-size: 0.8em; font-weight: bold; line-height: 1; border-radius: 0.35em; text-transform: uppercase; vertical-align: middle; margin-left: 0.5rem\">GROSS_TONNAGE</span>\n</mark>\n i ubegrenset fartsområde. skip med \n<mark class=\"entity\" style=\"background: darksalmon; padding: 0.45em 0.6em; margin: 0 0.25em; line-height: 1; border-radius: 0.35em;\">\n    bruttotonnasje over 500\n    <span style=\"font-size: 0.8em; font-weight: bold; line-height: 1; border-radius: 0.35em; text-transform: uppercase; vertical-align: middle; margin-left: 0.5rem\">GROSS_TONNAGE</span>\n</mark>\n. Slike fartøy i innenriksfart uansett byggedato med \n<mark class=\"entity\" style=\"background: darksalmon; padding: 0.45em 0.6em; margin: 0 0.25em; line-height: 1; border-radius: 0.35em;\">\n    bruttotonnasje 50 eller mer\n    <span style=\"font-size: 0.8em; font-weight: bold; line-height: 1; border-radius: 0.35em; text-transform: uppercase; vertical-align: middle; margin-left: 0.5rem\">GROSS_TONNAGE</span>\n</mark>\n.</div></span>"
     },
     "metadata": {}
    }
   ],
   "source": [
    "import spacy\n",
    "from spacy.lang.en import English\n",
    "from spacy.matcher import Matcher\n",
    "\n",
    "# Blank model.\n",
    "# Does not have a POS tagger.\n",
    "nlp = English()\n",
    "\n",
    "doc = nlp(text)\n",
    "\n",
    "matcher = Matcher(nlp.vocab)\n",
    "\n",
    "#\n",
    "# START - spaCy patterns\n",
    "#\n",
    "\n",
    "# GROSS_TONNAGE\n",
    "patterns = [\n",
    "    [\n",
    "        {\"LOWER\": {\"IN\": [\"bruttotonnasje\"]}},\n",
    "        {\"LOWER\": {\"IN\": [\"opp\", \"ned\"]}},\n",
    "        {\"LOWER\": {\"IN\": [\"til\"]}},\n",
    "        {'IS_DIGIT': True}\n",
    "    ],\n",
    "    [\n",
    "        {\"LOWER\": {\"IN\": [\"bruttotonnasje\"]}},\n",
    "        {\"LOWER\": {\"IN\": [\"under\", \"over\"]}},\n",
    "        {'IS_DIGIT': True}\n",
    "    ],\n",
    "    [\n",
    "        {\"LOWER\": {\"IN\": [\"bruttotonnasje\"]}},\n",
    "        {'IS_DIGIT': True},\n",
    "        {\"LOWER\": {\"IN\": [\"eller\"]}},\n",
    "        {\"LOWER\": {\"IN\": [\"mer\", \"mindre\"]}}\n",
    "    ]\n",
    "]\n",
    "\n",
    "matcher.add(\"GROSS_TONNAGE\", patterns)\n",
    "\n",
    "#\n",
    "# END - spaCy patterns\n",
    "#\n",
    "\n",
    "result = []\n",
    "\n",
    "for match_id, token_start, token_end in matcher(doc):\n",
    "\n",
    "    match_id_as_string = nlp.vocab.strings[match_id]\n",
    "    final_token_start = token_start\n",
    "    final_token_end = token_end\n",
    "\n",
    "    spacy_pattern_detection = doc[token_start:token_end]\n",
    "    spacy_pattern_detection_as_lower_text = spacy_pattern_detection.text.lower()\n",
    "    \n",
    "    #\n",
    "    # convert token_span to char_span.\n",
    "    # char_span is needed to display correctly withdisplacy.render().\n",
    "    #\n",
    "    span = doc[final_token_start:final_token_end]\n",
    "    span_char_start = span[0].idx\n",
    "    span_char_end = span[-1].idx + len(span[-1].text)\n",
    "\n",
    "    # return result\n",
    "    identified_entity = {'start': span_char_start, 'end': span_char_end, 'label': match_id_as_string}\n",
    "    result.append(identified_entity)\n",
    "\n",
    "# display result with spacy styling\n",
    "display_this_result = {'text': text, 'ents': sorted(result, key=lambda x: x['start']), 'title': 0}\n",
    "options = {\"colors\": {\"GROSS_TONNAGE\": \"darksalmon\"}}\n",
    "from spacy import displacy\n",
    "displacy.render(display_this_result, style='ent', manual=True, options=options)"
   ]
  },
  {
   "source": [
    "# Functions run from .py file"
   ],
   "cell_type": "markdown",
   "metadata": {}
  },
  {
   "cell_type": "code",
   "execution_count": 9,
   "metadata": {},
   "outputs": [
    {
     "output_type": "execute_result",
     "data": {
      "text/plain": [
       "[{'start': 25, 'end': 52, 'label': 'GROSS_TONNAGE'},\n",
       " {'start': 88, 'end': 111, 'label': 'GROSS_TONNAGE'}]"
      ]
     },
     "metadata": {},
     "execution_count": 9
    }
   ],
   "source": [
    "#\n",
    "# Something that must be done \n",
    "# to make the notebook reload a function\n",
    "# from a costum .py file.\n",
    "#\n",
    "\n",
    "%reload_ext autoreload\n",
    "%autoreload 2\n",
    "\n",
    "import importlib\n",
    "\n",
    "import spacy_matching_rule_identify_GROSS_TONNAGE_no\n",
    "\n",
    "from spacy_matching_rule_identify_GROSS_TONNAGE_no import identify_GROSS_TONNAGE_in_text\n",
    "\n",
    "importlib.reload(spacy_matching_rule_identify_GROSS_TONNAGE_no)\n",
    "\n",
    "################\n",
    "################\n",
    "\n",
    "identify_GROSS_TONNAGE_in_text(text)"
   ]
  }
 ]
}