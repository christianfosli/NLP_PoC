{
 "metadata": {
  "language_info": {
   "codemirror_mode": {
    "name": "ipython",
    "version": 3
   },
   "file_extension": ".py",
   "mimetype": "text/x-python",
   "name": "python",
   "nbconvert_exporter": "python",
   "pygments_lexer": "ipython3",
   "version": "3.9.1-final"
  },
  "orig_nbformat": 2,
  "kernelspec": {
   "name": "python3",
   "display_name": "Python 3.9.1 64-bit",
   "metadata": {
    "interpreter": {
     "hash": "bc7b4049655db007e138d1fbf3ac1680a217a67446542a40573b08e37e7f2b2f"
    }
   }
  }
 },
 "nbformat": 4,
 "nbformat_minor": 2,
 "cells": [
  {
   "cell_type": "code",
   "execution_count": 1,
   "metadata": {},
   "outputs": [
    {
     "output_type": "stream",
     "name": "stdout",
     "text": [
      "Requirement already satisfied: spacy==2.3.5 in c:\\users\\lhustvei\\appdata\\local\\programs\\python\\python39\\lib\\site-packages (2.3.5)\n",
      "Requirement already satisfied: numpy>=1.15.0 in c:\\users\\lhustvei\\appdata\\local\\programs\\python\\python39\\lib\\site-packages (from spacy==2.3.5) (1.19.3)\n",
      "Requirement already satisfied: requests<3.0.0,>=2.13.0 in c:\\users\\lhustvei\\appdata\\local\\programs\\python\\python39\\lib\\site-packages (from spacy==2.3.5) (2.25.1)\n",
      "Requirement already satisfied: blis<0.8.0,>=0.4.0 in c:\\users\\lhustvei\\appdata\\local\\programs\\python\\python39\\lib\\site-packages (from spacy==2.3.5) (0.7.4)\n",
      "Requirement already satisfied: catalogue<1.1.0,>=0.0.7 in c:\\users\\lhustvei\\appdata\\local\\programs\\python\\python39\\lib\\site-packages (from spacy==2.3.5) (1.0.0)\n",
      "Requirement already satisfied: srsly<1.1.0,>=1.0.2 in c:\\users\\lhustvei\\appdata\\local\\programs\\python\\python39\\lib\\site-packages (from spacy==2.3.5) (1.0.5)\n",
      "Requirement already satisfied: tqdm<5.0.0,>=4.38.0 in c:\\users\\lhustvei\\appdata\\local\\programs\\python\\python39\\lib\\site-packages (from spacy==2.3.5) (4.54.1)\n",
      "Requirement already satisfied: plac<1.2.0,>=0.9.6 in c:\\users\\lhustvei\\appdata\\local\\programs\\python\\python39\\lib\\site-packages (from spacy==2.3.5) (1.1.3)\n",
      "Requirement already satisfied: murmurhash<1.1.0,>=0.28.0 in c:\\users\\lhustvei\\appdata\\local\\programs\\python\\python39\\lib\\site-packages (from spacy==2.3.5) (1.0.5)\n",
      "Requirement already satisfied: setuptools in c:\\users\\lhustvei\\appdata\\local\\programs\\python\\python39\\lib\\site-packages (from spacy==2.3.5) (49.2.1)\n",
      "Requirement already satisfied: wasabi<1.1.0,>=0.4.0 in c:\\users\\lhustvei\\appdata\\local\\programs\\python\\python39\\lib\\site-packages (from spacy==2.3.5) (0.8.2)\n",
      "Requirement already satisfied: thinc<7.5.0,>=7.4.1 in c:\\users\\lhustvei\\appdata\\local\\programs\\python\\python39\\lib\\site-packages (from spacy==2.3.5) (7.4.5)\n",
      "Requirement already satisfied: preshed<3.1.0,>=3.0.2 in c:\\users\\lhustvei\\appdata\\local\\programs\\python\\python39\\lib\\site-packages (from spacy==2.3.5) (3.0.5)\n",
      "Requirement already satisfied: cymem<2.1.0,>=2.0.2 in c:\\users\\lhustvei\\appdata\\local\\programs\\python\\python39\\lib\\site-packages (from spacy==2.3.5) (2.0.5)\n",
      "Requirement already satisfied: chardet<5,>=3.0.2 in c:\\users\\lhustvei\\appdata\\local\\programs\\python\\python39\\lib\\site-packages (from requests<3.0.0,>=2.13.0->spacy==2.3.5) (4.0.0)\n",
      "Requirement already satisfied: urllib3<1.27,>=1.21.1 in c:\\users\\lhustvei\\appdata\\local\\programs\\python\\python39\\lib\\site-packages (from requests<3.0.0,>=2.13.0->spacy==2.3.5) (1.26.2)\n",
      "Requirement already satisfied: idna<3,>=2.5 in c:\\users\\lhustvei\\appdata\\local\\programs\\python\\python39\\lib\\site-packages (from requests<3.0.0,>=2.13.0->spacy==2.3.5) (2.10)\n",
      "Requirement already satisfied: certifi>=2017.4.17 in c:\\users\\lhustvei\\appdata\\local\\programs\\python\\python39\\lib\\site-packages (from requests<3.0.0,>=2.13.0->spacy==2.3.5) (2020.12.5)\n"
     ]
    }
   ],
   "source": [
    "!pip install -U spacy==2.3.5"
   ]
  },
  {
   "cell_type": "code",
   "execution_count": 2,
   "metadata": {},
   "outputs": [
    {
     "output_type": "stream",
     "name": "stdout",
     "text": [
      "2.3.5\n"
     ]
    }
   ],
   "source": [
    "import spacy\n",
    "print(spacy.__version__)"
   ]
  },
  {
   "cell_type": "code",
   "execution_count": 3,
   "metadata": {},
   "outputs": [
    {
     "output_type": "stream",
     "name": "stdout",
     "text": [
      "Requirement already satisfied: numpy==1.19.3 in c:\\users\\lhustvei\\appdata\\local\\programs\\python\\python39\\lib\\site-packages (1.19.3)\n"
     ]
    }
   ],
   "source": [
    "# Had to run this to make something below work.\n",
    "# This is a donwgrade of numpy to a version without a bug.\n",
    "# This is a temp solution until a new version of numpy has solved the bug.\n",
    "!pip install numpy==1.19.3 --user"
   ]
  },
  {
   "cell_type": "code",
   "execution_count": 4,
   "metadata": {},
   "outputs": [
    {
     "output_type": "stream",
     "name": "stdout",
     "text": [
      "False\nTrue\nTrue\nTrue\n"
     ]
    }
   ],
   "source": [
    "def is_float(n):\n",
    "    try:\n",
    "        support_float_with_norwegian_format = n.replace(',','.')\n",
    "        float_n = float(support_float_with_norwegian_format)\n",
    "    except ValueError:\n",
    "        return False\n",
    "    else:\n",
    "        return True\n",
    "    \n",
    "# test\n",
    "print(is_float('test'))\n",
    "print(is_float('4'))\n",
    "print(is_float('4.5'))\n",
    "print(is_float('4,5'))"
   ]
  },
  {
   "cell_type": "code",
   "execution_count": 5,
   "metadata": {},
   "outputs": [
    {
     "output_type": "stream",
     "name": "stdout",
     "text": [
      "False\nTrue\nFalse\n"
     ]
    }
   ],
   "source": [
    "def is_int(n):\n",
    "    try:\n",
    "        float_n = float(n)\n",
    "        int_n = int(float_n)\n",
    "    except ValueError:\n",
    "        return False\n",
    "    else:\n",
    "        return float_n == int_n\n",
    "\n",
    "# test\n",
    "print(is_int('test'))\n",
    "print(is_int('4'))\n",
    "print(is_int('4.5'))"
   ]
  },
  {
   "cell_type": "code",
   "execution_count": 6,
   "metadata": {},
   "outputs": [],
   "source": [
    "text = \"Radioutstyret på skip og flyttbare innretninger skal ha landbasert vedlikehold i samsvar med produsentens instruksjoner. bankfiske, bankfiske I, bankfiske II, havfiske, havfiske I, havfiske II, fjordfiske, isfarvann I, isfarvann II, kystfiske, fartsområde 1, fartsområde 2, fartsområde 3, fartsområde 4, fartsområde 5, europeisk fart, stor kystfart, internasjonal reise, intent sertifisert fartsområde, nord- og østersjøfart, oversjøiskfart, kort internasjonal reise, fart på innsjøer og elver, uinnskrenket fart.\""
   ]
  },
  {
   "cell_type": "code",
   "execution_count": 7,
   "metadata": {},
   "outputs": [
    {
     "output_type": "display_data",
     "data": {
      "text/plain": "<IPython.core.display.HTML object>",
      "text/html": "<span class=\"tex2jax_ignore\"><div class=\"entities\" style=\"line-height: 2.5; direction: ltr\">Radioutstyret på skip og flyttbare innretninger skal ha landbasert vedlikehold i samsvar med produsentens instruksjoner. \n<mark class=\"entity\" style=\"background: darksalmon; padding: 0.45em 0.6em; margin: 0 0.25em; line-height: 1; border-radius: 0.35em;\">\n    bankfiske\n    <span style=\"font-size: 0.8em; font-weight: bold; line-height: 1; border-radius: 0.35em; text-transform: uppercase; vertical-align: middle; margin-left: 0.5rem\">TRADE_AREA</span>\n</mark>\n, \n<mark class=\"entity\" style=\"background: darksalmon; padding: 0.45em 0.6em; margin: 0 0.25em; line-height: 1; border-radius: 0.35em;\">\n    bankfiske I\n    <span style=\"font-size: 0.8em; font-weight: bold; line-height: 1; border-radius: 0.35em; text-transform: uppercase; vertical-align: middle; margin-left: 0.5rem\">TRADE_AREA</span>\n</mark>\n, \n<mark class=\"entity\" style=\"background: darksalmon; padding: 0.45em 0.6em; margin: 0 0.25em; line-height: 1; border-radius: 0.35em;\">\n    bankfiske II\n    <span style=\"font-size: 0.8em; font-weight: bold; line-height: 1; border-radius: 0.35em; text-transform: uppercase; vertical-align: middle; margin-left: 0.5rem\">TRADE_AREA</span>\n</mark>\n, \n<mark class=\"entity\" style=\"background: darksalmon; padding: 0.45em 0.6em; margin: 0 0.25em; line-height: 1; border-radius: 0.35em;\">\n    havfiske\n    <span style=\"font-size: 0.8em; font-weight: bold; line-height: 1; border-radius: 0.35em; text-transform: uppercase; vertical-align: middle; margin-left: 0.5rem\">TRADE_AREA</span>\n</mark>\n, \n<mark class=\"entity\" style=\"background: darksalmon; padding: 0.45em 0.6em; margin: 0 0.25em; line-height: 1; border-radius: 0.35em;\">\n    havfiske I\n    <span style=\"font-size: 0.8em; font-weight: bold; line-height: 1; border-radius: 0.35em; text-transform: uppercase; vertical-align: middle; margin-left: 0.5rem\">TRADE_AREA</span>\n</mark>\n, \n<mark class=\"entity\" style=\"background: darksalmon; padding: 0.45em 0.6em; margin: 0 0.25em; line-height: 1; border-radius: 0.35em;\">\n    havfiske II\n    <span style=\"font-size: 0.8em; font-weight: bold; line-height: 1; border-radius: 0.35em; text-transform: uppercase; vertical-align: middle; margin-left: 0.5rem\">TRADE_AREA</span>\n</mark>\n, \n<mark class=\"entity\" style=\"background: darksalmon; padding: 0.45em 0.6em; margin: 0 0.25em; line-height: 1; border-radius: 0.35em;\">\n    fjordfiske\n    <span style=\"font-size: 0.8em; font-weight: bold; line-height: 1; border-radius: 0.35em; text-transform: uppercase; vertical-align: middle; margin-left: 0.5rem\">TRADE_AREA</span>\n</mark>\n, \n<mark class=\"entity\" style=\"background: darksalmon; padding: 0.45em 0.6em; margin: 0 0.25em; line-height: 1; border-radius: 0.35em;\">\n    isfarvann I\n    <span style=\"font-size: 0.8em; font-weight: bold; line-height: 1; border-radius: 0.35em; text-transform: uppercase; vertical-align: middle; margin-left: 0.5rem\">TRADE_AREA</span>\n</mark>\n, \n<mark class=\"entity\" style=\"background: darksalmon; padding: 0.45em 0.6em; margin: 0 0.25em; line-height: 1; border-radius: 0.35em;\">\n    isfarvann II\n    <span style=\"font-size: 0.8em; font-weight: bold; line-height: 1; border-radius: 0.35em; text-transform: uppercase; vertical-align: middle; margin-left: 0.5rem\">TRADE_AREA</span>\n</mark>\n, \n<mark class=\"entity\" style=\"background: darksalmon; padding: 0.45em 0.6em; margin: 0 0.25em; line-height: 1; border-radius: 0.35em;\">\n    kystfiske\n    <span style=\"font-size: 0.8em; font-weight: bold; line-height: 1; border-radius: 0.35em; text-transform: uppercase; vertical-align: middle; margin-left: 0.5rem\">TRADE_AREA</span>\n</mark>\n, \n<mark class=\"entity\" style=\"background: darksalmon; padding: 0.45em 0.6em; margin: 0 0.25em; line-height: 1; border-radius: 0.35em;\">\n    fartsområde 1\n    <span style=\"font-size: 0.8em; font-weight: bold; line-height: 1; border-radius: 0.35em; text-transform: uppercase; vertical-align: middle; margin-left: 0.5rem\">TRADE_AREA</span>\n</mark>\n, \n<mark class=\"entity\" style=\"background: darksalmon; padding: 0.45em 0.6em; margin: 0 0.25em; line-height: 1; border-radius: 0.35em;\">\n    fartsområde 2\n    <span style=\"font-size: 0.8em; font-weight: bold; line-height: 1; border-radius: 0.35em; text-transform: uppercase; vertical-align: middle; margin-left: 0.5rem\">TRADE_AREA</span>\n</mark>\n, \n<mark class=\"entity\" style=\"background: darksalmon; padding: 0.45em 0.6em; margin: 0 0.25em; line-height: 1; border-radius: 0.35em;\">\n    fartsområde 3\n    <span style=\"font-size: 0.8em; font-weight: bold; line-height: 1; border-radius: 0.35em; text-transform: uppercase; vertical-align: middle; margin-left: 0.5rem\">TRADE_AREA</span>\n</mark>\n, \n<mark class=\"entity\" style=\"background: darksalmon; padding: 0.45em 0.6em; margin: 0 0.25em; line-height: 1; border-radius: 0.35em;\">\n    fartsområde 4\n    <span style=\"font-size: 0.8em; font-weight: bold; line-height: 1; border-radius: 0.35em; text-transform: uppercase; vertical-align: middle; margin-left: 0.5rem\">TRADE_AREA</span>\n</mark>\n, \n<mark class=\"entity\" style=\"background: darksalmon; padding: 0.45em 0.6em; margin: 0 0.25em; line-height: 1; border-radius: 0.35em;\">\n    fartsområde 5\n    <span style=\"font-size: 0.8em; font-weight: bold; line-height: 1; border-radius: 0.35em; text-transform: uppercase; vertical-align: middle; margin-left: 0.5rem\">TRADE_AREA</span>\n</mark>\n, \n<mark class=\"entity\" style=\"background: darksalmon; padding: 0.45em 0.6em; margin: 0 0.25em; line-height: 1; border-radius: 0.35em;\">\n    europeisk fart\n    <span style=\"font-size: 0.8em; font-weight: bold; line-height: 1; border-radius: 0.35em; text-transform: uppercase; vertical-align: middle; margin-left: 0.5rem\">TRADE_AREA</span>\n</mark>\n, \n<mark class=\"entity\" style=\"background: darksalmon; padding: 0.45em 0.6em; margin: 0 0.25em; line-height: 1; border-radius: 0.35em;\">\n    stor kystfart\n    <span style=\"font-size: 0.8em; font-weight: bold; line-height: 1; border-radius: 0.35em; text-transform: uppercase; vertical-align: middle; margin-left: 0.5rem\">TRADE_AREA</span>\n</mark>\n, \n<mark class=\"entity\" style=\"background: darksalmon; padding: 0.45em 0.6em; margin: 0 0.25em; line-height: 1; border-radius: 0.35em;\">\n    internasjonal reise\n    <span style=\"font-size: 0.8em; font-weight: bold; line-height: 1; border-radius: 0.35em; text-transform: uppercase; vertical-align: middle; margin-left: 0.5rem\">TRADE_AREA</span>\n</mark>\n, \n<mark class=\"entity\" style=\"background: darksalmon; padding: 0.45em 0.6em; margin: 0 0.25em; line-height: 1; border-radius: 0.35em;\">\n    intent sertifisert\n    <span style=\"font-size: 0.8em; font-weight: bold; line-height: 1; border-radius: 0.35em; text-transform: uppercase; vertical-align: middle; margin-left: 0.5rem\">TRADE_AREA</span>\n</mark>\n \n<mark class=\"entity\" style=\"background: darksalmon; padding: 0.45em 0.6em; margin: 0 0.25em; line-height: 1; border-radius: 0.35em;\">\n    fartsområde\n    <span style=\"font-size: 0.8em; font-weight: bold; line-height: 1; border-radius: 0.35em; text-transform: uppercase; vertical-align: middle; margin-left: 0.5rem\">TRADE_AREA</span>\n</mark>\n, \n<mark class=\"entity\" style=\"background: darksalmon; padding: 0.45em 0.6em; margin: 0 0.25em; line-height: 1; border-radius: 0.35em;\">\n    nord- og østersjøfart\n    <span style=\"font-size: 0.8em; font-weight: bold; line-height: 1; border-radius: 0.35em; text-transform: uppercase; vertical-align: middle; margin-left: 0.5rem\">TRADE_AREA</span>\n</mark>\n, \n<mark class=\"entity\" style=\"background: darksalmon; padding: 0.45em 0.6em; margin: 0 0.25em; line-height: 1; border-radius: 0.35em;\">\n    oversjøiskfart\n    <span style=\"font-size: 0.8em; font-weight: bold; line-height: 1; border-radius: 0.35em; text-transform: uppercase; vertical-align: middle; margin-left: 0.5rem\">TRADE_AREA</span>\n</mark>\n, \n<mark class=\"entity\" style=\"background: darksalmon; padding: 0.45em 0.6em; margin: 0 0.25em; line-height: 1; border-radius: 0.35em;\">\n    kort internasjonal reise\n    <span style=\"font-size: 0.8em; font-weight: bold; line-height: 1; border-radius: 0.35em; text-transform: uppercase; vertical-align: middle; margin-left: 0.5rem\">TRADE_AREA</span>\n</mark>\n, \n<mark class=\"entity\" style=\"background: darksalmon; padding: 0.45em 0.6em; margin: 0 0.25em; line-height: 1; border-radius: 0.35em;\">\n    fart på innsjøer og elver\n    <span style=\"font-size: 0.8em; font-weight: bold; line-height: 1; border-radius: 0.35em; text-transform: uppercase; vertical-align: middle; margin-left: 0.5rem\">TRADE_AREA</span>\n</mark>\n, \n<mark class=\"entity\" style=\"background: darksalmon; padding: 0.45em 0.6em; margin: 0 0.25em; line-height: 1; border-radius: 0.35em;\">\n    uinnskrenket fart\n    <span style=\"font-size: 0.8em; font-weight: bold; line-height: 1; border-radius: 0.35em; text-transform: uppercase; vertical-align: middle; margin-left: 0.5rem\">TRADE_AREA</span>\n</mark>\n.</div></span>"
     },
     "metadata": {}
    }
   ],
   "source": [
    "import spacy\n",
    "from spacy.lang.en import English\n",
    "from spacy.matcher import Matcher\n",
    "\n",
    "# Blank model.\n",
    "# Does not have a POS tagger.\n",
    "nlp = English()\n",
    "doc = nlp(text)\n",
    "matcher = Matcher(nlp.vocab)\n",
    "\n",
    "#\n",
    "# START - spaCy patterns\n",
    "#\n",
    "\n",
    "matcher.add(\n",
    "    \"TRADE_AREA\",\n",
    "    [\n",
    "        [\n",
    "            {\"LOWER\": {\"IN\": [\"bankfiske\"]}}\n",
    "        ],\n",
    "        [\n",
    "            {\"LOWER\": {\"IN\": [\"havfiske\"]}}\n",
    "        ],\n",
    "        [\n",
    "            {\"LOWER\": {\"IN\": [\"fjordfiske\"]}}\n",
    "        ],\n",
    "        [\n",
    "            {\"LOWER\": {\"IN\": [\"isfarvann\"]}}\n",
    "        ],\n",
    "        [\n",
    "            {\"LOWER\": {\"IN\": [\"kystfiske\"]}}\n",
    "        ],\n",
    "        [\n",
    "            {\"LOWER\": {\"IN\": [\"fartsområde\"]}}\n",
    "        ],\n",
    "        [\n",
    "            {\"LOWER\": {\"IN\": [\"europeisk\"]}},\n",
    "            {\"LOWER\": {\"IN\": [\"fart\"]}}\n",
    "        ],\n",
    "        [\n",
    "            {\"LOWER\": {\"IN\": [\"stor\"]}},\n",
    "            {\"LOWER\": {\"IN\": [\"kystfart\"]}}\n",
    "        ],\n",
    "        [\n",
    "            {\"LOWER\": {\"IN\": [\"internasjonal\"]}},\n",
    "            {\"LOWER\": {\"IN\": [\"reise\"]}}\n",
    "        ],\n",
    "        [\n",
    "            {\"LOWER\": {\"IN\": [\"intent\"]}},\n",
    "            {\"LOWER\": {\"IN\": [\"sertifisert\"]}}\n",
    "        ],\n",
    "        [\n",
    "            {\"LOWER\": {\"IN\": [\"nord-\"]}},\n",
    "            {\"LOWER\": {\"IN\": [\"og\"]}},\n",
    "            {\"LOWER\": {\"IN\": [\"østersjøfart\"]}}\n",
    "        ],\n",
    "        [\n",
    "            {\"LOWER\": {\"IN\": [\"oversjøiskfart\"]}}\n",
    "        ],\n",
    "        [\n",
    "            {\"LOWER\": {\"IN\": [\"fart\"]}},\n",
    "            {\"LOWER\": {\"IN\": [\"på\"]}},\n",
    "            {\"LOWER\": {\"IN\": [\"innsjøer\"]}},\n",
    "            {\"LOWER\": {\"IN\": [\"og\"]}},\n",
    "            {\"LOWER\": {\"IN\": [\"elver\"]}}\n",
    "        ],\n",
    "        [\n",
    "            {\"LOWER\": {\"IN\": [\"uinnskrenket\"]}},\n",
    "            {\"LOWER\": {\"IN\": [\"fart\"]}}\n",
    "        ]\n",
    "    ])\n",
    "\n",
    "#\n",
    "# END - spaCy patterns\n",
    "#\n",
    "\n",
    "result = []\n",
    "\n",
    "for match_id, token_start, token_end in matcher(doc):\n",
    "\n",
    "    match_id_as_string = nlp.vocab.strings[match_id]\n",
    "    final_token_start = token_start\n",
    "    final_token_end = token_end\n",
    "\n",
    "    spacy_pattern_detection = doc[token_start:token_end]\n",
    "    spacy_pattern_detection_as_lower_text = spacy_pattern_detection.text.lower()\n",
    "    \n",
    "    #\n",
    "    # Expand VESSEL_TYPE?\n",
    "    #\n",
    "\n",
    "    if match_id_as_string == \"TRADE_AREA\" and token_start > 0:\n",
    "\n",
    "        if spacy_pattern_detection_as_lower_text == \"internasjonal reise\":\n",
    "\n",
    "            prev_word_1_token_number = token_start - 1\n",
    "            prev_word_1_token = doc[prev_word_1_token_number]\n",
    "\n",
    "            if prev_word_1_token.text.lower() == \"kort\":\n",
    "                # Example: kort internasjonal reise\n",
    "                # Expanding.\n",
    "                final_token_start = prev_word_1_token_number\n",
    "\n",
    "        elif spacy_pattern_detection_as_lower_text == \"fartsområde\":\n",
    "\n",
    "            next_word_1_token_number = token_end\n",
    "            next_word_1_token = doc[next_word_1_token_number]\n",
    "\n",
    "            if is_int(next_word_1_token.text.lower()):\n",
    "                # Example: fartsområde 5\n",
    "                # Expanding.\n",
    "                final_token_end = next_word_1_token_number + 1\n",
    "\n",
    "        elif (spacy_pattern_detection_as_lower_text == \"bankfiske\" or \n",
    "            spacy_pattern_detection_as_lower_text == \"havfiske\" or\n",
    "            spacy_pattern_detection_as_lower_text == \"isfarvann\"):\n",
    "\n",
    "            next_word_1_token_number = token_end\n",
    "            next_word_1_token = doc[next_word_1_token_number]\n",
    "\n",
    "            if (next_word_1_token.text.lower() == \"i\" or \n",
    "                next_word_1_token.text.lower() == \"ii\"):\n",
    "                # Example: havfiske II\n",
    "                # Expanding.\n",
    "                final_token_end = next_word_1_token_number + 1\n",
    "\n",
    "    #\n",
    "    # convert token_span to char_span.\n",
    "    # char_span is needed to display correctly withdisplacy.render().\n",
    "    #\n",
    "    span = doc[final_token_start:final_token_end]\n",
    "    span_char_start = span[0].idx\n",
    "    span_char_end = span[-1].idx + len(span[-1].text)\n",
    "\n",
    "    # return result\n",
    "    identified_entity = {'start': span_char_start, 'end': span_char_end, 'label': match_id_as_string}\n",
    "    result.append(identified_entity)\n",
    "\n",
    "# display result with spacy styling\n",
    "display_this_result = {'text': text, 'ents': sorted(result, key=lambda x: x['start']), 'title': 0}\n",
    "options = {\"colors\": {\"TRADE_AREA\": \"darksalmon\"}}\n",
    "from spacy import displacy\n",
    "displacy.render(display_this_result, style='ent', manual=True, options=options)"
   ]
  },
  {
   "source": [
    "# Functions run from .py file"
   ],
   "cell_type": "markdown",
   "metadata": {}
  },
  {
   "cell_type": "code",
   "execution_count": 8,
   "metadata": {},
   "outputs": [
    {
     "output_type": "execute_result",
     "data": {
      "text/plain": [
       "[{'start': 121, 'end': 130, 'label': 'TRADE_AREA'},\n",
       " {'start': 132, 'end': 143, 'label': 'TRADE_AREA'},\n",
       " {'start': 145, 'end': 157, 'label': 'TRADE_AREA'},\n",
       " {'start': 159, 'end': 167, 'label': 'TRADE_AREA'},\n",
       " {'start': 169, 'end': 179, 'label': 'TRADE_AREA'},\n",
       " {'start': 181, 'end': 192, 'label': 'TRADE_AREA'},\n",
       " {'start': 194, 'end': 204, 'label': 'TRADE_AREA'},\n",
       " {'start': 206, 'end': 217, 'label': 'TRADE_AREA'},\n",
       " {'start': 219, 'end': 231, 'label': 'TRADE_AREA'},\n",
       " {'start': 233, 'end': 242, 'label': 'TRADE_AREA'},\n",
       " {'start': 244, 'end': 257, 'label': 'TRADE_AREA'},\n",
       " {'start': 259, 'end': 272, 'label': 'TRADE_AREA'},\n",
       " {'start': 274, 'end': 287, 'label': 'TRADE_AREA'},\n",
       " {'start': 289, 'end': 302, 'label': 'TRADE_AREA'},\n",
       " {'start': 304, 'end': 317, 'label': 'TRADE_AREA'},\n",
       " {'start': 319, 'end': 333, 'label': 'TRADE_AREA'},\n",
       " {'start': 335, 'end': 348, 'label': 'TRADE_AREA'},\n",
       " {'start': 350, 'end': 369, 'label': 'TRADE_AREA'},\n",
       " {'start': 371, 'end': 389, 'label': 'TRADE_AREA'},\n",
       " {'start': 390, 'end': 401, 'label': 'TRADE_AREA'},\n",
       " {'start': 403, 'end': 424, 'label': 'TRADE_AREA'},\n",
       " {'start': 426, 'end': 440, 'label': 'TRADE_AREA'},\n",
       " {'start': 442, 'end': 466, 'label': 'TRADE_AREA'},\n",
       " {'start': 468, 'end': 493, 'label': 'TRADE_AREA'},\n",
       " {'start': 495, 'end': 512, 'label': 'TRADE_AREA'}]"
      ]
     },
     "metadata": {},
     "execution_count": 8
    }
   ],
   "source": [
    "#\n",
    "# Something that must be done \n",
    "# to make the notebook reload a function\n",
    "# from a costum .py file.\n",
    "#\n",
    "\n",
    "%reload_ext autoreload\n",
    "%autoreload 2\n",
    "\n",
    "import importlib\n",
    "\n",
    "import spacy_matching_rule_identify_TRADE_AREA_no\n",
    "\n",
    "from spacy_matching_rule_identify_TRADE_AREA_no import identify_TRADE_AREA_in_text\n",
    "\n",
    "importlib.reload(spacy_matching_rule_identify_TRADE_AREA_no)\n",
    "\n",
    "################\n",
    "################\n",
    "\n",
    "identify_TRADE_AREA_in_text(text)"
   ]
  }
 ]
}