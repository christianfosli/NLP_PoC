{
 "metadata": {
  "language_info": {
   "codemirror_mode": {
    "name": "ipython",
    "version": 3
   },
   "file_extension": ".py",
   "mimetype": "text/x-python",
   "name": "python",
   "nbconvert_exporter": "python",
   "pygments_lexer": "ipython3",
   "version": "3.9.1-final"
  },
  "orig_nbformat": 2,
  "kernelspec": {
   "name": "python3",
   "display_name": "Python 3.9.1 64-bit",
   "metadata": {
    "interpreter": {
     "hash": "bc7b4049655db007e138d1fbf3ac1680a217a67446542a40573b08e37e7f2b2f"
    }
   }
  }
 },
 "nbformat": 4,
 "nbformat_minor": 2,
 "cells": [
  {
   "cell_type": "code",
   "execution_count": 3,
   "metadata": {},
   "outputs": [
    {
     "output_type": "stream",
     "name": "stdout",
     "text": [
      "Requirement already satisfied: nltk in c:\\users\\lhustvei\\appdata\\local\\programs\\python\\python39\\lib\\site-packages (3.5)\nRequirement already satisfied: click in c:\\users\\lhustvei\\appdata\\local\\programs\\python\\python39\\lib\\site-packages (from nltk) (7.1.2)\nRequirement already satisfied: joblib in c:\\users\\lhustvei\\appdata\\local\\programs\\python\\python39\\lib\\site-packages (from nltk) (1.0.0)\nRequirement already satisfied: regex in c:\\users\\lhustvei\\appdata\\local\\programs\\python\\python39\\lib\\site-packages (from nltk) (2020.11.13)\nRequirement already satisfied: tqdm in c:\\users\\lhustvei\\appdata\\local\\programs\\python\\python39\\lib\\site-packages (from nltk) (4.54.1)\n"
     ]
    }
   ],
   "source": [
    "!pip install nltk"
   ]
  },
  {
   "cell_type": "code",
   "execution_count": 4,
   "metadata": {},
   "outputs": [
    {
     "output_type": "stream",
     "name": "stdout",
     "text": [
      "['3. Fire, machinery and electric installations\\n', '\\n', 'Section 7. Scope of application of this chapter\\n', '(1) This chapter applies to vessels constructed after 2 January 1988.\\n', '(2) Vessels constructed before 2 January 1988 shall be constructed and equipped in accordance with the rules applicable at the time of construction of the vessel, unless otherwise provided by the individual provisions of this chapter.\\n', '(3) When a vessel is substantially altered or modified, the vessel shall comply with the requirements for a new vessel.\\n', '\\n', '0\\tAmended by Regulation of 4 May 2015 No.. 445 (in force on 6 May 2015).\\n', '\\n', '\\n', '\\n', 'Section 8. Fire safety\\n', '(1) Vessels constructed after 1 January 1992 shall have structural fire protection in accordance with chapter C14 of Nordic Boat Standard (1990), unless otherwise provided by the individual provisions of this chapter.\\n', '(2) Vessels constructed before 1 January 1992 shall have structural fire protection in accordance with the rules applicable at the time of construction of the vessel.\\n', '(3) Irrespective of the year of construction of the vessel, gasfired installations shall satisfy the requirements of Regulations of 20 October 1983 No. 1580 on safety precautions for gasfired installations, etc. operating on propane or other liquefied hydrocarbon gases used on board vessels.\\n', '\\n', 'Section 9. Oil-fired stoves\\n', '(1) Stoves with electric power supply shall have an oil supply which shuts off automatically if:\\n', 'a)\\tthe stove is over-heated (maximum 400°C in smoke gas);\\n', '\\n', 'b)\\tthe flame goes out;\\n', '\\n', 'c)\\ta failure occurs in the supply of air or power.\\n', '\\n', '(2) Stoves without electric power supply shall have an oil supply which shuts off automatically if\\n', 'a)\\tthe stove is over-heated (maximum 400°C in smoke gas);\\n', '\\n', 'b)\\tthe flame goes out.\\n', '\\n', '(3) Drip regulation stoves (regulation valve with observation hole) need not have automatic shutoff of the oil supply if the flame will go out due to the oil consumption being limited by an oil regulation valve. The installation instructions shall indicate the maximum permitted difference in height between the oil tank and the regulation valve. An oil pressure reduction valve shall be fitted if satisfactory regulation of the oil supply cannot be achieved through pressure variations. The overflow system shall be capable of receiving the full volume of the tank.\\n', '(4) The resetting of the safety function shall be manual.\\n', '(5) The installation instructions shall be kept on board. The instructions for use shall be posted near the stove.\\n', '(6) Stoves with accessories shall be installed in accordance with the installation instructions from the manufacturer.\\n', '(7) Stoves shall have smoke outlet to uptake.\\n', '\\n', 'Section 10. Installation, etc. of oilfired stove\\n', '(1) Stoves shall be securely fixed to the floor or to a fixed bench, if possible near the centre line of the vessel.\\n', '(2) Stoves without automatic shutoff of oil supply in the event of the flame going out, shall be provided with a separate oil tank of maximum 40 litres. The oil tank shall not be filled automatically, and shall be placed on the height indicated in the installation instructions.\\n', '(3) The oil tank shall have a water separator and a plug for draining off possible collection of water and shall be placed outside the space where the stove is installed.\\n', '(4) The oil pipe to the regulator shall have a filter for the separation of mud and water. The filter shall not be fitted above the stove.\\n', '(5) Pipes made of copper or equivalent material shall be used between the tank and the stove. The pipes shall be fixed and placed so as to prevent the formation of air pockets.\\n', '(6) Stoves shall have overflow openings with drain pipes and collection tank. Both the stove and the float valve, if used, shall be connected to the collection tank.\\n', '(7) Smoke uptake pipes shall have a diameter which is not less than the smoke outlet of the stove, and the piping shall be made as straight as possible.\\n', '(8) Drainage of condensed water/mud, cleaning of filters, inspection of burners and other components shall be carried out in the time intervals stipulated in the operating instructions.\\n', '(9) Spaces with a stove shall be well ventilated.\\n', '(10) On vessels of 8 to 15 metres in overall length the stove shall be inspected by an approved company within six months of being installed.\\n', '\\n', 'Section 11. Insulation of fireplaces, etc.\\n', '(1) Bulkheads shall be insulated with non-combustible material in accordance with Appendix 4.\\n', '(2) Below stoves, wooden floor or combustible floor covering shall be protected by steel or aluminium sheets covering the whole floor area under the fireplace and in front of the stove at least 15 cm from the fire door. Where the stove is placed on a bench or similar, the bench shall be protected by non-combustible material.\\n', '\\n', 'Section 12. Smoke uptake and exhaust pipes\\n', '(1) Smoke uptakes and exhaust pipes shall consist of at least 3 mm thick steel plates and shall be securely fixed. Smoke uptakes shall be carried at least 1.3 m above deck.\\n', '(2) Saucer formed rockwool sheets of at least 6 cm thickness shall be provided between smoke uptake and combustible material. Insulation in the form of non-combustible material shall be provided between metal cover plates and combustible material. Alternatively, a pipe with a diameter at least 6 cm larger than the smoke uptake pipe may be fitted outside this pipe, in order to provide vertical air circulation between the pipes. Insulation by saucer formed rockwool or mineral wool twine of at least 3 cm thickness shall be provided between the outer pipe and combustible material. The pipe shall be carried to at least 1 m above the deck, and the outlet shall be protected with a collar.\\n', '(3) When smoke uptake is carried along a bulkhead, the bulkhead shall be insulated with non-combustible material. Smoke uptakes shall not be placed closer than 10 cm to insulated bulkheads. Where the smoke uptake (pipe) is insulated with saucer formed rockwool or mineral wool twine of at least 2 cm thickness, the distance to the insulated bulkhead may be reduced to 5 cm.\\n', '(4) Any exhaust manifold which is not watercooled, and parts of exhaust pipes which may cause ignition, shall be insulated so that oil cannot penetrate. Where gases are watercooled, other arrangements may be accepted. Exhaust pipes shall not be closer than 2 cm to combustible material.\\n', '(5) Oil pipes shall be placed as far as possible away from exhaust pipes and hot engine parts.\\n', '\\n', 'Section 13. Insulation with non-combustible material\\n', 'Non-combustible material means a material which, when tested and evaluated in accordance with MSC.61(67) (the FTP Code), satisfies the requirements for qualifying materials as non-combustible. The insulation shall, if necessary in order to preserve the fire-insulating effect, be mounted with a sheet of galvanized steel or aluminium.\\n', '\\n', 'Section 14. Insulation of machinery spaces in wooden vessels\\n', '(1) Machinery spaces in wooden vessels shall have floors of steel or aluminium plates. Machinery spaces shall be insulated with non-combustible material or have an approved fire-extinguishing system.\\n', '(2) In machinery spaces without inside planking, wooden casings, beams and surfaces under deck as well as bulkheads forwards and aft in the machinery space shall be insulated with non-combustible material.\\n', '(3) In machinery spaces with inside planking, all woodwork shall be insulated with non-combustible material down to the lower edge of the floor. No insulation is required behind fuel oil tanks if the other insulation is fitted tightly around the tank.\\n', '(4) In vessels where the engine is not placed in a separate compartment, all combustible material which is exposed to heat from exhaust manifolds, exhaust pipes, etc. shall be insulated with non-combustible material. When an engine cover is used, this shall be insulated on the inside and be mounted with a galvanized steel or aluminium sheet.\\n', '\\n', 'Section 15. Fire-extinguishing systems in machinery spaces\\n', '(1) Vessels of 10.67 to 15 metres in overall length shall have a fire-extinguishing system. When there are persons on board, the fire-extinguishing system shall only be capable of manual release.\\n', '(2) Extinguishing medium shall be of an approved type. The amount of extinguishing medium is determined in each individual case depending on the size of the machinery space.\\n', '(3) The fire-extinguishing system shall only be capable of being released from a position outside the machinery space. The release equipment shall be clearly marked, provided with instructions for use and protected against unintentional release.\\n', '(4) Vessels of less than 10.67 metres in overall length constructed after 1 January 1992 may as an alternative be equipped with a fire-extinguishing system in accordance with guidelines laid down in chapter C14 of Nordic Boat Standard (1990).\\n', '(5) CO2 containers and other containers for extinguishing gas which could may be hazardous in the event of a leak, with appurtenant release device, shall be placed in a separate space/locker outside the machinery space. Gastight bulkheads shall be provided to adjacent spaces and entrance from open deck. An alarm signal shall be activated automatically when the CO2 space/locker is opened. It should be ensured that no persons are present in the machinery space before the CO2 gas is released. The space/locker for release of CO2 shall have ventilation to the open air.\\n', '\\n', 'Section 16. Fire detection and alarm system\\n', '(1) Vessels of 10.67 to 15 metres in overall length, irrespective of year of construction, shall have fire detection system and fire alarm system for machinery spaces and smoke alarm system for the cabins in accordance with Appendix 5.\\n', '(2) Vessels of less than 10.67 meters in overall length shall be fitted with at least one smoke detector and one heat detector in machinery spaces, at least one smoke detector in recreational spaces, and at least one smoke detector in the wheelhouse.\\n', '\\n', 'Section 17. Fire extinguishers\\n', '(1) All vessels, irrespective of year of construction, shall have at least two approved fire extinguishers of at least 6 kg. At least one approved fire extinguisher shall be placed at a suitable place outside the machinery space and at least one approved fire extinguisher shall be placed in the accommodation spaces. For vessels without wheelhouse or accommodation spaces one fire extinguisher is sufficient.\\n', '(1) Fire extinguishers with pressurised extinguishing medium shall not be placed in accommodation spaces. Fire extinguishers which may be exposed to frost shall be of a frost-proof type.\\n', '(3) At least one spare charge shall be provided for each extinguisher. If the extinguisher is of a type that cannot be charged on board, the number of extinguishers shall be increased by 50 per cent.\\n', '(4) Fire extinguishers shall be inspected annually in accordance with NS3910. The date of the inspection shall be marked on the extinguisher.\\n', '\\n', '0\\tAmended by Regulation of 4 May 2015 No.. 445 (in force on 6 May 2015).\\n', '\\n', '\\n', '\\n', 'Section 18. Ventilation systems\\n', \"The vessel's machinery space shall have at least two ventilators capable of being closed from deck. Cabins shall have at least two ventilators with a diameter of at least 8 cm.\\n\", '\\n', 'Section 19. Materials, etc.\\n', 'Materials, varnishes, paints, etc. produced on a nitrocellulose basis or any other basis which will readily ignite are not permitted to be used anywhere on board.\\n', '\\n', 'Section 20. Storage of oil fuel and other flammable liquids\\n', '(1) Oil fuel shall be stored in tanks of steel or equivalent material.\\n', '(2) Outlets from oil fuel tanks shall be fitted with a closing valve or cock on the tank itself, which is capable of being closed from the deck. Test cocks and cocks for oil gauge glass shall be of a self-closing type. The tank shall be fitted with drip trays. In decked vessels with machinery space, filling pipes and airing pipes shall be carried through the deck and into open air.\\n', '(3) If extra fuel or other flammable liquids cannot be placed on open deck, they shall be stored in suitable containers in a well-ventilated room/locker with a door communicating only with open deck and without electrical or other sources of ignition.\\n', '\\n', 'Section 21. Materials in pipelines, etc.\\n', '(1) Seawater pipes, bilge pipes, pipes conveying oil and other pipelines required for the safety of the ship shall be made of non-combustible material. Short, flexible pipe connections made of a material which is not easily rendered ineffective by heat, may be accepted on:\\n', 'a)\\tseawater pipes;\\n', '\\n', 'b)\\tshort, flexible pipe connections on pipes conveying oil, when necessitated by vibrations.\\n', '\\n', '(2) Where failure of the material due to fire may lead to flooding, scuppers, sanitary discharges or other outlets which are close to the waterline shall be made of oil-resistant and reinforced materials which are not easily damaged by heat.\\n', '\\n', 'Section 22.  Machinery and piping systems\\n', '(1) Vessels constructed after 1 January 1992 shall satisfy the requirements of Nordic Boat Standard (1990)\\n', 'a)\\tC6 on bilge systems;\\n', '\\n', 'b)\\tC9 on oil fuel systems;\\n', '\\n', 'c)\\tC8 on engine installations; and\\n', '\\n', 'd)\\tC7 and C10 on rudder and propeller arrangements.\\n', '\\n', '(2) Vessels constructed before 1 January 1992 shall as far as possible satisfy the requirements of Nordic Boat Standard (1990 chapter C6 on bilge systems.\\n', '\\n', 'Section 23. Electrical installations\\n', '(1) Vessels of 6 to 15 metres in overall length constructed after 1 January 1992 with electrical installations with voltages of up to 50 V shall satisfy the requirements of Nordic Boat Standard (1990) C11 on electrical installations.\\n', '(2) Vessels of 6 to 15 metres in overall length constructed before 1 January 1992 with electrical installations with voltages of up to 50 V shall be in compliance with the rules in force at the time of construction.\\n', '(3) Vessels of 6 to 15 metres in overall length constructed between 1 January 1992 and 2002 with electrical installations with voltages of more than 50 V shall satisfy the requirements laid down in the now repealed Regulations of 1 March 1990 No. 125 for electrical installations - Maritime installations.\\n', '(4) Vessels of 6 to 15 metres in overall length constructed after 1 January 2002 with electrical installations with voltages of more than 50 V shall satisfy the requirements laid down in Regulations of 4 December 2001 No. 1450 concerning maritime electrical installations, laid down by the Norwegian Directorate for Civil Protection.\\n', '\\n', 'Section 24. Emergency source of power and emergency lighting, etc.\\n', '(1) Vessels of 10.67 to 15 metres in overall length constructed after 1 January 1992 shall have an emergency source of power providing satisfactory lighting for at least 2 hours to:\\n', 'a)\\tlighting in areas with life-saving appliances and launching arrangements;\\n', '\\n', 'b)\\tlighting in alleyways, stairways and exits to the life-saving appliances and of the sea where the life-saving appliances are launched;\\n', '\\n', 'c)\\tnecessary navigation lights; and\\n', '\\n', 'd)\\trequired alarm system.\\n', '\\n', '(2) The emergency power shall be provided by one of the following two sources:\\n', 'a)\\tan accumulator battery capable of carrying the load pursuant to the first paragraph without recharging or suffering an excessive voltage drop, and which is automatically connected to the emergency switchboard when the main power fails; or\\n', '\\n', 'b)\\ta generator driven by a suitable type of power machinery with an independent supply of fuel, appropriate starting arrangements and driven by fuel having a flashpoint of not less than 43°C (110°F).\\n', '\\n', '(3) The entire installation shall be capable of operating even when the vessel is listed to 22.5 degrees or when the trim of the vessel is 10 degrees.\\n', '(4) Switchboards for main power and emergency power shall be clearly marked and be placed, as far as practicable, so that they cannot be exposed to water or fire. The emergency source of power shall if possible be placed above deck. If the emergency source of power is placed in the machinery space, it shall be placed above the floor and in a well-ventilated place.\\n', '(5) The emergency source of power and the emergency lighting on vessels constructed before 1 January 1992 shall be in accordance with the rules in force at the time of construction.\\n', '\\n', 'Section 25. Equivalents\\n', 'Vessels constructed pursuant to Nordic Boat Standard (1990) are considered to satisfy the requirements of sections 18, 19 and 20.\\n']\n"
     ]
    }
   ],
   "source": [
    "with open('./input - Chapter 3 - Text from word document with correct formating.txt', 'r', encoding=\"utf-8\") as f:\n",
    "\n",
    "    file_lines = f.readlines() \n",
    "    \n",
    "print(file_lines)"
   ]
  },
  {
   "source": [
    "# Input 1 - identify_section_span"
   ],
   "cell_type": "markdown",
   "metadata": {}
  },
  {
   "cell_type": "code",
   "execution_count": 6,
   "metadata": {},
   "outputs": [
    {
     "output_type": "execute_result",
     "data": {
      "text/plain": [
       "[('7', 2, 10),\n",
       " ('8', 11, 15),\n",
       " ('9', 16, 34),\n",
       " ('10', 35, 46),\n",
       " ('11', 47, 50),\n",
       " ('12', 51, 57),\n",
       " ('13', 58, 60),\n",
       " ('14', 61, 66),\n",
       " ('15', 67, 73),\n",
       " ('16', 74, 77),\n",
       " ('17', 78, 87),\n",
       " ('18', 88, 90),\n",
       " ('19', 91, 93),\n",
       " ('20', 94, 98),\n",
       " ('21', 99, 106),\n",
       " ('22', 107, 118),\n",
       " ('23', 119, 124),\n",
       " ('24', 125, 143),\n",
       " ('25', 144, 145)]"
      ]
     },
     "metadata": {},
     "execution_count": 6
    }
   ],
   "source": [
    "#\n",
    "# Something that must be done \n",
    "# to make the notebook reload a function\n",
    "# from a costum .py file.\n",
    "#\n",
    "\n",
    "%reload_ext autoreload\n",
    "%autoreload 2\n",
    "\n",
    "import importlib\n",
    "\n",
    "import identify_section_span\n",
    "\n",
    "from identify_section_span import list_section_span_from_file_lines\n",
    "\n",
    "importlib.reload(identify_section_span)\n",
    "\n",
    "################\n",
    "################\n",
    "\n",
    "input_identify_section_span = list_section_span_from_file_lines(file_lines)\n",
    "\n",
    "input_identify_section_span"
   ]
  },
  {
   "source": [
    "# Code"
   ],
   "cell_type": "markdown",
   "metadata": {}
  },
  {
   "cell_type": "code",
   "execution_count": 7,
   "metadata": {},
   "outputs": [
    {
     "output_type": "execute_result",
     "data": {
      "text/plain": [
       "'21'"
      ]
     },
     "metadata": {},
     "execution_count": 7
    }
   ],
   "source": [
    "# Fuction that find section of an sentence index number\n",
    "\n",
    "def get_section_from_sentence_index_number(sentence_index_number):\n",
    "    \n",
    "    for (section_as_string,span_start,span_end) in input_identify_section_span:\n",
    "        \n",
    "        if sentence_index_number >= span_start and sentence_index_number <= span_end:\n",
    "            return section_as_string\n",
    "            \n",
    "    return \"none\"\n",
    "\n",
    "get_section_from_sentence_index_number(103)"
   ]
  },
  {
   "cell_type": "code",
   "execution_count": 8,
   "metadata": {},
   "outputs": [
    {
     "output_type": "stream",
     "name": "stdout",
     "text": [
      "False\nTrue\nTrue\n"
     ]
    }
   ],
   "source": [
    "def is_float(n):\n",
    "    try:\n",
    "        float_n = float(n)\n",
    "    except ValueError:\n",
    "        return False\n",
    "    else:\n",
    "        return True\n",
    "    \n",
    "# test\n",
    "print(is_float('test'))\n",
    "print(is_float('4'))\n",
    "print(is_float('4.5'))"
   ]
  },
  {
   "source": [
    "# Input 2 - Identify sentence type"
   ],
   "cell_type": "markdown",
   "metadata": {}
  },
  {
   "cell_type": "code",
   "execution_count": 12,
   "metadata": {},
   "outputs": [
    {
     "output_type": "stream",
     "name": "stdout",
     "text": [
      "[('0', 'headline-chapter', '3'), ('1', 'none', 'none'), ('2', 'headline-section', '7'), ('3', 'part', '1'), ('4', 'part', '2'), ('5', 'part', '3'), ('6', 'none', 'none'), ('7', 'none', 'none'), ('8', 'none', 'none'), ('9', 'none', 'none'), ('10', 'none', 'none'), ('11', 'headline-section', '8'), ('12', 'part', '1'), ('13', 'part', '2'), ('14', 'part', '3'), ('15', 'none', 'none'), ('16', 'headline-section', '9'), ('17', 'part', '1'), ('18', 'sub-part', 'a'), ('19', 'none', 'none'), ('20', 'sub-part', 'b'), ('21', 'none', 'none'), ('22', 'sub-part', 'c'), ('23', 'none', 'none'), ('24', 'part', '2'), ('25', 'sub-part', 'a'), ('26', 'none', 'none'), ('27', 'sub-part', 'b'), ('28', 'none', 'none'), ('29', 'part', '3'), ('30', 'part', '4'), ('31', 'part', '5'), ('32', 'part', '6'), ('33', 'part', '7'), ('34', 'none', 'none'), ('35', 'headline-section', '10'), ('36', 'part', '1'), ('37', 'part', '2'), ('38', 'part', '3'), ('39', 'part', '4'), ('40', 'part', '5'), ('41', 'part', '6'), ('42', 'part', '7'), ('43', 'part', '8'), ('44', 'part', '9'), ('45', 'part', '10'), ('46', 'none', 'none'), ('47', 'headline-section', '11'), ('48', 'part', '1'), ('49', 'part', '2'), ('50', 'none', 'none'), ('51', 'headline-section', '12'), ('52', 'part', '1'), ('53', 'part', '2'), ('54', 'part', '3'), ('55', 'part', '4'), ('56', 'part', '5'), ('57', 'none', 'none'), ('58', 'headline-section', '13'), ('59', 'none', 'none'), ('60', 'none', 'none'), ('61', 'headline-section', '14'), ('62', 'part', '1'), ('63', 'part', '2'), ('64', 'part', '3'), ('65', 'part', '4'), ('66', 'none', 'none'), ('67', 'headline-section', '15'), ('68', 'part', '1'), ('69', 'part', '2'), ('70', 'part', '3'), ('71', 'part', '4'), ('72', 'part', '5'), ('73', 'none', 'none'), ('74', 'headline-section', '16'), ('75', 'part', '1'), ('76', 'part', '2'), ('77', 'none', 'none'), ('78', 'headline-section', '17'), ('79', 'part', '1'), ('80', 'part', '1'), ('81', 'part', '3'), ('82', 'part', '4'), ('83', 'none', 'none'), ('84', 'none', 'none'), ('85', 'none', 'none'), ('86', 'none', 'none'), ('87', 'none', 'none'), ('88', 'headline-section', '18'), ('89', 'none', 'none'), ('90', 'none', 'none'), ('91', 'headline-section', '19'), ('92', 'none', 'none'), ('93', 'none', 'none'), ('94', 'headline-section', '20'), ('95', 'part', '1'), ('96', 'part', '2'), ('97', 'part', '3'), ('98', 'none', 'none'), ('99', 'headline-section', '21'), ('100', 'part', '1'), ('101', 'sub-part', 'a'), ('102', 'none', 'none'), ('103', 'sub-part', 'b'), ('104', 'none', 'none'), ('105', 'part', '2'), ('106', 'none', 'none'), ('107', 'headline-section', '22'), ('108', 'part', '1'), ('109', 'sub-part', 'a'), ('110', 'none', 'none'), ('111', 'sub-part', 'b'), ('112', 'none', 'none'), ('113', 'sub-part', 'c'), ('114', 'none', 'none'), ('115', 'sub-part', 'd'), ('116', 'none', 'none'), ('117', 'part', '2'), ('118', 'none', 'none'), ('119', 'headline-section', '23'), ('120', 'part', '1'), ('121', 'part', '2'), ('122', 'part', '3'), ('123', 'part', '4'), ('124', 'none', 'none'), ('125', 'headline-section', '24'), ('126', 'part', '1'), ('127', 'sub-part', 'a'), ('128', 'none', 'none'), ('129', 'sub-part', 'b'), ('130', 'none', 'none'), ('131', 'sub-part', 'c'), ('132', 'none', 'none'), ('133', 'sub-part', 'd'), ('134', 'none', 'none'), ('135', 'part', '2'), ('136', 'sub-part', 'a'), ('137', 'none', 'none'), ('138', 'sub-part', 'b'), ('139', 'none', 'none'), ('140', 'part', '3'), ('141', 'part', '4'), ('142', 'part', '5'), ('143', 'none', 'none'), ('144', 'headline-section', '25'), ('145', 'none', 'none')]\n"
     ]
    }
   ],
   "source": [
    "#\n",
    "# Something that must be done \n",
    "# to make the notebook reload a function\n",
    "# from a costum .py file.\n",
    "#\n",
    "\n",
    "%reload_ext autoreload\n",
    "%autoreload 2\n",
    "\n",
    "import importlib\n",
    "\n",
    "import identify_sentence_type\n",
    "from identify_sentence_type import list_sentence_type_from_file_lines\n",
    "\n",
    "importlib.reload(identify_sentence_type)\n",
    "\n",
    "################\n",
    "################\n",
    "\n",
    "forward_sentence_type_in_a_list = list_sentence_type_from_file_lines(file_lines)\n",
    "print(forward_sentence_type_in_a_list)"
   ]
  },
  {
   "source": [
    "# Code"
   ],
   "cell_type": "markdown",
   "metadata": {}
  },
  {
   "cell_type": "code",
   "execution_count": 18,
   "metadata": {},
   "outputs": [
    {
     "output_type": "execute_result",
     "data": {
      "text/plain": [
       "('1', 'b')"
      ]
     },
     "metadata": {},
     "execution_count": 18
    }
   ],
   "source": [
    "from collections import defaultdict\n",
    "\n",
    "def get_sentence_type_from_sentence_index_number(sentence_index_number):\n",
    "\n",
    "    forward_sentence_type_from_chapter_text = defaultdict(int)\n",
    "\n",
    "    for row in forward_sentence_type_in_a_list:\n",
    "\n",
    "        line_index_number = row[0]\n",
    "        sentence_type = row[1]\n",
    "        type_value = row[2]\n",
    "\n",
    "        forward_sentence_type_from_chapter_text[int(line_index_number)] = (sentence_type,type_value)\n",
    "\n",
    "\n",
    "    sentence_type = forward_sentence_type_from_chapter_text[sentence_index_number][0]\n",
    "    type_value = forward_sentence_type_from_chapter_text[sentence_index_number][1]\n",
    "\n",
    "    if sentence_type == 'sub-part':\n",
    "\n",
    "        i = sentence_index_number - 1\n",
    "\n",
    "        while i > 0:\n",
    "            parent_sentence_type = forward_sentence_type_from_chapter_text[i][0]\n",
    "            parent_type_value = forward_sentence_type_from_chapter_text[i][1]\n",
    "\n",
    "            if parent_sentence_type == 'part':\n",
    "                return (parent_type_value,type_value)\n",
    "\n",
    "            i -= 1\n",
    "\n",
    "        return ('none',type_value)\n",
    "\n",
    "    elif sentence_type == 'part':\n",
    "        return (type_value,'none')\n",
    "\n",
    "    else:\n",
    "        return ('none','none')\n",
    "\n",
    "get_sentence_type_from_sentence_index_number(111)"
   ]
  },
  {
   "cell_type": "code",
   "execution_count": 19,
   "metadata": {},
   "outputs": [
    {
     "output_type": "stream",
     "name": "stdout",
     "text": [
      "[5, '7', '2', 'none', 'before', '2', 'January', '1988']\n[5, '8', '2', 'none', 'before', '1', 'January', '1992']\n[5, '22', '2', 'none', 'before', '1', 'January', '1992']\n[13, '23', '2', 'none', 'before', '1', 'January', '1992']\n[15, '24', '5', 'none', 'before', '1', 'January', '1992']\n"
     ]
    },
    {
     "output_type": "execute_result",
     "data": {
      "text/plain": [
       "[['7', '2', 'none', 'before', '2 January 1988'],\n",
       " ['8', '2', 'none', 'before', '1 January 1992'],\n",
       " ['22', '2', 'none', 'before', '1 January 1992'],\n",
       " ['23', '2', 'none', 'before', '1 January 1992'],\n",
       " ['24', '5', 'none', 'before', '1 January 1992']]"
      ]
     },
     "metadata": {},
     "execution_count": 19
    }
   ],
   "source": [
    "import nltk\n",
    "from nltk.tokenize import word_tokenize\n",
    "\n",
    "#\n",
    "# Find something: before\n",
    "#\n",
    "\n",
    "result_for_csv_file_before = []\n",
    "\n",
    "for line_index_number, line_text in enumerate(file_lines):\n",
    "\n",
    "    word_tokens = word_tokenize(line_text, language=\"english\")\n",
    "\n",
    "    sentence_word_count = len(word_tokens)\n",
    "\n",
    "    if sentence_word_count > 0:\n",
    "\n",
    "        nltk_concordance_index = nltk.ConcordanceIndex(word_tokens)\n",
    "\n",
    "        for offset in nltk_concordance_index.offsets(\"before\"):\n",
    "\n",
    "            identified_sentence_part_and_sub_part_as_tuple = get_sentence_type_from_sentence_index_number(line_index_number)\n",
    "            part_value = identified_sentence_part_and_sub_part_as_tuple[0]\n",
    "            sub_part_value = identified_sentence_part_and_sub_part_as_tuple[1]\n",
    "\n",
    "            if is_float(word_tokens[offset + 1] and word_tokens[offset + 3]):\n",
    "                print([\n",
    "                    offset, # index\n",
    "                    get_section_from_sentence_index_number(line_index_number),\n",
    "                    part_value,\n",
    "                    sub_part_value,\n",
    "                    word_tokens[offset], \n",
    "                    word_tokens[offset + 1], \n",
    "                    word_tokens[offset + 2], \n",
    "                    word_tokens[offset + 3]\n",
    "                ])\n",
    "\n",
    "                paragraph_number = get_section_from_sentence_index_number(line_index_number)\n",
    "\n",
    "                relation = word_tokens[offset]\n",
    "                value_1 = word_tokens[offset + 1] + \" \" + word_tokens[offset + 2] + \" \" + word_tokens[offset + 3]\n",
    "                \n",
    "                if word_tokens[offset + 2] == \"January\" or word_tokens[offset + 2] == \"February\" or word_tokens[offset + 2] == \"March\" or word_tokens[offset + 2] == \"April\" or word_tokens[offset + 2] == \"May\" or word_tokens[offset + 2] == \"June\" or word_tokens[offset + 2] == \"July\" or word_tokens[offset + 2] == \"August\" or word_tokens[offset + 2] == \"September\" or word_tokens[offset + 2] == \"October\" or word_tokens[offset + 2] == \"November\" or word_tokens[offset + 2] == \"December\":\n",
    "\n",
    "                    # Remove the word \"Section \" for the Java application\n",
    "                    only_output_section_number = paragraph_number.replace(\"Section \",\"\")\n",
    "\n",
    "                    result_for_csv_file_before.append([\n",
    "                        only_output_section_number,\n",
    "                        part_value,\n",
    "                        sub_part_value,\n",
    "                        relation,\n",
    "                        value_1\n",
    "                        ])\n",
    "        \n",
    "list(result_for_csv_file_before)"
   ]
  },
  {
   "cell_type": "code",
   "execution_count": 20,
   "metadata": {},
   "outputs": [
    {
     "output_type": "stream",
     "name": "stdout",
     "text": [
      "[9, '7', '1', 'none', 'after', '2', 'January', '1988']\n[5, '8', '1', 'none', 'after', '1', 'January', '1992']\n[13, '15', '4', 'none', 'after', '1', 'January', '1992']\n[5, '22', '1', 'none', 'after', '1', 'January', '1992']\n[13, '23', '1', 'none', 'after', '1', 'January', '1992']\n[13, '23', '4', 'none', 'after', '1', 'January', '2002']\n[13, '24', '1', 'none', 'after', '1', 'January', '1992']\n"
     ]
    },
    {
     "output_type": "execute_result",
     "data": {
      "text/plain": [
       "[['7', '1', 'none', 'after', '2 January 1988'],\n",
       " ['8', '1', 'none', 'after', '1 January 1992'],\n",
       " ['15', '4', 'none', 'after', '1 January 1992'],\n",
       " ['22', '1', 'none', 'after', '1 January 1992'],\n",
       " ['23', '1', 'none', 'after', '1 January 1992'],\n",
       " ['23', '4', 'none', 'after', '1 January 2002'],\n",
       " ['24', '1', 'none', 'after', '1 January 1992']]"
      ]
     },
     "metadata": {},
     "execution_count": 20
    }
   ],
   "source": [
    "#\n",
    "# Find something: after\n",
    "#\n",
    "\n",
    "result_for_csv_file_after = []\n",
    "\n",
    "for line_index_number, line_text in enumerate(file_lines):\n",
    "\n",
    "    word_tokens = word_tokenize(line_text, language=\"english\")\n",
    "\n",
    "    sentence_word_count = len(word_tokens)\n",
    "\n",
    "    if sentence_word_count > 0:\n",
    "\n",
    "        nltk_concordance_index = nltk.ConcordanceIndex(word_tokens)\n",
    "\n",
    "        for offset in nltk_concordance_index.offsets(\"after\"):\n",
    "\n",
    "            identified_sentence_part_and_sub_part_as_tuple = get_sentence_type_from_sentence_index_number(line_index_number)\n",
    "            part_value = identified_sentence_part_and_sub_part_as_tuple[0]\n",
    "            sub_part_value = identified_sentence_part_and_sub_part_as_tuple[1]\n",
    "\n",
    "            if is_float(word_tokens[offset + 1] and word_tokens[offset + 3]):\n",
    "                print([\n",
    "                    offset, # index\n",
    "                    get_section_from_sentence_index_number(line_index_number),\n",
    "                    part_value,\n",
    "                    sub_part_value,\n",
    "                    word_tokens[offset], \n",
    "                    word_tokens[offset + 1], \n",
    "                    word_tokens[offset + 2], \n",
    "                    word_tokens[offset + 3]\n",
    "                ])\n",
    "\n",
    "                paragraph_number = get_section_from_sentence_index_number(line_index_number)\n",
    "\n",
    "                relation = word_tokens[offset]\n",
    "                value_1 = word_tokens[offset + 1] + \" \" + word_tokens[offset + 2] + \" \" + word_tokens[offset + 3]\n",
    "                \n",
    "                if word_tokens[offset + 2] == \"January\" or word_tokens[offset + 2] == \"February\" or word_tokens[offset + 2] == \"March\" or word_tokens[offset + 2] == \"April\" or word_tokens[offset + 2] == \"May\" or word_tokens[offset + 2] == \"June\" or word_tokens[offset + 2] == \"July\" or word_tokens[offset + 2] == \"August\" or word_tokens[offset + 2] == \"September\" or word_tokens[offset + 2] == \"October\" or word_tokens[offset + 2] == \"November\" or word_tokens[offset + 2] == \"December\":\n",
    "\n",
    "                    # Remove the word \"Section \" for the Java application\n",
    "                    only_output_section_number = paragraph_number.replace(\"Section \",\"\")\n",
    "\n",
    "                    result_for_csv_file_after.append([\n",
    "                        only_output_section_number,\n",
    "                        part_value,\n",
    "                        sub_part_value,\n",
    "                        relation,\n",
    "                        value_1\n",
    "                        ])\n",
    "        \n",
    "list(result_for_csv_file_after)"
   ]
  },
  {
   "source": [
    "# Code above refactored to script"
   ],
   "cell_type": "markdown",
   "metadata": {}
  },
  {
   "cell_type": "code",
   "execution_count": 34,
   "metadata": {},
   "outputs": [
    {
     "output_type": "execute_result",
     "data": {
      "text/plain": [
       "[{'section_number': '7',\n",
       "  'part_value': '2',\n",
       "  'sub_part_value': 'none',\n",
       "  'relation_term': 'before',\n",
       "  'date': '2 January 1988'},\n",
       " {'section_number': '8',\n",
       "  'part_value': '2',\n",
       "  'sub_part_value': 'none',\n",
       "  'relation_term': 'before',\n",
       "  'date': '1 January 1992'},\n",
       " {'section_number': '22',\n",
       "  'part_value': '2',\n",
       "  'sub_part_value': 'none',\n",
       "  'relation_term': 'before',\n",
       "  'date': '1 January 1992'},\n",
       " {'section_number': '23',\n",
       "  'part_value': '2',\n",
       "  'sub_part_value': 'none',\n",
       "  'relation_term': 'before',\n",
       "  'date': '1 January 1992'},\n",
       " {'section_number': '24',\n",
       "  'part_value': '5',\n",
       "  'sub_part_value': 'none',\n",
       "  'relation_term': 'before',\n",
       "  'date': '1 January 1992'},\n",
       " {'section_number': '7',\n",
       "  'part_value': '1',\n",
       "  'sub_part_value': 'none',\n",
       "  'relation_term': 'after',\n",
       "  'date': '2 January 1988'},\n",
       " {'section_number': '8',\n",
       "  'part_value': '1',\n",
       "  'sub_part_value': 'none',\n",
       "  'relation_term': 'after',\n",
       "  'date': '1 January 1992'},\n",
       " {'section_number': '15',\n",
       "  'part_value': '4',\n",
       "  'sub_part_value': 'none',\n",
       "  'relation_term': 'after',\n",
       "  'date': '1 January 1992'},\n",
       " {'section_number': '22',\n",
       "  'part_value': '1',\n",
       "  'sub_part_value': 'none',\n",
       "  'relation_term': 'after',\n",
       "  'date': '1 January 1992'},\n",
       " {'section_number': '23',\n",
       "  'part_value': '1',\n",
       "  'sub_part_value': 'none',\n",
       "  'relation_term': 'after',\n",
       "  'date': '1 January 1992'},\n",
       " {'section_number': '23',\n",
       "  'part_value': '4',\n",
       "  'sub_part_value': 'none',\n",
       "  'relation_term': 'after',\n",
       "  'date': '1 January 2002'},\n",
       " {'section_number': '24',\n",
       "  'part_value': '1',\n",
       "  'sub_part_value': 'none',\n",
       "  'relation_term': 'after',\n",
       "  'date': '1 January 1992'}]"
      ]
     },
     "metadata": {},
     "execution_count": 34
    }
   ],
   "source": [
    "#\n",
    "# Something that must be done \n",
    "# to make the notebook reload a function\n",
    "# from a costum .py file.\n",
    "#\n",
    "\n",
    "%reload_ext autoreload\n",
    "%autoreload 2\n",
    "\n",
    "import importlib\n",
    "\n",
    "import identify_build_date\n",
    "import identify_section_span # Other component 1\n",
    "import identify_sentence_type # Other component 2\n",
    "\n",
    "from identify_build_date import get_section_from_sentence_index_number\n",
    "from identify_build_date import get_sentence_type_from_sentence_index_number\n",
    "from identify_build_date import find_word\n",
    "\n",
    "# Other component 1\n",
    "from identify_section_span import list_section_span_from_file_lines\n",
    "\n",
    "# Other component 2\n",
    "from identify_sentence_type import list_sentence_type_from_file_lines\n",
    "\n",
    "importlib.reload(identify_build_date)\n",
    "importlib.reload(identify_section_span)\n",
    "importlib.reload(identify_sentence_type)\n",
    "\n",
    "################\n",
    "################\n",
    "\n",
    "# Other component 1\n",
    "forward_identify_section_span = list_section_span_from_file_lines(file_lines)\n",
    "\n",
    "#test = get_section_from_sentence_index_number(103, forward_identify_section_span)\n",
    "\n",
    "# Other component 2\n",
    "forward_sentence_type_in_a_list = list_sentence_type_from_file_lines(file_lines)\n",
    "\n",
    "#test2 = get_sentence_type_from_sentence_index_number(111, forward_sentence_type_in_a_list)\n",
    "\n",
    "find_before = find_word(file_lines,forward_sentence_type_in_a_list,forward_identify_section_span,\"before\")\n",
    "find_after = find_word(file_lines,forward_sentence_type_in_a_list,forward_identify_section_span,\"after\")\n",
    "\n",
    "result_items = []\n",
    "\n",
    "for result_item in find_before:\n",
    "    data = {}\n",
    "    data['section_number'] = result_item[0]\n",
    "    data['part_value'] = result_item[1]\n",
    "    data['sub_part_value'] = result_item[2]\n",
    "    data['relation_term'] = result_item[3]\n",
    "    data['date'] = result_item[4]\n",
    "    result_items.append(data)\n",
    "\n",
    "for result_item in find_after:\n",
    "    data = {}\n",
    "    data['section_number'] = result_item[0]\n",
    "    data['part_value'] = result_item[1]\n",
    "    data['sub_part_value'] = result_item[2]\n",
    "    data['relation_term'] = result_item[3]\n",
    "    data['date'] = result_item[4]\n",
    "    result_items.append(data)\n",
    "\n",
    "result_items"
   ]
  }
 ]
}