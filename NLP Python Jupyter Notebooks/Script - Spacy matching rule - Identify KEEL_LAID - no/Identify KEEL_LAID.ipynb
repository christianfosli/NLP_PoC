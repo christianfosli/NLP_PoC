{
 "metadata": {
  "language_info": {
   "codemirror_mode": {
    "name": "ipython",
    "version": 3
   },
   "file_extension": ".py",
   "mimetype": "text/x-python",
   "name": "python",
   "nbconvert_exporter": "python",
   "pygments_lexer": "ipython3",
   "version": "3.9.1-final"
  },
  "orig_nbformat": 2,
  "kernelspec": {
   "name": "python3",
   "display_name": "Python 3.9.1 64-bit",
   "metadata": {
    "interpreter": {
     "hash": "bc7b4049655db007e138d1fbf3ac1680a217a67446542a40573b08e37e7f2b2f"
    }
   }
  }
 },
 "nbformat": 4,
 "nbformat_minor": 2,
 "cells": [
  {
   "cell_type": "code",
   "execution_count": 1,
   "metadata": {},
   "outputs": [
    {
     "output_type": "stream",
     "name": "stdout",
     "text": [
      "Requirement already satisfied: spacy==2.3.5 in c:\\users\\lhustvei\\appdata\\local\\programs\\python\\python39\\lib\\site-packages (2.3.5)\nRequirement already satisfied: thinc<7.5.0,>=7.4.1 in c:\\users\\lhustvei\\appdata\\local\\programs\\python\\python39\\lib\\site-packages (from spacy==2.3.5) (7.4.5)\nRequirement already satisfied: setuptools in c:\\users\\lhustvei\\appdata\\local\\programs\\python\\python39\\lib\\site-packages (from spacy==2.3.5) (49.2.1)\nRequirement already satisfied: tqdm<5.0.0,>=4.38.0 in c:\\users\\lhustvei\\appdata\\local\\programs\\python\\python39\\lib\\site-packages (from spacy==2.3.5) (4.54.1)\nRequirement already satisfied: numpy>=1.15.0 in c:\\users\\lhustvei\\appdata\\local\\programs\\python\\python39\\lib\\site-packages (from spacy==2.3.5) (1.19.3)\nRequirement already satisfied: srsly<1.1.0,>=1.0.2 in c:\\users\\lhustvei\\appdata\\local\\programs\\python\\python39\\lib\\site-packages (from spacy==2.3.5) (1.0.5)\nRequirement already satisfied: plac<1.2.0,>=0.9.6 in c:\\users\\lhustvei\\appdata\\local\\programs\\python\\python39\\lib\\site-packages (from spacy==2.3.5) (1.1.3)\nRequirement already satisfied: blis<0.8.0,>=0.4.0 in c:\\users\\lhustvei\\appdata\\local\\programs\\python\\python39\\lib\\site-packages (from spacy==2.3.5) (0.7.4)\nRequirement already satisfied: wasabi<1.1.0,>=0.4.0 in c:\\users\\lhustvei\\appdata\\local\\programs\\python\\python39\\lib\\site-packages (from spacy==2.3.5) (0.8.2)\nRequirement already satisfied: requests<3.0.0,>=2.13.0 in c:\\users\\lhustvei\\appdata\\local\\programs\\python\\python39\\lib\\site-packages (from spacy==2.3.5) (2.25.1)\nRequirement already satisfied: catalogue<1.1.0,>=0.0.7 in c:\\users\\lhustvei\\appdata\\local\\programs\\python\\python39\\lib\\site-packages (from spacy==2.3.5) (1.0.0)\nRequirement already satisfied: cymem<2.1.0,>=2.0.2 in c:\\users\\lhustvei\\appdata\\local\\programs\\python\\python39\\lib\\site-packages (from spacy==2.3.5) (2.0.5)\nRequirement already satisfied: preshed<3.1.0,>=3.0.2 in c:\\users\\lhustvei\\appdata\\local\\programs\\python\\python39\\lib\\site-packages (from spacy==2.3.5) (3.0.5)\nRequirement already satisfied: murmurhash<1.1.0,>=0.28.0 in c:\\users\\lhustvei\\appdata\\local\\programs\\python\\python39\\lib\\site-packages (from spacy==2.3.5) (1.0.5)\nRequirement already satisfied: urllib3<1.27,>=1.21.1 in c:\\users\\lhustvei\\appdata\\local\\programs\\python\\python39\\lib\\site-packages (from requests<3.0.0,>=2.13.0->spacy==2.3.5) (1.26.2)\nRequirement already satisfied: idna<3,>=2.5 in c:\\users\\lhustvei\\appdata\\local\\programs\\python\\python39\\lib\\site-packages (from requests<3.0.0,>=2.13.0->spacy==2.3.5) (2.10)\nRequirement already satisfied: chardet<5,>=3.0.2 in c:\\users\\lhustvei\\appdata\\local\\programs\\python\\python39\\lib\\site-packages (from requests<3.0.0,>=2.13.0->spacy==2.3.5) (4.0.0)\nRequirement already satisfied: certifi>=2017.4.17 in c:\\users\\lhustvei\\appdata\\local\\programs\\python\\python39\\lib\\site-packages (from requests<3.0.0,>=2.13.0->spacy==2.3.5) (2020.12.5)\n"
     ]
    }
   ],
   "source": [
    "!pip install -U spacy==2.3.5"
   ]
  },
  {
   "cell_type": "code",
   "execution_count": 2,
   "metadata": {},
   "outputs": [
    {
     "output_type": "stream",
     "name": "stdout",
     "text": [
      "2.3.5\n"
     ]
    }
   ],
   "source": [
    "import spacy\n",
    "print(spacy.__version__)"
   ]
  },
  {
   "cell_type": "code",
   "execution_count": 3,
   "metadata": {},
   "outputs": [
    {
     "output_type": "stream",
     "name": "stdout",
     "text": [
      "Requirement already satisfied: numpy==1.19.3 in c:\\users\\lhustvei\\appdata\\local\\programs\\python\\python39\\lib\\site-packages (1.19.3)\n"
     ]
    }
   ],
   "source": [
    "# Had to run this to make something below work.\n",
    "# This is a donwgrade of numpy to a version without a bug.\n",
    "# This is a temp solution until a new version of numpy has solved the bug.\n",
    "!pip install numpy==1.19.3 --user"
   ]
  },
  {
   "cell_type": "code",
   "execution_count": 4,
   "metadata": {},
   "outputs": [
    {
     "output_type": "stream",
     "name": "stdout",
     "text": [
      "False\nTrue\nTrue\nTrue\n"
     ]
    }
   ],
   "source": [
    "def is_float(n):\n",
    "    try:\n",
    "        support_float_with_norwegian_format = n.replace(',','.')\n",
    "        float_n = float(support_float_with_norwegian_format)\n",
    "    except ValueError:\n",
    "        return False\n",
    "    else:\n",
    "        return True\n",
    "    \n",
    "# test\n",
    "print(is_float('test'))\n",
    "print(is_float('4'))\n",
    "print(is_float('4.5'))\n",
    "print(is_float('4,5'))"
   ]
  },
  {
   "cell_type": "code",
   "execution_count": 5,
   "metadata": {},
   "outputs": [
    {
     "output_type": "stream",
     "name": "stdout",
     "text": [
      "False\nTrue\nFalse\n"
     ]
    }
   ],
   "source": [
    "def is_int(n):\n",
    "    try:\n",
    "        float_n = float(n)\n",
    "        int_n = int(float_n)\n",
    "    except ValueError:\n",
    "        return False\n",
    "    else:\n",
    "        return float_n == int_n\n",
    "\n",
    "# test\n",
    "print(is_int('test'))\n",
    "print(is_int('4'))\n",
    "print(is_int('4.5'))"
   ]
  },
  {
   "cell_type": "code",
   "execution_count": 6,
   "metadata": {},
   "outputs": [],
   "source": [
    "text = \"som er kjølstrukket eller som er på et tilsvarende byggetrinn før 1. juli 2016. Skip med lengde (L) under 24 meter som er kjølstrukket 30. desember 1954 eller senere, men før 18. juli 1982.\""
   ]
  },
  {
   "cell_type": "code",
   "execution_count": 7,
   "metadata": {},
   "outputs": [
    {
     "output_type": "display_data",
     "data": {
      "text/plain": "<IPython.core.display.HTML object>",
      "text/html": "<span class=\"tex2jax_ignore\"><div class=\"entities\" style=\"line-height: 2.5; direction: ltr\">som er \n<mark class=\"entity\" style=\"background: darksalmon; padding: 0.45em 0.6em; margin: 0 0.25em; line-height: 1; border-radius: 0.35em;\">\n    kjølstrukket\n    <span style=\"font-size: 0.8em; font-weight: bold; line-height: 1; border-radius: 0.35em; text-transform: uppercase; vertical-align: middle; margin-left: 0.5rem\">KEEL_LAID</span>\n</mark>\n eller som er på et tilsvarende byggetrinn \n<mark class=\"entity\" style=\"background: lime; padding: 0.45em 0.6em; margin: 0 0.25em; line-height: 1; border-radius: 0.35em;\">\n    før\n    <span style=\"font-size: 0.8em; font-weight: bold; line-height: 1; border-radius: 0.35em; text-transform: uppercase; vertical-align: middle; margin-left: 0.5rem\">DATE_PREFIX</span>\n</mark>\n \n<mark class=\"entity\" style=\"background: darkkhaki; padding: 0.45em 0.6em; margin: 0 0.25em; line-height: 1; border-radius: 0.35em;\">\n    1. juli 2016\n    <span style=\"font-size: 0.8em; font-weight: bold; line-height: 1; border-radius: 0.35em; text-transform: uppercase; vertical-align: middle; margin-left: 0.5rem\">DATE</span>\n</mark>\n. Skip med lengde (L) under 24 meter som er \n<mark class=\"entity\" style=\"background: darksalmon; padding: 0.45em 0.6em; margin: 0 0.25em; line-height: 1; border-radius: 0.35em;\">\n    kjølstrukket\n    <span style=\"font-size: 0.8em; font-weight: bold; line-height: 1; border-radius: 0.35em; text-transform: uppercase; vertical-align: middle; margin-left: 0.5rem\">KEEL_LAID</span>\n</mark>\n \n<mark class=\"entity\" style=\"background: darkkhaki; padding: 0.45em 0.6em; margin: 0 0.25em; line-height: 1; border-radius: 0.35em;\">\n    30. desember 1954\n    <span style=\"font-size: 0.8em; font-weight: bold; line-height: 1; border-radius: 0.35em; text-transform: uppercase; vertical-align: middle; margin-left: 0.5rem\">DATE</span>\n</mark>\n \n<mark class=\"entity\" style=\"background: mediumvioletred; padding: 0.45em 0.6em; margin: 0 0.25em; line-height: 1; border-radius: 0.35em;\">\n    eller senere\n    <span style=\"font-size: 0.8em; font-weight: bold; line-height: 1; border-radius: 0.35em; text-transform: uppercase; vertical-align: middle; margin-left: 0.5rem\">DATE_SUFFIX</span>\n</mark>\n, men \n<mark class=\"entity\" style=\"background: lime; padding: 0.45em 0.6em; margin: 0 0.25em; line-height: 1; border-radius: 0.35em;\">\n    før\n    <span style=\"font-size: 0.8em; font-weight: bold; line-height: 1; border-radius: 0.35em; text-transform: uppercase; vertical-align: middle; margin-left: 0.5rem\">DATE_PREFIX</span>\n</mark>\n \n<mark class=\"entity\" style=\"background: darkkhaki; padding: 0.45em 0.6em; margin: 0 0.25em; line-height: 1; border-radius: 0.35em;\">\n    18. juli 1982\n    <span style=\"font-size: 0.8em; font-weight: bold; line-height: 1; border-radius: 0.35em; text-transform: uppercase; vertical-align: middle; margin-left: 0.5rem\">DATE</span>\n</mark>\n.</div></span>"
     },
     "metadata": {}
    }
   ],
   "source": [
    "import spacy\n",
    "from spacy.lang.en import English\n",
    "from spacy.matcher import Matcher\n",
    "\n",
    "# Blank model.\n",
    "# Does not have a POS tagger.\n",
    "nlp = English()\n",
    "doc = nlp(text)\n",
    "matcher = Matcher(nlp.vocab)\n",
    "tokens_in_doc_count = len(doc)\n",
    "\n",
    "#\n",
    "# START - spaCy patterns\n",
    "#\n",
    "\n",
    "matcher.add(\n",
    "    \"KEEL_LAID\",\n",
    "    [\n",
    "        [\n",
    "            {\"LOWER\": {\"IN\": [\"kjølstrukk\",\"kjølstrukket\"]}}\n",
    "        ]\n",
    "    ])\n",
    "\n",
    "matcher.add(\"DATE\", None, [{'IS_DIGIT': True, 'LENGTH': 4}])\n",
    "\n",
    "#\n",
    "# END - spaCy patterns\n",
    "#\n",
    "\n",
    "result = []\n",
    "\n",
    "for match_id, token_start, token_end in matcher(doc):\n",
    "\n",
    "    match_id_as_string = nlp.vocab.strings[match_id]\n",
    "    final_token_start = token_start\n",
    "    final_token_end = token_end\n",
    "\n",
    "    spacy_pattern_detection = doc[token_start:token_end]\n",
    "    spacy_pattern_detection_as_lower_text = spacy_pattern_detection.text.lower()\n",
    "    \n",
    "    #\n",
    "    # Expand?\n",
    "    #\n",
    "\n",
    "    if match_id_as_string == \"DATE\" and token_start > 0:\n",
    "\n",
    "        # At this point, DATE is just a year string. Example: 2021\n",
    "\n",
    "        prev_word_1_token_number = token_start - 1\n",
    "        prev_word_1_token = doc[prev_word_1_token_number]\n",
    "        if prev_word_1_token.text in (\"januar\",\"februar\",\"mars\",\"april\",\"mai\",\"juni\",\"juli\",\"august\",\"september\",\"oktober\",\"november\",\"desember\"):\n",
    "            final_token_start = prev_word_1_token_number # expanding\n",
    "\n",
    "            # Expand more?\n",
    "            prev_word_2_token_number = token_start - 2\n",
    "            prev_word_2_token = doc[prev_word_2_token_number]\n",
    "            prev_word_3_token_number = token_start - 3\n",
    "            prev_word_3_token = doc[prev_word_3_token_number]\n",
    "\n",
    "            if prev_word_2_token.text == \".\" and is_int(prev_word_3_token.text):\n",
    "                final_token_start = prev_word_3_token_number # expanding\n",
    "\n",
    "                #\n",
    "                # convert token_span to char_span.\n",
    "                # char_span is needed to display correctly withdisplacy.render().\n",
    "                #\n",
    "                span = doc[final_token_start:final_token_end]\n",
    "                span_char_start = span[0].idx\n",
    "                span_char_end = span[-1].idx + len(span[-1].text)\n",
    "\n",
    "                # return result\n",
    "                identified_entity = {'start': span_char_start, 'end': span_char_end, 'label': match_id_as_string}\n",
    "                result.append(identified_entity)\n",
    "\n",
    "                #\n",
    "                # Identify prefix or suffix\n",
    "                #\n",
    "\n",
    "                if final_token_start > 0:\n",
    "\n",
    "                    prev_word_1_token_number = final_token_start - 1\n",
    "                    prev_word_1_token = doc[prev_word_1_token_number]\n",
    "\n",
    "                    if prev_word_1_token.text.lower() == \"før\":\n",
    "\n",
    "                        # Prefix detected.\n",
    "\n",
    "                        #\n",
    "                        # convert token_span to char_span.\n",
    "                        # char_span is needed to display correctly withdisplacy.render().\n",
    "                        #\n",
    "                        span = doc[prev_word_1_token_number:final_token_start]\n",
    "                        span_char_start = span[0].idx\n",
    "                        span_char_end = span[-1].idx + len(span[-1].text)\n",
    "\n",
    "                        # return result\n",
    "                        identified_entity = {'start': span_char_start, 'end': span_char_end, 'label': \"DATE_PREFIX\"}\n",
    "                        result.append(identified_entity)\n",
    "\n",
    "\n",
    "                if ((final_token_end + 1) < tokens_in_doc_count):\n",
    "\n",
    "                    next_word_1_token_number = final_token_end\n",
    "                    next_word_1_token = doc[next_word_1_token_number]\n",
    "                    next_word_2_token_number = final_token_end + 1\n",
    "                    next_word_2_token = doc[next_word_2_token_number]\n",
    "\n",
    "                    if (next_word_1_token.text.lower() == \"eller\" and\n",
    "                        next_word_2_token.text.lower() == \"senere\"):\n",
    "\n",
    "                            # Suffix detected.\n",
    "\n",
    "                            #\n",
    "                            # convert token_span to char_span.\n",
    "                            # char_span is needed to display correctly withdisplacy.render().\n",
    "                            #\n",
    "                            span = doc[next_word_1_token_number:(next_word_1_token_number + 2)]\n",
    "                            span_char_start = span[0].idx\n",
    "                            span_char_end = span[-1].idx + len(span[-1].text)\n",
    "\n",
    "                            # return result\n",
    "                            identified_entity = {'start': span_char_start, 'end': span_char_end, 'label': \"DATE_SUFFIX\"}\n",
    "                            result.append(identified_entity)\n",
    "\n",
    "    elif match_id_as_string == \"KEEL_LAID\":\n",
    "\n",
    "        #\n",
    "        # convert token_span to char_span.\n",
    "        # char_span is needed to display correctly withdisplacy.render().\n",
    "        #\n",
    "        span = doc[final_token_start:final_token_end]\n",
    "        span_char_start = span[0].idx\n",
    "        span_char_end = span[-1].idx + len(span[-1].text)\n",
    "\n",
    "        # return result\n",
    "        identified_entity = {'start': span_char_start, 'end': span_char_end, 'label': match_id_as_string}\n",
    "        result.append(identified_entity)\n",
    "\n",
    "# display result with spacy styling\n",
    "display_this_result = {'text': text, 'ents': sorted(result, key=lambda x: x['start']), 'title': 0}\n",
    "options = {\"colors\": {\"KEEL_LAID\": \"darksalmon\", \"DATE\": \"darkkhaki\", \"DATE_PREFIX\": \"lime\", \"DATE_SUFFIX\": \"mediumvioletred\"}}\n",
    "from spacy import displacy\n",
    "displacy.render(display_this_result, style='ent', manual=True, options=options)"
   ]
  },
  {
   "source": [
    "# Functions run from .py file"
   ],
   "cell_type": "markdown",
   "metadata": {}
  },
  {
   "cell_type": "code",
   "execution_count": 8,
   "metadata": {},
   "outputs": [
    {
     "output_type": "execute_result",
     "data": {
      "text/plain": [
       "[{'start': 7, 'end': 19, 'label': 'KEEL_LAID'},\n",
       " {'start': 66, 'end': 78, 'label': 'DATE'},\n",
       " {'start': 62, 'end': 65, 'label': 'DATE_PREFIX'},\n",
       " {'start': 122, 'end': 134, 'label': 'KEEL_LAID'},\n",
       " {'start': 135, 'end': 152, 'label': 'DATE'},\n",
       " {'start': 153, 'end': 165, 'label': 'DATE_SUFFIX'},\n",
       " {'start': 175, 'end': 188, 'label': 'DATE'},\n",
       " {'start': 171, 'end': 174, 'label': 'DATE_PREFIX'}]"
      ]
     },
     "metadata": {},
     "execution_count": 8
    }
   ],
   "source": [
    "#\n",
    "# Something that must be done \n",
    "# to make the notebook reload a function\n",
    "# from a costum .py file.\n",
    "#\n",
    "\n",
    "%reload_ext autoreload\n",
    "%autoreload 2\n",
    "\n",
    "import importlib\n",
    "\n",
    "import spacy_matching_rule_identify_KEEL_LAID_no\n",
    "\n",
    "from spacy_matching_rule_identify_KEEL_LAID_no import identify_KEEL_LAID_in_text\n",
    "\n",
    "importlib.reload(spacy_matching_rule_identify_KEEL_LAID_no)\n",
    "\n",
    "################\n",
    "################\n",
    "\n",
    "identify_KEEL_LAID_in_text(text)"
   ]
  }
 ]
}