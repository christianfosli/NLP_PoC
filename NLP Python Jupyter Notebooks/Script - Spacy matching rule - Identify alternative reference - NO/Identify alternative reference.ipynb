{
 "metadata": {
  "language_info": {
   "codemirror_mode": {
    "name": "ipython",
    "version": 3
   },
   "file_extension": ".py",
   "mimetype": "text/x-python",
   "name": "python",
   "nbconvert_exporter": "python",
   "pygments_lexer": "ipython3",
   "version": "3.9.1"
  },
  "orig_nbformat": 2,
  "kernelspec": {
   "name": "python3",
   "display_name": "Python 3.9.1 64-bit",
   "metadata": {
    "interpreter": {
     "hash": "1d00f79a455c158a9d21afbdaa6d5646858d1614c5754dccdb728961e9562872"
    }
   }
  }
 },
 "nbformat": 4,
 "nbformat_minor": 2,
 "cells": [
  {
   "cell_type": "code",
   "execution_count": 1,
   "metadata": {},
   "outputs": [
    {
     "output_type": "stream",
     "name": "stdout",
     "text": [
      "Requirement already satisfied: spacy==2.3.5 in c:\\users\\lhustvei\\appdata\\local\\programs\\python\\python39\\lib\\site-packages (2.3.5)\n",
      "Requirement already satisfied: numpy>=1.15.0 in c:\\users\\lhustvei\\appdata\\local\\programs\\python\\python39\\lib\\site-packages (from spacy==2.3.5) (1.19.3)\n",
      "Requirement already satisfied: wasabi<1.1.0,>=0.4.0 in c:\\users\\lhustvei\\appdata\\local\\programs\\python\\python39\\lib\\site-packages (from spacy==2.3.5) (0.8.2)\n",
      "Requirement already satisfied: thinc<7.5.0,>=7.4.1 in c:\\users\\lhustvei\\appdata\\local\\programs\\python\\python39\\lib\\site-packages (from spacy==2.3.5) (7.4.5)\n",
      "Requirement already satisfied: blis<0.8.0,>=0.4.0 in c:\\users\\lhustvei\\appdata\\local\\programs\\python\\python39\\lib\\site-packages (from spacy==2.3.5) (0.7.4)\n",
      "Requirement already satisfied: catalogue<1.1.0,>=0.0.7 in c:\\users\\lhustvei\\appdata\\local\\programs\\python\\python39\\lib\\site-packages (from spacy==2.3.5) (1.0.0)\n",
      "Requirement already satisfied: murmurhash<1.1.0,>=0.28.0 in c:\\users\\lhustvei\\appdata\\local\\programs\\python\\python39\\lib\\site-packages (from spacy==2.3.5) (1.0.5)\n",
      "Requirement already satisfied: cymem<2.1.0,>=2.0.2 in c:\\users\\lhustvei\\appdata\\local\\programs\\python\\python39\\lib\\site-packages (from spacy==2.3.5) (2.0.5)\n",
      "Requirement already satisfied: srsly<1.1.0,>=1.0.2 in c:\\users\\lhustvei\\appdata\\local\\programs\\python\\python39\\lib\\site-packages (from spacy==2.3.5) (1.0.5)\n",
      "Requirement already satisfied: setuptools in c:\\users\\lhustvei\\appdata\\local\\programs\\python\\python39\\lib\\site-packages (from spacy==2.3.5) (49.2.1)\n",
      "Requirement already satisfied: requests<3.0.0,>=2.13.0 in c:\\users\\lhustvei\\appdata\\local\\programs\\python\\python39\\lib\\site-packages (from spacy==2.3.5) (2.25.1)\n",
      "Requirement already satisfied: tqdm<5.0.0,>=4.38.0 in c:\\users\\lhustvei\\appdata\\local\\programs\\python\\python39\\lib\\site-packages (from spacy==2.3.5) (4.54.1)\n",
      "Requirement already satisfied: plac<1.2.0,>=0.9.6 in c:\\users\\lhustvei\\appdata\\local\\programs\\python\\python39\\lib\\site-packages (from spacy==2.3.5) (1.1.3)\n",
      "Requirement already satisfied: preshed<3.1.0,>=3.0.2 in c:\\users\\lhustvei\\appdata\\local\\programs\\python\\python39\\lib\\site-packages (from spacy==2.3.5) (3.0.5)\n",
      "Requirement already satisfied: certifi>=2017.4.17 in c:\\users\\lhustvei\\appdata\\local\\programs\\python\\python39\\lib\\site-packages (from requests<3.0.0,>=2.13.0->spacy==2.3.5) (2020.12.5)\n",
      "Requirement already satisfied: idna<3,>=2.5 in c:\\users\\lhustvei\\appdata\\local\\programs\\python\\python39\\lib\\site-packages (from requests<3.0.0,>=2.13.0->spacy==2.3.5) (2.10)\n",
      "Requirement already satisfied: chardet<5,>=3.0.2 in c:\\users\\lhustvei\\appdata\\local\\programs\\python\\python39\\lib\\site-packages (from requests<3.0.0,>=2.13.0->spacy==2.3.5) (4.0.0)\n",
      "Requirement already satisfied: urllib3<1.27,>=1.21.1 in c:\\users\\lhustvei\\appdata\\local\\programs\\python\\python39\\lib\\site-packages (from requests<3.0.0,>=2.13.0->spacy==2.3.5) (1.26.2)\n"
     ]
    }
   ],
   "source": [
    "!pip install -U spacy==2.3.5"
   ]
  },
  {
   "cell_type": "code",
   "execution_count": 2,
   "metadata": {},
   "outputs": [
    {
     "output_type": "stream",
     "name": "stdout",
     "text": [
      "2.3.5\n"
     ]
    }
   ],
   "source": [
    "import spacy\n",
    "print(spacy.__version__)"
   ]
  },
  {
   "cell_type": "code",
   "execution_count": 3,
   "metadata": {},
   "outputs": [
    {
     "output_type": "stream",
     "name": "stdout",
     "text": [
      "Requirement already satisfied: numpy==1.19.3 in c:\\users\\lhustvei\\appdata\\local\\programs\\python\\python39\\lib\\site-packages (1.19.3)\n"
     ]
    }
   ],
   "source": [
    "# Had to run this to make something below work.\n",
    "# This is a donwgrade of numpy to a version without a bug.\n",
    "# This is a temp solution until a new version of numpy has solved the bug.\n",
    "!pip install numpy==1.19.3 --user"
   ]
  },
  {
   "cell_type": "code",
   "execution_count": 4,
   "metadata": {},
   "outputs": [
    {
     "output_type": "stream",
     "name": "stdout",
     "text": [
      "False\nTrue\nTrue\nTrue\n"
     ]
    }
   ],
   "source": [
    "def is_float(n):\n",
    "    try:\n",
    "        support_float_with_norwegian_format = n.replace(',','.')\n",
    "        float_n = float(support_float_with_norwegian_format)\n",
    "    except ValueError:\n",
    "        return False\n",
    "    else:\n",
    "        return True\n",
    "    \n",
    "# test\n",
    "print(is_float('test'))\n",
    "print(is_float('4'))\n",
    "print(is_float('4.5'))\n",
    "print(is_float('4,5'))"
   ]
  },
  {
   "cell_type": "code",
   "execution_count": 5,
   "metadata": {},
   "outputs": [
    {
     "output_type": "stream",
     "name": "stdout",
     "text": [
      "False\nTrue\nFalse\n"
     ]
    }
   ],
   "source": [
    "def is_int(n):\n",
    "    try:\n",
    "        float_n = float(n)\n",
    "        int_n = int(float_n)\n",
    "    except ValueError:\n",
    "        return False\n",
    "    else:\n",
    "        return float_n == int_n\n",
    "\n",
    "# test\n",
    "print(is_int('test'))\n",
    "print(is_int('4'))\n",
    "print(is_int('4.5'))"
   ]
  },
  {
   "cell_type": "code",
   "execution_count": 6,
   "metadata": {},
   "outputs": [],
   "source": [
    "text = \"(3) Uavhengig av fartøyets byggedato skal gassfyrte anlegg skal tilfredsstille forskrift 20. oktober 1983 nr. 1580 om sikringstiltak for gassfyrte anlegg m.m. som bruker propan eller andre lette kullvannstoffer anvendt ombord på fartøy. (1) Fartøy med største lengde 6 til 15 meter bygget etter 1. januar 1992 med elektriske anlegg med spenning inntil 50 V skal oppfylle kravene i Nordisk Båt Standard (1990) Y11 om elektriske anlegg.\""
   ]
  },
  {
   "cell_type": "code",
   "execution_count": 7,
   "metadata": {},
   "outputs": [
    {
     "output_type": "display_data",
     "data": {
      "text/plain": "<IPython.core.display.HTML object>",
      "text/html": "<span class=\"tex2jax_ignore\"><div class=\"entities\" style=\"line-height: 2.5; direction: ltr\">(3) Uavhengig av fartøyets byggedato skal gassfyrte anlegg skal tilfredsstille \n<mark class=\"entity\" style=\"background: darksalmon; padding: 0.45em 0.6em; margin: 0 0.25em; line-height: 1; border-radius: 0.35em;\">\n    forskrift 20. oktober 1983 nr. 1580\n    <span style=\"font-size: 0.8em; font-weight: bold; line-height: 1; border-radius: 0.35em; text-transform: uppercase; vertical-align: middle; margin-left: 0.5rem\">ALTERNATIVE_REFERENCE</span>\n</mark>\n om sikringstiltak for gassfyrte anlegg m.m. som bruker propan eller andre lette kullvannstoffer anvendt ombord på fartøy. (1) Fartøy med største lengde 6 til 15 meter bygget etter 1. januar 1992 med elektriske anlegg med spenning inntil 50 V skal oppfylle kravene i \n<mark class=\"entity\" style=\"background: darksalmon; padding: 0.45em 0.6em; margin: 0 0.25em; line-height: 1; border-radius: 0.35em;\">\n    Nordisk Båt Standard (1990)\n    <span style=\"font-size: 0.8em; font-weight: bold; line-height: 1; border-radius: 0.35em; text-transform: uppercase; vertical-align: middle; margin-left: 0.5rem\">ALTERNATIVE_REFERENCE</span>\n</mark>\n Y11 om elektriske anlegg.</div></span>"
     },
     "metadata": {}
    }
   ],
   "source": [
    "import spacy\n",
    "from spacy.lang.en import English\n",
    "from spacy.matcher import Matcher\n",
    "\n",
    "# Blank model.\n",
    "# Does not have a POS tagger.\n",
    "nlp = English()\n",
    "\n",
    "doc = nlp(text)\n",
    "\n",
    "matcher = Matcher(nlp.vocab)\n",
    "\n",
    "#\n",
    "# START - spaCy patterns\n",
    "#\n",
    "\n",
    "# ALTERNATIVE_REFERENCE\n",
    "alternative_reference_patterns = [\n",
    "    [\n",
    "        {\"LOWER\": {\"IN\": [\"nr\"]}}, \n",
    "        {\"IS_PUNCT\": True}, \n",
    "        {'IS_DIGIT': True}],\n",
    "    [\n",
    "        {\"LOWER\": {\"IN\": [\"nordisk\"]}},\n",
    "        {\"LOWER\": {\"IN\": [\"båt\"]}},\n",
    "        {\"LOWER\": {\"IN\": [\"standard\"]}},\n",
    "        {\"LOWER\": {\"IN\": [\"(\"]}},\n",
    "        {'IS_DIGIT': True},\n",
    "        {\"LOWER\": {\"IN\": [\")\"]}}\n",
    "    ]\n",
    "]\n",
    "\n",
    "matcher.add(\"ALTERNATIVE_REFERENCE\", alternative_reference_patterns)\n",
    "\n",
    "#\n",
    "# END - spaCy patterns\n",
    "#\n",
    "\n",
    "result = []\n",
    "\n",
    "for match_id, token_start, token_end in matcher(doc):\n",
    "\n",
    "    match_id_as_string = nlp.vocab.strings[match_id]\n",
    "    final_token_start = token_start\n",
    "    final_token_end = token_end\n",
    "\n",
    "    spacy_pattern_detection = doc[token_start:token_end]\n",
    "    spacy_pattern_detection_as_lower_text = spacy_pattern_detection.text.lower()\n",
    "    \n",
    "    if (match_id_as_string == \"ALTERNATIVE_REFERENCE\" and\n",
    "        token_start > 5\n",
    "        and spacy_pattern_detection_as_lower_text.startswith('nr. ')): # Example: nr. 1580\n",
    "        start_word = \"forskrift\"\n",
    "        if doc[token_start - 1].text.lower() == start_word:\n",
    "            final_token_start = token_start - 1\n",
    "        elif doc[token_start - 2].text.lower() == start_word:\n",
    "            final_token_start = token_start - 2\n",
    "        elif doc[token_start - 3].text.lower() == start_word:\n",
    "            final_token_start = token_start - 3\n",
    "        elif doc[token_start - 4].text.lower() == start_word:\n",
    "            final_token_start = token_start - 4\n",
    "        elif doc[token_start - 5].text.lower() == start_word:\n",
    "            final_token_start = token_start - 5\n",
    "\n",
    "    #\n",
    "    # convert token_span to char_span.\n",
    "    # char_span is needed to display correctly withdisplacy.render().\n",
    "    #\n",
    "    span = doc[final_token_start:final_token_end]\n",
    "    span_char_start = span[0].idx\n",
    "    span_char_end = span[-1].idx + len(span[-1].text)\n",
    "\n",
    "    # return result\n",
    "    identified_entity = {'start': span_char_start, 'end': span_char_end, 'label': match_id_as_string}\n",
    "    result.append(identified_entity)\n",
    "\n",
    "# display result with spacy styling\n",
    "display_this_result = {'text': text, 'ents': sorted(result, key=lambda x: x['start']), 'title': 0}\n",
    "options = {\"colors\": {\"ALTERNATIVE_REFERENCE\": \"darksalmon\"}}\n",
    "from spacy import displacy\n",
    "displacy.render(display_this_result, style='ent', manual=True, options=options)"
   ]
  },
  {
   "source": [
    "# Functions run from .py file"
   ],
   "cell_type": "markdown",
   "metadata": {}
  },
  {
   "cell_type": "code",
   "execution_count": 8,
   "metadata": {},
   "outputs": [
    {
     "output_type": "execute_result",
     "data": {
      "text/plain": [
       "[{'start': 79, 'end': 114, 'label': 'ALTERNATIVE_REFERENCE'},\n",
       " {'start': 381, 'end': 408, 'label': 'ALTERNATIVE_REFERENCE'}]"
      ]
     },
     "metadata": {},
     "execution_count": 8
    }
   ],
   "source": [
    "#\n",
    "# Something that must be done \n",
    "# to make the notebook reload a function\n",
    "# from a costum .py file.\n",
    "#\n",
    "\n",
    "%reload_ext autoreload\n",
    "%autoreload 2\n",
    "\n",
    "import importlib\n",
    "\n",
    "import spacy_matching_rule_identify_alternative_reference_no\n",
    "\n",
    "from spacy_matching_rule_identify_alternative_reference_no import identify_alternative_reference_in_text\n",
    "\n",
    "importlib.reload(spacy_matching_rule_identify_alternative_reference_no)\n",
    "\n",
    "################\n",
    "################\n",
    "\n",
    "identify_alternative_reference_in_text(text)"
   ]
  }
 ]
}